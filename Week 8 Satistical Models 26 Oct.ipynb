{
 "cells": [
  {
   "cell_type": "markdown",
   "metadata": {},
   "source": []
  },
  {
   "cell_type": "code",
   "execution_count": 1,
   "metadata": {},
   "outputs": [
    {
     "data": {
      "text/html": [
       "<ol class=list-inline>\n",
       "\t<li>Ctl</li>\n",
       "\t<li>Ctl</li>\n",
       "\t<li>Ctl</li>\n",
       "\t<li>Ctl</li>\n",
       "\t<li>Ctl</li>\n",
       "\t<li>Ctl</li>\n",
       "\t<li>Ctl</li>\n",
       "\t<li>Ctl</li>\n",
       "\t<li>Ctl</li>\n",
       "\t<li>Ctl</li>\n",
       "\t<li>Trt</li>\n",
       "\t<li>Trt</li>\n",
       "\t<li>Trt</li>\n",
       "\t<li>Trt</li>\n",
       "\t<li>Trt</li>\n",
       "\t<li>Trt</li>\n",
       "\t<li>Trt</li>\n",
       "\t<li>Trt</li>\n",
       "\t<li>Trt</li>\n",
       "\t<li>Trt</li>\n",
       "</ol>\n",
       "\n",
       "<details>\n",
       "\t<summary style=display:list-item;cursor:pointer>\n",
       "\t\t<strong>Levels</strong>:\n",
       "\t</summary>\n",
       "\t<ol class=list-inline>\n",
       "\t\t<li>'Ctl'</li>\n",
       "\t\t<li>'Trt'</li>\n",
       "\t</ol>\n",
       "</details>"
      ],
      "text/latex": [
       "\\begin{enumerate*}\n",
       "\\item Ctl\n",
       "\\item Ctl\n",
       "\\item Ctl\n",
       "\\item Ctl\n",
       "\\item Ctl\n",
       "\\item Ctl\n",
       "\\item Ctl\n",
       "\\item Ctl\n",
       "\\item Ctl\n",
       "\\item Ctl\n",
       "\\item Trt\n",
       "\\item Trt\n",
       "\\item Trt\n",
       "\\item Trt\n",
       "\\item Trt\n",
       "\\item Trt\n",
       "\\item Trt\n",
       "\\item Trt\n",
       "\\item Trt\n",
       "\\item Trt\n",
       "\\end{enumerate*}\n",
       "\n",
       "\\emph{Levels}: \\begin{enumerate*}\n",
       "\\item 'Ctl'\n",
       "\\item 'Trt'\n",
       "\\end{enumerate*}\n"
      ],
      "text/markdown": [
       "1. Ctl\n",
       "2. Ctl\n",
       "3. Ctl\n",
       "4. Ctl\n",
       "5. Ctl\n",
       "6. Ctl\n",
       "7. Ctl\n",
       "8. Ctl\n",
       "9. Ctl\n",
       "10. Ctl\n",
       "11. Trt\n",
       "12. Trt\n",
       "13. Trt\n",
       "14. Trt\n",
       "15. Trt\n",
       "16. Trt\n",
       "17. Trt\n",
       "18. Trt\n",
       "19. Trt\n",
       "20. Trt\n",
       "\n",
       "\n",
       "\n",
       "**Levels**: 1. 'Ctl'\n",
       "2. 'Trt'\n",
       "\n",
       "\n"
      ],
      "text/plain": [
       " [1] Ctl Ctl Ctl Ctl Ctl Ctl Ctl Ctl Ctl Ctl Trt Trt Trt Trt Trt Trt Trt Trt Trt\n",
       "[20] Trt\n",
       "Levels: Ctl Trt"
      ]
     },
     "metadata": {},
     "output_type": "display_data"
    }
   ],
   "source": [
    "ctl <- c(4.17,5.58,5.18,6.11,4.50,4.61,5.17,4.53,5.33,5.14)\n",
    "trt <- c(4.81,4.17,4.41,3.59,5.87,3.83,6.03,4.89,4.32,4.69)\n",
    "group <- gl(2, 10, 20, labels = c(\"Ctl\",\"Trt\"))\n",
    "group"
   ]
  },
  {
   "cell_type": "code",
   "execution_count": 2,
   "metadata": {},
   "outputs": [
    {
     "data": {
      "text/html": [
       "<ol class=list-inline>\n",
       "\t<li>4.17</li>\n",
       "\t<li>5.58</li>\n",
       "\t<li>5.18</li>\n",
       "\t<li>6.11</li>\n",
       "\t<li>4.5</li>\n",
       "\t<li>4.61</li>\n",
       "\t<li>5.17</li>\n",
       "\t<li>4.53</li>\n",
       "\t<li>5.33</li>\n",
       "\t<li>5.14</li>\n",
       "\t<li>4.81</li>\n",
       "\t<li>4.17</li>\n",
       "\t<li>4.41</li>\n",
       "\t<li>3.59</li>\n",
       "\t<li>5.87</li>\n",
       "\t<li>3.83</li>\n",
       "\t<li>6.03</li>\n",
       "\t<li>4.89</li>\n",
       "\t<li>4.32</li>\n",
       "\t<li>4.69</li>\n",
       "</ol>\n"
      ],
      "text/latex": [
       "\\begin{enumerate*}\n",
       "\\item 4.17\n",
       "\\item 5.58\n",
       "\\item 5.18\n",
       "\\item 6.11\n",
       "\\item 4.5\n",
       "\\item 4.61\n",
       "\\item 5.17\n",
       "\\item 4.53\n",
       "\\item 5.33\n",
       "\\item 5.14\n",
       "\\item 4.81\n",
       "\\item 4.17\n",
       "\\item 4.41\n",
       "\\item 3.59\n",
       "\\item 5.87\n",
       "\\item 3.83\n",
       "\\item 6.03\n",
       "\\item 4.89\n",
       "\\item 4.32\n",
       "\\item 4.69\n",
       "\\end{enumerate*}\n"
      ],
      "text/markdown": [
       "1. 4.17\n",
       "2. 5.58\n",
       "3. 5.18\n",
       "4. 6.11\n",
       "5. 4.5\n",
       "6. 4.61\n",
       "7. 5.17\n",
       "8. 4.53\n",
       "9. 5.33\n",
       "10. 5.14\n",
       "11. 4.81\n",
       "12. 4.17\n",
       "13. 4.41\n",
       "14. 3.59\n",
       "15. 5.87\n",
       "16. 3.83\n",
       "17. 6.03\n",
       "18. 4.89\n",
       "19. 4.32\n",
       "20. 4.69\n",
       "\n",
       "\n"
      ],
      "text/plain": [
       " [1] 4.17 5.58 5.18 6.11 4.50 4.61 5.17 4.53 5.33 5.14 4.81 4.17 4.41 3.59 5.87\n",
       "[16] 3.83 6.03 4.89 4.32 4.69"
      ]
     },
     "metadata": {},
     "output_type": "display_data"
    }
   ],
   "source": [
    "weight <- c(ctl, trt)\n",
    "weight"
   ]
  },
  {
   "cell_type": "markdown",
   "metadata": {},
   "source": [
    "Create logistic regression with weight as target and variable group"
   ]
  },
  {
   "cell_type": "code",
   "execution_count": 3,
   "metadata": {},
   "outputs": [
    {
     "data": {
      "text/plain": [
       "\n",
       "Call:\n",
       "lm(formula = weight ~ group)\n",
       "\n",
       "Coefficients:\n",
       "(Intercept)     groupTrt  \n",
       "      5.032       -0.371  \n"
      ]
     },
     "metadata": {},
     "output_type": "display_data"
    }
   ],
   "source": [
    "lm.D9 <- lm(weight ~ group)\n",
    "lm.D9"
   ]
  },
  {
   "cell_type": "markdown",
   "metadata": {},
   "source": [
    "Remove one field from equation"
   ]
  },
  {
   "cell_type": "code",
   "execution_count": 4,
   "metadata": {},
   "outputs": [
    {
     "data": {
      "text/plain": [
       "\n",
       "Call:\n",
       "lm(formula = weight ~ group - 1)\n",
       "\n",
       "Coefficients:\n",
       "groupCtl  groupTrt  \n",
       "   5.032     4.661  \n"
      ]
     },
     "metadata": {},
     "output_type": "display_data"
    }
   ],
   "source": [
    "lm.D90 <- lm(weight ~ group - 1)\n",
    "lm.D90 "
   ]
  },
  {
   "cell_type": "code",
   "execution_count": 5,
   "metadata": {},
   "outputs": [
    {
     "name": "stdout",
     "output_type": "stream",
     "text": [
      "'data.frame':\t26 obs. of  2 variables:\n",
      " $ x: int  0 2 4 6 8 10 12 14 16 18 ...\n",
      " $ y: num  1 0.96 0.845 0.707 0.709 ...\n"
     ]
    }
   ],
   "source": [
    "dt=read.delim(\"sapdecay.txt\")\n",
    "str(dt)"
   ]
  },
  {
   "cell_type": "code",
   "execution_count": 6,
   "metadata": {},
   "outputs": [
    {
     "data": {
      "text/html": [
       "<table>\n",
       "<caption>A data.frame: 26 × 2</caption>\n",
       "<thead>\n",
       "\t<tr><th scope=col>x</th><th scope=col>y</th></tr>\n",
       "\t<tr><th scope=col>&lt;int&gt;</th><th scope=col>&lt;dbl&gt;</th></tr>\n",
       "</thead>\n",
       "<tbody>\n",
       "\t<tr><td> 0</td><td>1.00000000</td></tr>\n",
       "\t<tr><td> 2</td><td>0.96023540</td></tr>\n",
       "\t<tr><td> 4</td><td>0.84466377</td></tr>\n",
       "\t<tr><td> 6</td><td>0.70693633</td></tr>\n",
       "\t<tr><td> 8</td><td>0.70864140</td></tr>\n",
       "\t<tr><td>10</td><td>0.60979536</td></tr>\n",
       "\t<tr><td>12</td><td>0.51325264</td></tr>\n",
       "\t<tr><td>14</td><td>0.47139969</td></tr>\n",
       "\t<tr><td>16</td><td>0.38408127</td></tr>\n",
       "\t<tr><td>18</td><td>0.37227780</td></tr>\n",
       "\t<tr><td>20</td><td>0.33408743</td></tr>\n",
       "\t<tr><td>22</td><td>0.27330733</td></tr>\n",
       "\t<tr><td>24</td><td>0.25162333</td></tr>\n",
       "\t<tr><td>26</td><td>0.22278651</td></tr>\n",
       "\t<tr><td>28</td><td>0.21021653</td></tr>\n",
       "\t<tr><td>30</td><td>0.19059182</td></tr>\n",
       "\t<tr><td>32</td><td>0.16690720</td></tr>\n",
       "\t<tr><td>34</td><td>0.14073164</td></tr>\n",
       "\t<tr><td>36</td><td>0.12028785</td></tr>\n",
       "\t<tr><td>38</td><td>0.11646071</td></tr>\n",
       "\t<tr><td>40</td><td>0.09273687</td></tr>\n",
       "\t<tr><td>42</td><td>0.08397261</td></tr>\n",
       "\t<tr><td>44</td><td>0.08829140</td></tr>\n",
       "\t<tr><td>46</td><td>0.07179059</td></tr>\n",
       "\t<tr><td>48</td><td>0.05932741</td></tr>\n",
       "\t<tr><td>50</td><td>0.06170623</td></tr>\n",
       "</tbody>\n",
       "</table>\n"
      ],
      "text/latex": [
       "A data.frame: 26 × 2\n",
       "\\begin{tabular}{r|ll}\n",
       " x & y\\\\\n",
       " <int> & <dbl>\\\\\n",
       "\\hline\n",
       "\t  0 & 1.00000000\\\\\n",
       "\t  2 & 0.96023540\\\\\n",
       "\t  4 & 0.84466377\\\\\n",
       "\t  6 & 0.70693633\\\\\n",
       "\t  8 & 0.70864140\\\\\n",
       "\t 10 & 0.60979536\\\\\n",
       "\t 12 & 0.51325264\\\\\n",
       "\t 14 & 0.47139969\\\\\n",
       "\t 16 & 0.38408127\\\\\n",
       "\t 18 & 0.37227780\\\\\n",
       "\t 20 & 0.33408743\\\\\n",
       "\t 22 & 0.27330733\\\\\n",
       "\t 24 & 0.25162333\\\\\n",
       "\t 26 & 0.22278651\\\\\n",
       "\t 28 & 0.21021653\\\\\n",
       "\t 30 & 0.19059182\\\\\n",
       "\t 32 & 0.16690720\\\\\n",
       "\t 34 & 0.14073164\\\\\n",
       "\t 36 & 0.12028785\\\\\n",
       "\t 38 & 0.11646071\\\\\n",
       "\t 40 & 0.09273687\\\\\n",
       "\t 42 & 0.08397261\\\\\n",
       "\t 44 & 0.08829140\\\\\n",
       "\t 46 & 0.07179059\\\\\n",
       "\t 48 & 0.05932741\\\\\n",
       "\t 50 & 0.06170623\\\\\n",
       "\\end{tabular}\n"
      ],
      "text/markdown": [
       "\n",
       "A data.frame: 26 × 2\n",
       "\n",
       "| x &lt;int&gt; | y &lt;dbl&gt; |\n",
       "|---|---|\n",
       "|  0 | 1.00000000 |\n",
       "|  2 | 0.96023540 |\n",
       "|  4 | 0.84466377 |\n",
       "|  6 | 0.70693633 |\n",
       "|  8 | 0.70864140 |\n",
       "| 10 | 0.60979536 |\n",
       "| 12 | 0.51325264 |\n",
       "| 14 | 0.47139969 |\n",
       "| 16 | 0.38408127 |\n",
       "| 18 | 0.37227780 |\n",
       "| 20 | 0.33408743 |\n",
       "| 22 | 0.27330733 |\n",
       "| 24 | 0.25162333 |\n",
       "| 26 | 0.22278651 |\n",
       "| 28 | 0.21021653 |\n",
       "| 30 | 0.19059182 |\n",
       "| 32 | 0.16690720 |\n",
       "| 34 | 0.14073164 |\n",
       "| 36 | 0.12028785 |\n",
       "| 38 | 0.11646071 |\n",
       "| 40 | 0.09273687 |\n",
       "| 42 | 0.08397261 |\n",
       "| 44 | 0.08829140 |\n",
       "| 46 | 0.07179059 |\n",
       "| 48 | 0.05932741 |\n",
       "| 50 | 0.06170623 |\n",
       "\n"
      ],
      "text/plain": [
       "   x  y         \n",
       "1   0 1.00000000\n",
       "2   2 0.96023540\n",
       "3   4 0.84466377\n",
       "4   6 0.70693633\n",
       "5   8 0.70864140\n",
       "6  10 0.60979536\n",
       "7  12 0.51325264\n",
       "8  14 0.47139969\n",
       "9  16 0.38408127\n",
       "10 18 0.37227780\n",
       "11 20 0.33408743\n",
       "12 22 0.27330733\n",
       "13 24 0.25162333\n",
       "14 26 0.22278651\n",
       "15 28 0.21021653\n",
       "16 30 0.19059182\n",
       "17 32 0.16690720\n",
       "18 34 0.14073164\n",
       "19 36 0.12028785\n",
       "20 38 0.11646071\n",
       "21 40 0.09273687\n",
       "22 42 0.08397261\n",
       "23 44 0.08829140\n",
       "24 46 0.07179059\n",
       "25 48 0.05932741\n",
       "26 50 0.06170623"
      ]
     },
     "metadata": {},
     "output_type": "display_data"
    }
   ],
   "source": [
    "attach(dt)\n",
    "dt"
   ]
  },
  {
   "cell_type": "code",
   "execution_count": 7,
   "metadata": {},
   "outputs": [
    {
     "data": {
      "image/png": "[encoded data removed]",
      "text/plain": [
       "plot without title"
      ]
     },
     "metadata": {
      "image/png": {
       "height": 420,
       "width": 420
      },
      "text/plain": {
       "height": 420,
       "width": 420
      }
     },
     "output_type": "display_data"
    }
   ],
   "source": [
    "plot(x,y)"
   ]
  },
  {
   "cell_type": "code",
   "execution_count": 8,
   "metadata": {},
   "outputs": [
    {
     "data": {
      "text/html": [
       "<ol class=list-inline>\n",
       "\t<li>0.01</li>\n",
       "\t<li>0.015</li>\n",
       "\t<li>0.02</li>\n",
       "\t<li>0.025</li>\n",
       "\t<li>0.03</li>\n",
       "\t<li>0.035</li>\n",
       "\t<li>0.04</li>\n",
       "\t<li>0.045</li>\n",
       "\t<li>0.05</li>\n",
       "\t<li>0.055</li>\n",
       "\t<li>0.06</li>\n",
       "\t<li>0.065</li>\n",
       "\t<li>0.07</li>\n",
       "\t<li>0.075</li>\n",
       "\t<li>0.08</li>\n",
       "\t<li>0.085</li>\n",
       "\t<li>0.09</li>\n",
       "\t<li>0.095</li>\n",
       "\t<li>0.1</li>\n",
       "\t<li>0.105</li>\n",
       "\t<li>0.11</li>\n",
       "\t<li>0.115</li>\n",
       "\t<li>0.12</li>\n",
       "\t<li>0.125</li>\n",
       "\t<li>0.13</li>\n",
       "\t<li>0.135</li>\n",
       "\t<li>0.14</li>\n",
       "\t<li>0.145</li>\n",
       "\t<li>0.15</li>\n",
       "\t<li>0.155</li>\n",
       "\t<li>0.16</li>\n",
       "\t<li>0.165</li>\n",
       "\t<li>0.17</li>\n",
       "\t<li>0.175</li>\n",
       "\t<li>0.18</li>\n",
       "\t<li>0.185</li>\n",
       "\t<li>0.19</li>\n",
       "\t<li>0.195</li>\n",
       "\t<li>0.2</li>\n",
       "</ol>\n"
      ],
      "text/latex": [
       "\\begin{enumerate*}\n",
       "\\item 0.01\n",
       "\\item 0.015\n",
       "\\item 0.02\n",
       "\\item 0.025\n",
       "\\item 0.03\n",
       "\\item 0.035\n",
       "\\item 0.04\n",
       "\\item 0.045\n",
       "\\item 0.05\n",
       "\\item 0.055\n",
       "\\item 0.06\n",
       "\\item 0.065\n",
       "\\item 0.07\n",
       "\\item 0.075\n",
       "\\item 0.08\n",
       "\\item 0.085\n",
       "\\item 0.09\n",
       "\\item 0.095\n",
       "\\item 0.1\n",
       "\\item 0.105\n",
       "\\item 0.11\n",
       "\\item 0.115\n",
       "\\item 0.12\n",
       "\\item 0.125\n",
       "\\item 0.13\n",
       "\\item 0.135\n",
       "\\item 0.14\n",
       "\\item 0.145\n",
       "\\item 0.15\n",
       "\\item 0.155\n",
       "\\item 0.16\n",
       "\\item 0.165\n",
       "\\item 0.17\n",
       "\\item 0.175\n",
       "\\item 0.18\n",
       "\\item 0.185\n",
       "\\item 0.19\n",
       "\\item 0.195\n",
       "\\item 0.2\n",
       "\\end{enumerate*}\n"
      ],
      "text/markdown": [
       "1. 0.01\n",
       "2. 0.015\n",
       "3. 0.02\n",
       "4. 0.025\n",
       "5. 0.03\n",
       "6. 0.035\n",
       "7. 0.04\n",
       "8. 0.045\n",
       "9. 0.05\n",
       "10. 0.055\n",
       "11. 0.06\n",
       "12. 0.065\n",
       "13. 0.07\n",
       "14. 0.075\n",
       "15. 0.08\n",
       "16. 0.085\n",
       "17. 0.09\n",
       "18. 0.095\n",
       "19. 0.1\n",
       "20. 0.105\n",
       "21. 0.11\n",
       "22. 0.115\n",
       "23. 0.12\n",
       "24. 0.125\n",
       "25. 0.13\n",
       "26. 0.135\n",
       "27. 0.14\n",
       "28. 0.145\n",
       "29. 0.15\n",
       "30. 0.155\n",
       "31. 0.16\n",
       "32. 0.165\n",
       "33. 0.17\n",
       "34. 0.175\n",
       "35. 0.18\n",
       "36. 0.185\n",
       "37. 0.19\n",
       "38. 0.195\n",
       "39. 0.2\n",
       "\n",
       "\n"
      ],
      "text/plain": [
       " [1] 0.010 0.015 0.020 0.025 0.030 0.035 0.040 0.045 0.050 0.055 0.060 0.065\n",
       "[13] 0.070 0.075 0.080 0.085 0.090 0.095 0.100 0.105 0.110 0.115 0.120 0.125\n",
       "[25] 0.130 0.135 0.140 0.145 0.150 0.155 0.160 0.165 0.170 0.175 0.180 0.185\n",
       "[37] 0.190 0.195 0.200"
      ]
     },
     "metadata": {},
     "output_type": "display_data"
    }
   ],
   "source": [
    "sumsq=function(a,xv=x,yv=y)\n",
    "{ \n",
    "        yf=exp(-a*xv)   \n",
    "      sum((yv-yf)^2)\n",
    "}\n",
    "\n",
    "a=seq(0.01,0.2,0.005)\n",
    "a"
   ]
  },
  {
   "cell_type": "code",
   "execution_count": 9,
   "metadata": {},
   "outputs": [
    {
     "data": {
      "image/png": "[encoded data removed]",
      "text/plain": [
       "plot without title"
      ]
     },
     "metadata": {
      "image/png": {
       "height": 420,
       "width": 420
      },
      "text/plain": {
       "height": 420,
       "width": 420
      }
     },
     "output_type": "display_data"
    }
   ],
   "source": [
    "plot(a,sapply(a,sumsq),type=\"l\")"
   ]
  },
  {
   "cell_type": "code",
   "execution_count": 10,
   "metadata": {},
   "outputs": [
    {
     "data": {
      "text/html": [
       "0.055"
      ],
      "text/latex": [
       "0.055"
      ],
      "text/markdown": [
       "0.055"
      ],
      "text/plain": [
       "[1] 0.055"
      ]
     },
     "metadata": {},
     "output_type": "display_data"
    }
   ],
   "source": [
    "a[min(sapply(a,sumsq))==sapply(a,sumsq)]"
   ]
  },
  {
   "cell_type": "code",
   "execution_count": 11,
   "metadata": {},
   "outputs": [
    {
     "data": {
      "image/png": "[encoded data removed]",
      "text/plain": [
       "plot without title"
      ]
     },
     "metadata": {
      "image/png": {
       "height": 420,
       "width": 420
      },
      "text/plain": {
       "height": 420,
       "width": 420
      }
     },
     "output_type": "display_data"
    }
   ],
   "source": [
    "plot(x,y)\n",
    "xv=seq(0,50,0.1)\n",
    "lines(xv,exp(-0.055*xv))"
   ]
  },
  {
   "cell_type": "code",
   "execution_count": 12,
   "metadata": {},
   "outputs": [
    {
     "data": {
      "text/plain": [
       "\n",
       "Call:\n",
       "lm(formula = log(y) ~ x, data = dt)\n",
       "\n",
       "Coefficients:\n",
       "(Intercept)            x  \n",
       "    0.04688     -0.05849  \n"
      ]
     },
     "metadata": {},
     "output_type": "display_data"
    }
   ],
   "source": [
    "lm(log(y)~x,data=dt)"
   ]
  },
  {
   "cell_type": "code",
   "execution_count": 13,
   "metadata": {},
   "outputs": [
    {
     "data": {
      "text/html": [
       "<dl>\n",
       "\t<dt>$minimum</dt>\n",
       "\t\t<dd>0.0999464169959233</dd>\n",
       "\t<dt>$objective</dt>\n",
       "\t\t<dd>3.03447449041449</dd>\n",
       "</dl>\n"
      ],
      "text/latex": [
       "\\begin{description}\n",
       "\\item[\\$minimum] 0.0999464169959233\n",
       "\\item[\\$objective] 3.03447449041449\n",
       "\\end{description}\n"
      ],
      "text/markdown": [
       "$minimum\n",
       ":   0.0999464169959233\n",
       "$objective\n",
       ":   3.03447449041449\n",
       "\n",
       "\n"
      ],
      "text/plain": [
       "$minimum\n",
       "[1] 0.09994642\n",
       "\n",
       "$objective\n",
       "[1] 3.034474\n"
      ]
     },
     "metadata": {},
     "output_type": "display_data"
    }
   ],
   "source": [
    "fa=function(a)\n",
    "{ \n",
    "    sum((y=exp(-a*x))^2)\n",
    "}\n",
    "optimize(fa,c(0.01,0.1))"
   ]
  },
  {
   "cell_type": "code",
   "execution_count": 14,
   "metadata": {},
   "outputs": [
    {
     "data": {
      "text/html": [
       "<dl>\n",
       "\t<dt>$minimum</dt>\n",
       "\t\t<dd>0.0553841059868058</dd>\n",
       "\t<dt>$objective</dt>\n",
       "\t\t<dd>0.0147355859521897</dd>\n",
       "</dl>\n"
      ],
      "text/latex": [
       "\\begin{description}\n",
       "\\item[\\$minimum] 0.0553841059868058\n",
       "\\item[\\$objective] 0.0147355859521897\n",
       "\\end{description}\n"
      ],
      "text/markdown": [
       "$minimum\n",
       ":   0.0553841059868058\n",
       "$objective\n",
       ":   0.0147355859521897\n",
       "\n",
       "\n"
      ],
      "text/plain": [
       "$minimum\n",
       "[1] 0.05538411\n",
       "\n",
       "$objective\n",
       "[1] 0.01473559\n"
      ]
     },
     "metadata": {},
     "output_type": "display_data"
    }
   ],
   "source": [
    "fa=function(a)\n",
    "{ \n",
    "    sum((y-exp(-a*x))^2)\n",
    "}\n",
    "optimize(fa,c(0.01,0.1))"
   ]
  },
  {
   "cell_type": "code",
   "execution_count": 15,
   "metadata": {},
   "outputs": [
    {
     "data": {
      "text/html": [
       "<dl>\n",
       "\t<dt>$minimum</dt>\n",
       "\t\t<dd>0.0559605766272908</dd>\n",
       "\t<dt>$objective</dt>\n",
       "\t\t<dd>0.393922149789555</dd>\n",
       "</dl>\n"
      ],
      "text/latex": [
       "\\begin{description}\n",
       "\\item[\\$minimum] 0.0559605766272908\n",
       "\\item[\\$objective] 0.393922149789555\n",
       "\\end{description}\n"
      ],
      "text/markdown": [
       "$minimum\n",
       ":   0.0559605766272908\n",
       "$objective\n",
       ":   0.393922149789555\n",
       "\n",
       "\n"
      ],
      "text/plain": [
       "$minimum\n",
       "[1] 0.05596058\n",
       "\n",
       "$objective\n",
       "[1] 0.3939221\n"
      ]
     },
     "metadata": {},
     "output_type": "display_data"
    }
   ],
   "source": [
    "fb=function(b)\n",
    "{ \n",
    "    sum(abs(y-exp(-b*x)))\n",
    "}\n",
    "optimize(fb,c(0.01,0.1))"
   ]
  },
  {
   "cell_type": "code",
   "execution_count": 16,
   "metadata": {},
   "outputs": [
    {
     "data": {
      "text/plain": [
       "\n",
       "Call:\n",
       "lm(formula = log(y) ~ x, data = dt)\n",
       "\n",
       "Coefficients:\n",
       "(Intercept)            x  \n",
       "    0.04688     -0.05849  \n"
      ]
     },
     "metadata": {},
     "output_type": "display_data"
    }
   ],
   "source": [
    "lm(log(y)~x,data=dt)"
   ]
  },
  {
   "cell_type": "code",
   "execution_count": 17,
   "metadata": {},
   "outputs": [
    {
     "data": {
      "image/png": "[encoded data removed]",
      "text/plain": [
       "Plot with title \"\""
      ]
     },
     "metadata": {
      "image/png": {
       "height": 420,
       "width": 420
      },
      "text/plain": {
       "height": 420,
       "width": 420
      }
     },
     "output_type": "display_data"
    },
    {
     "data": {
      "image/png": "[encoded data removed]",
      "text/plain": [
       "Plot with title \"\""
      ]
     },
     "metadata": {
      "image/png": {
       "height": 420,
       "width": 420
      },
      "text/plain": {
       "height": 420,
       "width": 420
      }
     },
     "output_type": "display_data"
    },
    {
     "data": {
      "image/png": "[encoded data removed]",
      "text/plain": [
       "Plot with title \"\""
      ]
     },
     "metadata": {
      "image/png": {
       "height": 420,
       "width": 420
      },
      "text/plain": {
       "height": 420,
       "width": 420
      }
     },
     "output_type": "display_data"
    },
    {
     "data": {
      "image/png": "[encoded data removed]",
      "text/plain": [
       "Plot with title \"\""
      ]
     },
     "metadata": {
      "image/png": {
       "height": 420,
       "width": 420
      },
      "text/plain": {
       "height": 420,
       "width": 420
      }
     },
     "output_type": "display_data"
    }
   ],
   "source": [
    "lm1=lm(log(y)~x,data=dt)\n",
    "plot(lm1)"
   ]
  },
  {
   "cell_type": "code",
   "execution_count": 18,
   "metadata": {},
   "outputs": [
    {
     "data": {
      "text/plain": [
       "\n",
       "Call:\n",
       "lm(formula = log(y) ~ x, data = dt)\n",
       "\n",
       "Residuals:\n",
       "     Min       1Q   Median       3Q      Max \n",
       "-0.08542 -0.04586  0.01362  0.03071  0.09940 \n",
       "\n",
       "Coefficients:\n",
       "              Estimate Std. Error t value Pr(>|t|)    \n",
       "(Intercept)  0.0468837  0.0201983   2.321   0.0291 *  \n",
       "x           -0.0584863  0.0006928 -84.421   <2e-16 ***\n",
       "---\n",
       "Signif. codes:  0 '***' 0.001 '**' 0.01 '*' 0.05 '.' 0.1 ' ' 1\n",
       "\n",
       "Residual standard error: 0.05299 on 24 degrees of freedom\n",
       "Multiple R-squared:  0.9966,\tAdjusted R-squared:  0.9965 \n",
       "F-statistic:  7127 on 1 and 24 DF,  p-value: < 2.2e-16\n"
      ]
     },
     "metadata": {},
     "output_type": "display_data"
    }
   ],
   "source": [
    "summary(lm1)"
   ]
  },
  {
   "cell_type": "code",
   "execution_count": 19,
   "metadata": {},
   "outputs": [
    {
     "data": {
      "text/plain": [
       "            Df Sum Sq Mean Sq F value Pr(>F)    \n",
       "x            1 20.011  20.011    7127 <2e-16 ***\n",
       "Residuals   24  0.067   0.003                   \n",
       "---\n",
       "Signif. codes:  0 '***' 0.001 '**' 0.01 '*' 0.05 '.' 0.1 ' ' 1"
      ]
     },
     "metadata": {},
     "output_type": "display_data"
    }
   ],
   "source": [
    "summary.aov(lm1)"
   ]
  },
  {
   "cell_type": "code",
   "execution_count": 20,
   "metadata": {},
   "outputs": [
    {
     "data": {
      "text/html": [
       "<table>\n",
       "<caption>A anova: 2 × 5</caption>\n",
       "<thead>\n",
       "\t<tr><th></th><th scope=col>Df</th><th scope=col>Sum Sq</th><th scope=col>Mean Sq</th><th scope=col>F value</th><th scope=col>Pr(&gt;F)</th></tr>\n",
       "\t<tr><th></th><th scope=col>&lt;int&gt;</th><th scope=col>&lt;dbl&gt;</th><th scope=col>&lt;dbl&gt;</th><th scope=col>&lt;dbl&gt;</th><th scope=col>&lt;dbl&gt;</th></tr>\n",
       "</thead>\n",
       "<tbody>\n",
       "\t<tr><th scope=row>x</th><td> 1</td><td>20.01078841</td><td>20.010788407</td><td>7126.852</td><td>3.297823e-31</td></tr>\n",
       "\t<tr><th scope=row>Residuals</th><td>24</td><td> 0.06738725</td><td> 0.002807802</td><td>      NA</td><td>          NA</td></tr>\n",
       "</tbody>\n",
       "</table>\n"
      ],
      "text/latex": [
       "A anova: 2 × 5\n",
       "\\begin{tabular}{r|lllll}\n",
       "  & Df & Sum Sq & Mean Sq & F value & Pr(>F)\\\\\n",
       "  & <int> & <dbl> & <dbl> & <dbl> & <dbl>\\\\\n",
       "\\hline\n",
       "\tx &  1 & 20.01078841 & 20.010788407 & 7126.852 & 3.297823e-31\\\\\n",
       "\tResiduals & 24 &  0.06738725 &  0.002807802 &       NA &           NA\\\\\n",
       "\\end{tabular}\n"
      ],
      "text/markdown": [
       "\n",
       "A anova: 2 × 5\n",
       "\n",
       "| <!--/--> | Df &lt;int&gt; | Sum Sq &lt;dbl&gt; | Mean Sq &lt;dbl&gt; | F value &lt;dbl&gt; | Pr(&gt;F) &lt;dbl&gt; |\n",
       "|---|---|---|---|---|---|\n",
       "| x |  1 | 20.01078841 | 20.010788407 | 7126.852 | 3.297823e-31 |\n",
       "| Residuals | 24 |  0.06738725 |  0.002807802 |       NA |           NA |\n",
       "\n"
      ],
      "text/plain": [
       "          Df Sum Sq      Mean Sq      F value  Pr(>F)      \n",
       "x          1 20.01078841 20.010788407 7126.852 3.297823e-31\n",
       "Residuals 24  0.06738725  0.002807802       NA           NA"
      ]
     },
     "metadata": {},
     "output_type": "display_data"
    }
   ],
   "source": [
    "anova(lm1)"
   ]
  },
  {
   "cell_type": "code",
   "execution_count": 21,
   "metadata": {},
   "outputs": [
    {
     "data": {
      "text/plain": [
       "\n",
       "Call:\n",
       "lm(formula = y ~ x, data = dt)\n",
       "\n",
       "Coefficients:\n",
       "(Intercept)            x  \n",
       "     0.7933      -0.0178  \n"
      ]
     },
     "metadata": {},
     "output_type": "display_data"
    }
   ],
   "source": [
    "lm2=lm(y~x,data=dt)\n",
    "lm2"
   ]
  },
  {
   "cell_type": "code",
   "execution_count": 22,
   "metadata": {},
   "outputs": [
    {
     "data": {
      "text/plain": [
       "\n",
       "Call:\n",
       "lm(formula = y ~ x, data = dt)\n",
       "\n",
       "Residuals:\n",
       "     Min       1Q   Median       3Q      Max \n",
       "-0.12840 -0.08170 -0.01887  0.07305  0.20672 \n",
       "\n",
       "Coefficients:\n",
       "             Estimate Std. Error t value Pr(>|t|)    \n",
       "(Intercept)  0.793277   0.040044   19.81 2.22e-16 ***\n",
       "x           -0.017799   0.001374  -12.96 2.51e-12 ***\n",
       "---\n",
       "Signif. codes:  0 '***' 0.001 '**' 0.01 '*' 0.05 '.' 0.1 ' ' 1\n",
       "\n",
       "Residual standard error: 0.1051 on 24 degrees of freedom\n",
       "Multiple R-squared:  0.8749,\tAdjusted R-squared:  0.8697 \n",
       "F-statistic: 167.9 on 1 and 24 DF,  p-value: 2.506e-12\n"
      ]
     },
     "metadata": {},
     "output_type": "display_data"
    }
   ],
   "source": [
    "summary(lm2)"
   ]
  },
  {
   "cell_type": "code",
   "execution_count": 23,
   "metadata": {},
   "outputs": [
    {
     "data": {
      "text/html": [
       "-75.055492633512"
      ],
      "text/latex": [
       "-75.055492633512"
      ],
      "text/markdown": [
       "-75.055492633512"
      ],
      "text/plain": [
       "[1] -75.05549"
      ]
     },
     "metadata": {},
     "output_type": "display_data"
    }
   ],
   "source": [
    "AIC(lm1)"
   ]
  },
  {
   "cell_type": "code",
   "execution_count": 24,
   "metadata": {},
   "outputs": [
    {
     "data": {
      "text/html": [
       "-71.2812030194475"
      ],
      "text/latex": [
       "-71.2812030194475"
      ],
      "text/markdown": [
       "-71.2812030194475"
      ],
      "text/plain": [
       "[1] -71.2812"
      ]
     },
     "metadata": {},
     "output_type": "display_data"
    }
   ],
   "source": [
    "BIC(lm1)"
   ]
  },
  {
   "cell_type": "code",
   "execution_count": 25,
   "metadata": {},
   "outputs": [
    {
     "data": {
      "text/html": [
       "-35.6929583859681"
      ],
      "text/latex": [
       "-35.6929583859681"
      ],
      "text/markdown": [
       "-35.6929583859681"
      ],
      "text/plain": [
       "[1] -35.69296"
      ]
     },
     "metadata": {},
     "output_type": "display_data"
    }
   ],
   "source": [
    "BIC(lm2)"
   ]
  },
  {
   "cell_type": "code",
   "execution_count": 26,
   "metadata": {},
   "outputs": [
    {
     "name": "stdout",
     "output_type": "stream",
     "text": [
      "'data.frame':\t112 obs. of  13 variables:\n",
      " $ maxO3 : int  87 82 92 114 94 80 79 79 101 106 ...\n",
      " $ T9    : num  15.6 17 15.3 16.2 17.4 17.7 16.8 14.9 16.1 18.3 ...\n",
      " $ T12   : num  18.5 18.4 17.6 19.7 20.5 19.8 15.6 17.5 19.6 21.9 ...\n",
      " $ T15   : num  18.4 17.7 19.5 22.5 20.4 18.3 14.9 18.9 21.4 22.9 ...\n",
      " $ Ne9   : int  4 5 2 1 8 6 7 5 2 5 ...\n",
      " $ Ne12  : int  4 5 5 1 8 6 8 5 4 6 ...\n",
      " $ Ne15  : int  8 7 4 0 7 7 8 4 4 8 ...\n",
      " $ Wx9   : num  0.695 -4.33 2.954 0.985 -0.5 ...\n",
      " $ Wx12  : num  -1.71 -4 1.879 0.347 -2.954 ...\n",
      " $ Wx15  : num  -0.695 -3 0.521 -0.174 -4.33 ...\n",
      " $ maxO3y: int  84 87 82 92 114 94 80 99 79 101 ...\n",
      " $ wind  : Factor w/ 4 levels \"East\",\"North\",..: 2 2 1 2 4 4 4 2 2 4 ...\n",
      " $ rain  : Factor w/ 2 levels \"Dry\",\"Rainy\": 1 1 1 1 1 2 1 1 1 1 ...\n"
     ]
    }
   ],
   "source": [
    "ozone=read.table(\"ozone.txt\")\n",
    "str(ozone)"
   ]
  },
  {
   "cell_type": "code",
   "execution_count": 27,
   "metadata": {},
   "outputs": [
    {
     "data": {
      "text/html": [
       "<ol class=list-inline>\n",
       "\t<li>'maxO3'</li>\n",
       "\t<li>'T9'</li>\n",
       "\t<li>'T12'</li>\n",
       "\t<li>'T15'</li>\n",
       "\t<li>'Ne9'</li>\n",
       "\t<li>'Ne12'</li>\n",
       "\t<li>'Ne15'</li>\n",
       "\t<li>'Wx9'</li>\n",
       "\t<li>'Wx12'</li>\n",
       "\t<li>'Wx15'</li>\n",
       "\t<li>'maxO3y'</li>\n",
       "\t<li>'wind'</li>\n",
       "\t<li>'rain'</li>\n",
       "</ol>\n"
      ],
      "text/latex": [
       "\\begin{enumerate*}\n",
       "\\item 'maxO3'\n",
       "\\item 'T9'\n",
       "\\item 'T12'\n",
       "\\item 'T15'\n",
       "\\item 'Ne9'\n",
       "\\item 'Ne12'\n",
       "\\item 'Ne15'\n",
       "\\item 'Wx9'\n",
       "\\item 'Wx12'\n",
       "\\item 'Wx15'\n",
       "\\item 'maxO3y'\n",
       "\\item 'wind'\n",
       "\\item 'rain'\n",
       "\\end{enumerate*}\n"
      ],
      "text/markdown": [
       "1. 'maxO3'\n",
       "2. 'T9'\n",
       "3. 'T12'\n",
       "4. 'T15'\n",
       "5. 'Ne9'\n",
       "6. 'Ne12'\n",
       "7. 'Ne15'\n",
       "8. 'Wx9'\n",
       "9. 'Wx12'\n",
       "10. 'Wx15'\n",
       "11. 'maxO3y'\n",
       "12. 'wind'\n",
       "13. 'rain'\n",
       "\n",
       "\n"
      ],
      "text/plain": [
       " [1] \"maxO3\"  \"T9\"     \"T12\"    \"T15\"    \"Ne9\"    \"Ne12\"   \"Ne15\"   \"Wx9\"   \n",
       " [9] \"Wx12\"   \"Wx15\"   \"maxO3y\" \"wind\"   \"rain\"  "
      ]
     },
     "metadata": {},
     "output_type": "display_data"
    }
   ],
   "source": [
    "attach(ozone)\n",
    "names(ozone)"
   ]
  },
  {
   "cell_type": "code",
   "execution_count": 28,
   "metadata": {},
   "outputs": [
    {
     "data": {
      "text/plain": [
       "\n",
       "Call:\n",
       "lm(formula = maxO3 ~ T15, data = ozone)\n",
       "\n",
       "Coefficients:\n",
       "(Intercept)          T15  \n",
       "    -18.733        4.819  \n"
      ]
     },
     "metadata": {},
     "output_type": "display_data"
    }
   ],
   "source": [
    "lm3=lm(maxO3~T15,data=ozone)\n",
    "lm3"
   ]
  },
  {
   "cell_type": "code",
   "execution_count": 29,
   "metadata": {},
   "outputs": [
    {
     "data": {
      "text/plain": [
       "\n",
       "Call:\n",
       "lm(formula = maxO3 ~ T15, data = ozone)\n",
       "\n",
       "Residuals:\n",
       "   Min     1Q Median     3Q    Max \n",
       "-34.13 -13.93   0.40  12.57  50.04 \n",
       "\n",
       "Coefficients:\n",
       "            Estimate Std. Error t value Pr(>|t|)    \n",
       "(Intercept) -18.7331     8.6562  -2.164   0.0326 *  \n",
       "T15           4.8187     0.3752  12.844   <2e-16 ***\n",
       "---\n",
       "Signif. codes:  0 '***' 0.001 '**' 0.01 '*' 0.05 '.' 0.1 ' ' 1\n",
       "\n",
       "Residual standard error: 17.91 on 110 degrees of freedom\n",
       "Multiple R-squared:    0.6,\tAdjusted R-squared:  0.5963 \n",
       "F-statistic:   165 on 1 and 110 DF,  p-value: < 2.2e-16\n"
      ]
     },
     "metadata": {},
     "output_type": "display_data"
    }
   ],
   "source": [
    "summary(lm3)"
   ]
  },
  {
   "cell_type": "code",
   "execution_count": 30,
   "metadata": {},
   "outputs": [
    {
     "data": {
      "text/html": [
       "112"
      ],
      "text/latex": [
       "112"
      ],
      "text/markdown": [
       "112"
      ],
      "text/plain": [
       "[1] 112"
      ]
     },
     "metadata": {},
     "output_type": "display_data"
    }
   ],
   "source": [
    "res.1=rstudent(lm3)\n",
    "length(res.1)"
   ]
  },
  {
   "cell_type": "code",
   "execution_count": 31,
   "metadata": {},
   "outputs": [
    {
     "data": {
      "text/html": [
       "<dl class=dl-horizontal>\n",
       "\t<dt>20010601</dt>\n",
       "\t\t<dd>0.960828150720432</dd>\n",
       "\t<dt>20010602</dt>\n",
       "\t\t<dd>0.86983229458589</dd>\n",
       "\t<dt>20010603</dt>\n",
       "\t\t<dd>0.94205369460159</dd>\n",
       "\t<dt>20010604</dt>\n",
       "\t\t<dd>1.36903041811229</dd>\n",
       "\t<dt>20010605</dt>\n",
       "\t\t<dd>0.809037905614686</dd>\n",
       "\t<dt>20010606</dt>\n",
       "\t\t<dd>0.592471205363863</dd>\n",
       "\t<dt>20010607</dt>\n",
       "\t\t<dd>1.48223402735619</dd>\n",
       "\t<dt>20010610</dt>\n",
       "\t\t<dd>0.373187749123618</dd>\n",
       "\t<dt>20010611</dt>\n",
       "\t\t<dd>0.931516361074426</dd>\n",
       "\t<dt>20010612</dt>\n",
       "\t\t<dd>0.805518935520834</dd>\n",
       "</dl>\n"
      ],
      "text/latex": [
       "\\begin{description*}\n",
       "\\item[20010601] 0.960828150720432\n",
       "\\item[20010602] 0.86983229458589\n",
       "\\item[20010603] 0.94205369460159\n",
       "\\item[20010604] 1.36903041811229\n",
       "\\item[20010605] 0.809037905614686\n",
       "\\item[20010606] 0.592471205363863\n",
       "\\item[20010607] 1.48223402735619\n",
       "\\item[20010610] 0.373187749123618\n",
       "\\item[20010611] 0.931516361074426\n",
       "\\item[20010612] 0.805518935520834\n",
       "\\end{description*}\n"
      ],
      "text/markdown": [
       "20010601\n",
       ":   0.96082815072043220010602\n",
       ":   0.8698322945858920010603\n",
       ":   0.9420536946015920010604\n",
       ":   1.3690304181122920010605\n",
       ":   0.80903790561468620010606\n",
       ":   0.59247120536386320010607\n",
       ":   1.4822340273561920010610\n",
       ":   0.37318774912361820010611\n",
       ":   0.93151636107442620010612\n",
       ":   0.805518935520834\n",
       "\n"
      ],
      "text/plain": [
       " 20010601  20010602  20010603  20010604  20010605  20010606  20010607  20010610 \n",
       "0.9608282 0.8698323 0.9420537 1.3690304 0.8090379 0.5924712 1.4822340 0.3731877 \n",
       " 20010611  20010612 \n",
       "0.9315164 0.8055189 "
      ]
     },
     "metadata": {},
     "output_type": "display_data"
    }
   ],
   "source": [
    "res.1[1:10]"
   ]
  },
  {
   "cell_type": "code",
   "execution_count": 32,
   "metadata": {},
   "outputs": [
    {
     "data": {
      "text/html": [
       "<dl class=dl-horizontal>\n",
       "\t<dt>20010601</dt>\n",
       "\t\t<dd>17.0684609143364</dd>\n",
       "\t<dt>20010602</dt>\n",
       "\t\t<dd>15.4415703877978</dd>\n",
       "\t<dt>20010603</dt>\n",
       "\t\t<dd>16.7678603131828</dd>\n",
       "\t<dt>20010604</dt>\n",
       "\t\t<dd>24.311676855491</dd>\n",
       "\t<dt>20010605</dt>\n",
       "\t\t<dd>14.4310052758753</dd>\n",
       "\t<dt>20010606</dt>\n",
       "\t\t<dd>10.5503336962595</dd>\n",
       "\t<dt>20010607</dt>\n",
       "\t\t<dd>25.9340082816434</dd>\n",
       "\t<dt>20010610</dt>\n",
       "\t\t<dd>6.65909700472113</dd>\n",
       "\t<dt>20010611</dt>\n",
       "\t\t<dd>16.6122774566447</dd>\n",
       "\t<dt>20010612</dt>\n",
       "\t\t<dd>14.3841857277988</dd>\n",
       "</dl>\n"
      ],
      "text/latex": [
       "\\begin{description*}\n",
       "\\item[20010601] 17.0684609143364\n",
       "\\item[20010602] 15.4415703877978\n",
       "\\item[20010603] 16.7678603131828\n",
       "\\item[20010604] 24.311676855491\n",
       "\\item[20010605] 14.4310052758753\n",
       "\\item[20010606] 10.5503336962595\n",
       "\\item[20010607] 25.9340082816434\n",
       "\\item[20010610] 6.65909700472113\n",
       "\\item[20010611] 16.6122774566447\n",
       "\\item[20010612] 14.3841857277988\n",
       "\\end{description*}\n"
      ],
      "text/markdown": [
       "20010601\n",
       ":   17.068460914336420010602\n",
       ":   15.441570387797820010603\n",
       ":   16.767860313182820010604\n",
       ":   24.31167685549120010605\n",
       ":   14.431005275875320010606\n",
       ":   10.550333696259520010607\n",
       ":   25.934008281643420010610\n",
       ":   6.6590970047211320010611\n",
       ":   16.612277456644720010612\n",
       ":   14.3841857277988\n",
       "\n"
      ],
      "text/plain": [
       " 20010601  20010602  20010603  20010604  20010605  20010606  20010607  20010610 \n",
       "17.068461 15.441570 16.767860 24.311677 14.431005 10.550334 25.934008  6.659097 \n",
       " 20010611  20010612 \n",
       "16.612277 14.384186 "
      ]
     },
     "metadata": {},
     "output_type": "display_data"
    }
   ],
   "source": [
    "lm3$resid[1:10]"
   ]
  },
  {
   "cell_type": "code",
   "execution_count": 33,
   "metadata": {},
   "outputs": [
    {
     "data": {
      "image/png": "[encoded data removed]",
      "text/plain": [
       "plot without title"
      ]
     },
     "metadata": {
      "image/png": {
       "height": 420,
       "width": 420
      },
      "text/plain": {
       "height": 420,
       "width": 420
      }
     },
     "output_type": "display_data"
    }
   ],
   "source": [
    "plot(res.1,ylab=\"Residuals\")\n",
    "abline(h=c(-2,0,2),lty=c(2,1,2))"
   ]
  },
  {
   "cell_type": "code",
   "execution_count": 34,
   "metadata": {},
   "outputs": [
    {
     "data": {
      "text/html": [
       "<strong>1:</strong> 77.6415035964325"
      ],
      "text/latex": [
       "\\textbf{1:} 77.6415035964325"
      ],
      "text/markdown": [
       "**1:** 77.6415035964325"
      ],
      "text/plain": [
       "      1 \n",
       "77.6415 "
      ]
     },
     "metadata": {},
     "output_type": "display_data"
    }
   ],
   "source": [
    "x1=20\n",
    "x1=as.data.frame(x1)\n",
    "colnames(x1)=\"T15\"\n",
    "predict(lm3,x1)"
   ]
  },
  {
   "cell_type": "code",
   "execution_count": 35,
   "metadata": {},
   "outputs": [
    {
     "data": {
      "text/html": [
       "<table>\n",
       "<caption>A matrix: 1 × 3 of type dbl</caption>\n",
       "<thead>\n",
       "\t<tr><th scope=col>fit</th><th scope=col>lwr</th><th scope=col>upr</th></tr>\n",
       "</thead>\n",
       "<tbody>\n",
       "\t<tr><td>77.6415</td><td>41.9386</td><td>113.3444</td></tr>\n",
       "</tbody>\n",
       "</table>\n"
      ],
      "text/latex": [
       "A matrix: 1 × 3 of type dbl\n",
       "\\begin{tabular}{r|lll}\n",
       " fit & lwr & upr\\\\\n",
       "\\hline\n",
       "\t 77.6415 & 41.9386 & 113.3444\\\\\n",
       "\\end{tabular}\n"
      ],
      "text/markdown": [
       "\n",
       "A matrix: 1 × 3 of type dbl\n",
       "\n",
       "| fit | lwr | upr |\n",
       "|---|---|---|\n",
       "| 77.6415 | 41.9386 | 113.3444 |\n",
       "\n"
      ],
      "text/plain": [
       "  fit     lwr     upr     \n",
       "1 77.6415 41.9386 113.3444"
      ]
     },
     "metadata": {},
     "output_type": "display_data"
    }
   ],
   "source": [
    "predict(lm3,x1,interval=\"pred\")"
   ]
  },
  {
   "cell_type": "code",
   "execution_count": 36,
   "metadata": {},
   "outputs": [
    {
     "data": {
      "text/html": [
       "<strong>1:</strong> 101.735142692585"
      ],
      "text/latex": [
       "\\textbf{1:} 101.735142692585"
      ],
      "text/markdown": [
       "**1:** 101.735142692585"
      ],
      "text/plain": [
       "       1 \n",
       "101.7351 "
      ]
     },
     "metadata": {},
     "output_type": "display_data"
    }
   ],
   "source": [
    "x1=25\n",
    "x1=as.data.frame(x1)\n",
    "colnames(x1)=\"T15\"\n",
    "predict(lm3,x1)"
   ]
  },
  {
   "cell_type": "code",
   "execution_count": 37,
   "metadata": {},
   "outputs": [
    {
     "data": {
      "text/html": [
       "<table>\n",
       "<caption>A matrix: 1 × 3 of type dbl</caption>\n",
       "<thead>\n",
       "\t<tr><th scope=col>fit</th><th scope=col>lwr</th><th scope=col>upr</th></tr>\n",
       "</thead>\n",
       "<tbody>\n",
       "\t<tr><td>101.7351</td><td>66.04213</td><td>137.4282</td></tr>\n",
       "</tbody>\n",
       "</table>\n"
      ],
      "text/latex": [
       "A matrix: 1 × 3 of type dbl\n",
       "\\begin{tabular}{r|lll}\n",
       " fit & lwr & upr\\\\\n",
       "\\hline\n",
       "\t 101.7351 & 66.04213 & 137.4282\\\\\n",
       "\\end{tabular}\n"
      ],
      "text/markdown": [
       "\n",
       "A matrix: 1 × 3 of type dbl\n",
       "\n",
       "| fit | lwr | upr |\n",
       "|---|---|---|\n",
       "| 101.7351 | 66.04213 | 137.4282 |\n",
       "\n"
      ],
      "text/plain": [
       "  fit      lwr      upr     \n",
       "1 101.7351 66.04213 137.4282"
      ]
     },
     "metadata": {},
     "output_type": "display_data"
    }
   ],
   "source": [
    "predict(lm3,x1,interval=\"pred\")"
   ]
  },
  {
   "cell_type": "code",
   "execution_count": 40,
   "metadata": {},
   "outputs": [],
   "source": [
    "lm4=lm(maxO3~.,data=ozone[,1:11])"
   ]
  },
  {
   "cell_type": "code",
   "execution_count": 41,
   "metadata": {},
   "outputs": [
    {
     "data": {
      "text/plain": [
       "\n",
       "Call:\n",
       "lm(formula = maxO3 ~ ., data = ozone[, 1:11])\n",
       "\n",
       "Residuals:\n",
       "    Min      1Q  Median      3Q     Max \n",
       "-53.566  -8.727  -0.403   7.599  39.458 \n",
       "\n",
       "Coefficients:\n",
       "            Estimate Std. Error t value Pr(>|t|)    \n",
       "(Intercept) 12.24442   13.47190   0.909   0.3656    \n",
       "T9          -0.01901    1.12515  -0.017   0.9866    \n",
       "T12          2.22115    1.43294   1.550   0.1243    \n",
       "T15          0.55853    1.14464   0.488   0.6266    \n",
       "Ne9         -2.18909    0.93824  -2.333   0.0216 *  \n",
       "Ne12        -0.42102    1.36766  -0.308   0.7588    \n",
       "Ne15         0.18373    1.00279   0.183   0.8550    \n",
       "Wx9          0.94791    0.91228   1.039   0.3013    \n",
       "Wx12         0.03120    1.05523   0.030   0.9765    \n",
       "Wx15         0.41859    0.91568   0.457   0.6486    \n",
       "maxO3y       0.35198    0.06289   5.597 1.88e-07 ***\n",
       "---\n",
       "Signif. codes:  0 '***' 0.001 '**' 0.01 '*' 0.05 '.' 0.1 ' ' 1\n",
       "\n",
       "Residual standard error: 14.36 on 101 degrees of freedom\n",
       "Multiple R-squared:  0.7638,\tAdjusted R-squared:  0.7405 \n",
       "F-statistic: 32.67 on 10 and 101 DF,  p-value: < 2.2e-16\n"
      ]
     },
     "metadata": {},
     "output_type": "display_data"
    }
   ],
   "source": [
    "summary(lm4)\n"
   ]
  },
  {
   "cell_type": "code",
   "execution_count": 43,
   "metadata": {},
   "outputs": [
    {
     "data": {
      "text/plain": [
       "Subset selection object\n",
       "Call: regsubsets.formula(maxO3 ~ ., data = ozone.m, nbest = 1, nvmax = 11)\n",
       "10 Variables  (and intercept)\n",
       "       Forced in Forced out\n",
       "T9         FALSE      FALSE\n",
       "T12        FALSE      FALSE\n",
       "T15        FALSE      FALSE\n",
       "Ne9        FALSE      FALSE\n",
       "Ne12       FALSE      FALSE\n",
       "Ne15       FALSE      FALSE\n",
       "Wx9        FALSE      FALSE\n",
       "Wx12       FALSE      FALSE\n",
       "Wx15       FALSE      FALSE\n",
       "maxO3y     FALSE      FALSE\n",
       "1 subsets of each size up to 10\n",
       "Selection Algorithm: exhaustive"
      ]
     },
     "metadata": {},
     "output_type": "display_data"
    }
   ],
   "source": [
    "library(leaps)\n",
    "ozone.m=ozone[,1:11]\n",
    "choice=regsubsets(maxO3~.,data=ozone.m,nbest=1,nvmax=11)\n",
    "choice"
   ]
  },
  {
   "cell_type": "code",
   "execution_count": 44,
   "metadata": {},
   "outputs": [
    {
     "data": {
      "image/png": "[encoded data removed]",
      "text/plain": [
       "plot without title"
      ]
     },
     "metadata": {
      "image/png": {
       "height": 420,
       "width": 420
      },
      "text/plain": {
       "height": 420,
       "width": 420
      }
     },
     "output_type": "display_data"
    }
   ],
   "source": [
    "plot(choice,scale=\"bic\")"
   ]
  },
  {
   "cell_type": "code",
   "execution_count": 45,
   "metadata": {},
   "outputs": [
    {
     "data": {
      "text/plain": [
       "Subset selection object\n",
       "Call: regsubsets.formula(maxO3 ~ ., data = ozone.m, nbest = 1, nvmax = 11)\n",
       "10 Variables  (and intercept)\n",
       "       Forced in Forced out\n",
       "T9         FALSE      FALSE\n",
       "T12        FALSE      FALSE\n",
       "T15        FALSE      FALSE\n",
       "Ne9        FALSE      FALSE\n",
       "Ne12       FALSE      FALSE\n",
       "Ne15       FALSE      FALSE\n",
       "Wx9        FALSE      FALSE\n",
       "Wx12       FALSE      FALSE\n",
       "Wx15       FALSE      FALSE\n",
       "maxO3y     FALSE      FALSE\n",
       "1 subsets of each size up to 10\n",
       "Selection Algorithm: exhaustive\n",
       "          T9  T12 T15 Ne9 Ne12 Ne15 Wx9 Wx12 Wx15 maxO3y\n",
       "1  ( 1 )  \" \" \"*\" \" \" \" \" \" \"  \" \"  \" \" \" \"  \" \"  \" \"   \n",
       "2  ( 1 )  \" \" \"*\" \" \" \" \" \" \"  \" \"  \" \" \" \"  \" \"  \"*\"   \n",
       "3  ( 1 )  \" \" \"*\" \" \" \"*\" \" \"  \" \"  \" \" \" \"  \" \"  \"*\"   \n",
       "4  ( 1 )  \" \" \"*\" \" \" \"*\" \" \"  \" \"  \"*\" \" \"  \" \"  \"*\"   \n",
       "5  ( 1 )  \" \" \"*\" \" \" \"*\" \" \"  \" \"  \"*\" \" \"  \"*\"  \"*\"   \n",
       "6  ( 1 )  \" \" \"*\" \"*\" \"*\" \" \"  \" \"  \"*\" \" \"  \"*\"  \"*\"   \n",
       "7  ( 1 )  \" \" \"*\" \"*\" \"*\" \"*\"  \" \"  \"*\" \" \"  \"*\"  \"*\"   \n",
       "8  ( 1 )  \" \" \"*\" \"*\" \"*\" \"*\"  \"*\"  \"*\" \" \"  \"*\"  \"*\"   \n",
       "9  ( 1 )  \" \" \"*\" \"*\" \"*\" \"*\"  \"*\"  \"*\" \"*\"  \"*\"  \"*\"   \n",
       "10  ( 1 ) \"*\" \"*\" \"*\" \"*\" \"*\"  \"*\"  \"*\" \"*\"  \"*\"  \"*\"   "
      ]
     },
     "metadata": {},
     "output_type": "display_data"
    }
   ],
   "source": [
    "summary(choice)"
   ]
  },
  {
   "cell_type": "code",
   "execution_count": 47,
   "metadata": {},
   "outputs": [
    {
     "data": {
      "text/html": [
       "<dl class=dl-horizontal>\n",
       "\t<dt>(Intercept)</dt>\n",
       "\t\t<dd>TRUE</dd>\n",
       "\t<dt>T9</dt>\n",
       "\t\t<dd>FALSE</dd>\n",
       "\t<dt>T12</dt>\n",
       "\t\t<dd>TRUE</dd>\n",
       "\t<dt>T15</dt>\n",
       "\t\t<dd>FALSE</dd>\n",
       "\t<dt>Ne9</dt>\n",
       "\t\t<dd>TRUE</dd>\n",
       "\t<dt>Ne12</dt>\n",
       "\t\t<dd>FALSE</dd>\n",
       "\t<dt>Ne15</dt>\n",
       "\t\t<dd>FALSE</dd>\n",
       "\t<dt>Wx9</dt>\n",
       "\t\t<dd>TRUE</dd>\n",
       "\t<dt>Wx12</dt>\n",
       "\t\t<dd>FALSE</dd>\n",
       "\t<dt>Wx15</dt>\n",
       "\t\t<dd>FALSE</dd>\n",
       "\t<dt>maxO3y</dt>\n",
       "\t\t<dd>TRUE</dd>\n",
       "</dl>\n"
      ],
      "text/latex": [
       "\\begin{description*}\n",
       "\\item[(Intercept)] TRUE\n",
       "\\item[T9] FALSE\n",
       "\\item[T12] TRUE\n",
       "\\item[T15] FALSE\n",
       "\\item[Ne9] TRUE\n",
       "\\item[Ne12] FALSE\n",
       "\\item[Ne15] FALSE\n",
       "\\item[Wx9] TRUE\n",
       "\\item[Wx12] FALSE\n",
       "\\item[Wx15] FALSE\n",
       "\\item[maxO3y] TRUE\n",
       "\\end{description*}\n"
      ],
      "text/markdown": [
       "(Intercept)\n",
       ":   TRUET9\n",
       ":   FALSET12\n",
       ":   TRUET15\n",
       ":   FALSENe9\n",
       ":   TRUENe12\n",
       ":   FALSENe15\n",
       ":   FALSEWx9\n",
       ":   TRUEWx12\n",
       ":   FALSEWx15\n",
       ":   FALSEmaxO3y\n",
       ":   TRUE\n",
       "\n"
      ],
      "text/plain": [
       "(Intercept)          T9         T12         T15         Ne9        Ne12 \n",
       "       TRUE       FALSE        TRUE       FALSE        TRUE       FALSE \n",
       "       Ne15         Wx9        Wx12        Wx15      maxO3y \n",
       "      FALSE        TRUE       FALSE       FALSE        TRUE "
      ]
     },
     "metadata": {},
     "output_type": "display_data"
    }
   ],
   "source": [
    "summary(choice)$which[which.min(summary(choice)$bic),]"
   ]
  },
  {
   "cell_type": "code",
   "execution_count": 49,
   "metadata": {
    "scrolled": true
   },
   "outputs": [
    {
     "name": "stdout",
     "output_type": "stream",
     "text": [
      "Start:  AIC=748.9\n",
      "maxO3 ~ 1\n",
      "\n",
      "         Df Sum of Sq   RSS    AIC\n",
      "+ T12     1     54244 33948 643.98\n",
      "+ T9      1     43138 45053 675.68\n",
      "+ maxO3y  1     41323 46868 680.10\n",
      "+ Ne12    1     36208 51984 691.70\n",
      "+ Ne9     1     34088 54104 696.18\n",
      "+ Wx9     1     24551 63640 714.36\n",
      "+ Ne15    1     20176 68016 721.81\n",
      "+ Wx12    1     16367 71825 727.91\n",
      "+ Wx15    1     13545 74647 732.23\n",
      "<none>                88192 748.90\n",
      "\n",
      "Step:  AIC=643.98\n",
      "maxO3 ~ T12\n",
      "\n",
      "         Df Sum of Sq   RSS    AIC\n",
      "+ maxO3y  1      7600 26348 617.59\n",
      "+ Wx9     1      3919 30029 632.24\n",
      "+ Ne9     1      3579 30369 633.50\n",
      "+ Wx12    1      3368 30580 634.28\n",
      "+ Wx15    1      3070 30878 635.36\n",
      "+ Ne12    1      2367 31581 637.88\n",
      "+ Ne15    1      1581 32366 640.63\n",
      "<none>                33948 643.98\n",
      "+ T9      1        19 33929 645.91\n",
      "- T12     1     54244 88192 748.90\n",
      "\n",
      "Step:  AIC=617.59\n",
      "maxO3 ~ T12 + maxO3y\n",
      "\n",
      "         Df Sum of Sq   RSS    AIC\n",
      "+ Ne9     1    4474.5 21874 598.75\n",
      "+ Wx12    1    2793.4 23555 607.04\n",
      "+ Wx9     1    2663.0 23685 607.66\n",
      "+ Wx15    1    2638.9 23709 607.77\n",
      "+ Ne12    1    2508.0 23840 608.39\n",
      "+ Ne15    1    1147.7 25200 614.61\n",
      "<none>                26348 617.59\n",
      "+ T9      1     225.2 26123 618.63\n",
      "- maxO3y  1    7599.8 33948 643.98\n",
      "- T12     1   20520.3 46868 680.10\n",
      "\n",
      "Step:  AIC=598.75\n",
      "maxO3 ~ T12 + maxO3y + Ne9\n",
      "\n",
      "         Df Sum of Sq   RSS    AIC\n",
      "+ Wx9     1     903.4 20970 596.02\n",
      "+ Wx12    1     630.7 21243 597.47\n",
      "+ Wx15    1     611.0 21263 597.58\n",
      "<none>                21874 598.75\n",
      "+ T9      1     108.8 21765 600.19\n",
      "+ Ne15    1      61.1 21813 600.43\n",
      "+ Ne12    1      60.6 21813 600.44\n",
      "- Ne9     1    4474.5 26348 617.59\n",
      "- T12     1    7140.0 29014 628.39\n",
      "- maxO3y  1    8495.5 30369 633.50\n",
      "\n",
      "Step:  AIC=596.02\n",
      "maxO3 ~ T12 + maxO3y + Ne9 + Wx9\n",
      "\n",
      "         Df Sum of Sq   RSS    AIC\n",
      "<none>                20970 596.02\n",
      "+ Wx15    1      74.1 20896 597.63\n",
      "+ Wx12    1      45.3 20925 597.78\n",
      "+ Ne12    1      19.0 20951 597.92\n",
      "+ Ne15    1      16.4 20954 597.94\n",
      "+ T9      1       0.0 20970 598.02\n",
      "- Wx9     1     903.4 21874 598.75\n",
      "- Ne9     1    2714.8 23685 607.66\n",
      "- T12     1    6650.4 27621 624.88\n",
      "- maxO3y  1    7363.5 28334 627.73\n"
     ]
    },
    {
     "data": {
      "text/plain": [
       "\n",
       "Call:\n",
       "lm(formula = maxO3 ~ T12 + maxO3y + Ne9 + Wx9, data = ozone.m)\n",
       "\n",
       "Coefficients:\n",
       "(Intercept)          T12       maxO3y          Ne9          Wx9  \n",
       "    12.6313       2.7641       0.3548      -2.5154       1.2929  \n"
      ]
     },
     "metadata": {},
     "output_type": "display_data"
    }
   ],
   "source": [
    "lm0=lm(maxO3~1,data=ozone.m)\n",
    "step(lm0,~T9+T12+Ne9+Ne12+Ne15+Wx9+Wx12+Wx15+maxO3y)"
   ]
  },
  {
   "cell_type": "code",
   "execution_count": 50,
   "metadata": {},
   "outputs": [
    {
     "data": {
      "text/plain": [
       "\n",
       "Call:\n",
       "lm(formula = maxO3 ~ T9 + T12 + Ne9 + Ne12 + Ne15 + Wx9 + Wx12 + \n",
       "    Wx15 + maxO3y, data = ozone.m)\n",
       "\n",
       "Coefficients:\n",
       "(Intercept)           T9          T12          Ne9         Ne12         Ne15  \n",
       "   13.18321      0.04543      2.73264     -2.22805     -0.24924     -0.08331  \n",
       "        Wx9         Wx12         Wx15       maxO3y  \n",
       "    0.99731      0.05210      0.37208      0.35353  \n"
      ]
     },
     "metadata": {},
     "output_type": "display_data"
    }
   ],
   "source": [
    "lm5=lm(maxO3~T9+T12+Ne9+Ne12+Ne15+Wx9+Wx12+Wx15+maxO3y,data=ozone.m)\n",
    "summary(lm5)"
   ]
  },
  {
   "cell_type": "code",
   "execution_count": 52,
   "metadata": {
    "scrolled": true
   },
   "outputs": [
    {
     "data": {
      "text/plain": [
       "\n",
       "Call:\n",
       "lm(formula = maxO3 ~ T12 + Ne9 + Wx9 + maxO3y, data = ozone.m)\n",
       "\n",
       "Coefficients:\n",
       "(Intercept)          T12          Ne9          Wx9       maxO3y  \n",
       "    12.6313       2.7641      -2.5154       1.2929       0.3548  \n"
      ]
     },
     "metadata": {},
     "output_type": "display_data"
    }
   ],
   "source": [
    "lm6=lm(maxO3~T12+Ne9+Wx9+maxO3y,data=ozone.m)\n",
    "summary(lm6)"
   ]
  },
  {
   "cell_type": "code",
   "execution_count": 54,
   "metadata": {},
   "outputs": [
    {
     "data": {
      "text/plain": [
       "\n",
       "Call:\n",
       "lm(formula = maxO3 ~ T12 + Ne9 + maxO3y, data = ozone.m)\n",
       "\n",
       "Residuals:\n",
       "    Min      1Q  Median      3Q     Max \n",
       "-56.385  -7.872  -1.941   7.899  41.513 \n",
       "\n",
       "Coefficients:\n",
       "            Estimate Std. Error t value Pr(>|t|)    \n",
       "(Intercept)  9.76225   11.10038   0.879    0.381    \n",
       "T12          2.85308    0.48052   5.937 3.57e-08 ***\n",
       "Ne9         -3.02423    0.64342  -4.700 7.71e-06 ***\n",
       "maxO3y       0.37571    0.05801   6.477 2.85e-09 ***\n",
       "---\n",
       "Signif. codes:  0 '***' 0.001 '**' 0.01 '*' 0.05 '.' 0.1 ' ' 1\n",
       "\n",
       "Residual standard error: 14.23 on 108 degrees of freedom\n",
       "Multiple R-squared:  0.752,\tAdjusted R-squared:  0.7451 \n",
       "F-statistic: 109.1 on 3 and 108 DF,  p-value: < 2.2e-16\n"
      ]
     },
     "metadata": {},
     "output_type": "display_data"
    }
   ],
   "source": [
    "lm7=lm(maxO3~T12+Ne9+maxO3y,data=ozone.m)\n",
    "summary(lm7)"
   ]
  },
  {
   "cell_type": "code",
   "execution_count": 55,
   "metadata": {},
   "outputs": [
    {
     "data": {
      "text/html": [
       "925.363923324606"
      ],
      "text/latex": [
       "925.363923324606"
      ],
      "text/markdown": [
       "925.363923324606"
      ],
      "text/plain": [
       "[1] 925.3639"
      ]
     },
     "metadata": {},
     "output_type": "display_data"
    }
   ],
   "source": [
    "AIC(lm5)"
   ]
  },
  {
   "cell_type": "code",
   "execution_count": 56,
   "metadata": {},
   "outputs": [
    {
     "data": {
      "text/html": [
       "915.866623469639"
      ],
      "text/latex": [
       "915.866623469639"
      ],
      "text/markdown": [
       "915.866623469639"
      ],
      "text/plain": [
       "[1] 915.8666"
      ]
     },
     "metadata": {},
     "output_type": "display_data"
    }
   ],
   "source": [
    "AIC(lm6)"
   ]
  },
  {
   "cell_type": "code",
   "execution_count": 57,
   "metadata": {},
   "outputs": [
    {
     "data": {
      "text/html": [
       "918.590425453302"
      ],
      "text/latex": [
       "918.590425453302"
      ],
      "text/markdown": [
       "918.590425453302"
      ],
      "text/plain": [
       "[1] 918.5904"
      ]
     },
     "metadata": {},
     "output_type": "display_data"
    }
   ],
   "source": [
    "AIC(lm7)"
   ]
  },
  {
   "cell_type": "code",
   "execution_count": 58,
   "metadata": {},
   "outputs": [
    {
     "data": {
      "text/html": [
       "955.267410908852"
      ],
      "text/latex": [
       "955.267410908852"
      ],
      "text/markdown": [
       "955.267410908852"
      ],
      "text/plain": [
       "[1] 955.2674"
      ]
     },
     "metadata": {},
     "output_type": "display_data"
    }
   ],
   "source": [
    "BIC(lm5)"
   ]
  },
  {
   "cell_type": "code",
   "execution_count": 59,
   "metadata": {},
   "outputs": [
    {
     "data": {
      "text/html": [
       "932.177616697409"
      ],
      "text/latex": [
       "932.177616697409"
      ],
      "text/markdown": [
       "932.177616697409"
      ],
      "text/plain": [
       "[1] 932.1776"
      ]
     },
     "metadata": {},
     "output_type": "display_data"
    }
   ],
   "source": [
    "BIC(lm6)"
   ]
  },
  {
   "cell_type": "code",
   "execution_count": 60,
   "metadata": {},
   "outputs": [
    {
     "data": {
      "text/html": [
       "932.182919809777"
      ],
      "text/latex": [
       "932.182919809777"
      ],
      "text/markdown": [
       "932.182919809777"
      ],
      "text/plain": [
       "[1] 932.1829"
      ]
     },
     "metadata": {},
     "output_type": "display_data"
    }
   ],
   "source": [
    "BIC(lm7)"
   ]
  },
  {
   "cell_type": "code",
   "execution_count": 61,
   "metadata": {},
   "outputs": [
    {
     "data": {
      "text/html": [
       "<table>\n",
       "<caption>A anova: 10 × 4</caption>\n",
       "<thead>\n",
       "\t<tr><th></th><th scope=col>Df</th><th scope=col>Sum of Sq</th><th scope=col>RSS</th><th scope=col>AIC</th></tr>\n",
       "\t<tr><th></th><th scope=col>&lt;dbl&gt;</th><th scope=col>&lt;dbl&gt;</th><th scope=col>&lt;dbl&gt;</th><th scope=col>&lt;dbl&gt;</th></tr>\n",
       "</thead>\n",
       "<tbody>\n",
       "\t<tr><th scope=row>&lt;none&gt;</th><td>NA</td><td>          NA</td><td>20876.33</td><td>605.5217</td></tr>\n",
       "\t<tr><th scope=row>T9</th><td> 1</td><td>   0.3408619</td><td>20876.67</td><td>603.5235</td></tr>\n",
       "\t<tr><th scope=row>T12</th><td> 1</td><td>1613.1485232</td><td>22489.48</td><td>611.8580</td></tr>\n",
       "\t<tr><th scope=row>Ne9</th><td> 1</td><td>1171.3592085</td><td>22047.69</td><td>609.6360</td></tr>\n",
       "\t<tr><th scope=row>Ne12</th><td> 1</td><td>   7.3344325</td><td>20883.66</td><td>603.5610</td></tr>\n",
       "\t<tr><th scope=row>Ne15</th><td> 1</td><td>   2.0267187</td><td>20878.35</td><td>603.5326</td></tr>\n",
       "\t<tr><th scope=row>Wx9</th><td> 1</td><td> 249.5147257</td><td>21125.84</td><td>604.8524</td></tr>\n",
       "\t<tr><th scope=row>Wx12</th><td> 1</td><td>   0.5034616</td><td>20876.83</td><td>603.5244</td></tr>\n",
       "\t<tr><th scope=row>Wx15</th><td> 1</td><td>  34.4213293</td><td>20910.75</td><td>603.7062</td></tr>\n",
       "\t<tr><th scope=row>maxO3y</th><td> 1</td><td>6533.3312304</td><td>27409.66</td><td>634.0170</td></tr>\n",
       "</tbody>\n",
       "</table>\n"
      ],
      "text/latex": [
       "A anova: 10 × 4\n",
       "\\begin{tabular}{r|llll}\n",
       "  & Df & Sum of Sq & RSS & AIC\\\\\n",
       "  & <dbl> & <dbl> & <dbl> & <dbl>\\\\\n",
       "\\hline\n",
       "\t<none> & NA &           NA & 20876.33 & 605.5217\\\\\n",
       "\tT9 &  1 &    0.3408619 & 20876.67 & 603.5235\\\\\n",
       "\tT12 &  1 & 1613.1485232 & 22489.48 & 611.8580\\\\\n",
       "\tNe9 &  1 & 1171.3592085 & 22047.69 & 609.6360\\\\\n",
       "\tNe12 &  1 &    7.3344325 & 20883.66 & 603.5610\\\\\n",
       "\tNe15 &  1 &    2.0267187 & 20878.35 & 603.5326\\\\\n",
       "\tWx9 &  1 &  249.5147257 & 21125.84 & 604.8524\\\\\n",
       "\tWx12 &  1 &    0.5034616 & 20876.83 & 603.5244\\\\\n",
       "\tWx15 &  1 &   34.4213293 & 20910.75 & 603.7062\\\\\n",
       "\tmaxO3y &  1 & 6533.3312304 & 27409.66 & 634.0170\\\\\n",
       "\\end{tabular}\n"
      ],
      "text/markdown": [
       "\n",
       "A anova: 10 × 4\n",
       "\n",
       "| <!--/--> | Df &lt;dbl&gt; | Sum of Sq &lt;dbl&gt; | RSS &lt;dbl&gt; | AIC &lt;dbl&gt; |\n",
       "|---|---|---|---|---|\n",
       "| &lt;none&gt; | NA |           NA | 20876.33 | 605.5217 |\n",
       "| T9 |  1 |    0.3408619 | 20876.67 | 603.5235 |\n",
       "| T12 |  1 | 1613.1485232 | 22489.48 | 611.8580 |\n",
       "| Ne9 |  1 | 1171.3592085 | 22047.69 | 609.6360 |\n",
       "| Ne12 |  1 |    7.3344325 | 20883.66 | 603.5610 |\n",
       "| Ne15 |  1 |    2.0267187 | 20878.35 | 603.5326 |\n",
       "| Wx9 |  1 |  249.5147257 | 21125.84 | 604.8524 |\n",
       "| Wx12 |  1 |    0.5034616 | 20876.83 | 603.5244 |\n",
       "| Wx15 |  1 |   34.4213293 | 20910.75 | 603.7062 |\n",
       "| maxO3y |  1 | 6533.3312304 | 27409.66 | 634.0170 |\n",
       "\n"
      ],
      "text/plain": [
       "       Df Sum of Sq    RSS      AIC     \n",
       "<none> NA           NA 20876.33 605.5217\n",
       "T9      1    0.3408619 20876.67 603.5235\n",
       "T12     1 1613.1485232 22489.48 611.8580\n",
       "Ne9     1 1171.3592085 22047.69 609.6360\n",
       "Ne12    1    7.3344325 20883.66 603.5610\n",
       "Ne15    1    2.0267187 20878.35 603.5326\n",
       "Wx9     1  249.5147257 21125.84 604.8524\n",
       "Wx12    1    0.5034616 20876.83 603.5244\n",
       "Wx15    1   34.4213293 20910.75 603.7062\n",
       "maxO3y  1 6533.3312304 27409.66 634.0170"
      ]
     },
     "metadata": {},
     "output_type": "display_data"
    }
   ],
   "source": [
    "drop1(lm5)"
   ]
  },
  {
   "cell_type": "code",
   "execution_count": 62,
   "metadata": {},
   "outputs": [
    {
     "data": {
      "text/html": [
       "<table>\n",
       "<caption>A anova: 5 × 4</caption>\n",
       "<thead>\n",
       "\t<tr><th></th><th scope=col>Df</th><th scope=col>Sum of Sq</th><th scope=col>RSS</th><th scope=col>AIC</th></tr>\n",
       "\t<tr><th></th><th scope=col>&lt;dbl&gt;</th><th scope=col>&lt;dbl&gt;</th><th scope=col>&lt;dbl&gt;</th><th scope=col>&lt;dbl&gt;</th></tr>\n",
       "</thead>\n",
       "<tbody>\n",
       "\t<tr><th scope=row>&lt;none&gt;</th><td>NA</td><td>       NA</td><td>20970.24</td><td>596.0244</td></tr>\n",
       "\t<tr><th scope=row>T12</th><td> 1</td><td>6650.3892</td><td>27620.63</td><td>624.8758</td></tr>\n",
       "\t<tr><th scope=row>Ne9</th><td> 1</td><td>2714.8130</td><td>23685.05</td><td>607.6593</td></tr>\n",
       "\t<tr><th scope=row>Wx9</th><td> 1</td><td> 903.3745</td><td>21873.61</td><td>598.7482</td></tr>\n",
       "\t<tr><th scope=row>maxO3y</th><td> 1</td><td>7363.5036</td><td>28333.74</td><td>627.7307</td></tr>\n",
       "</tbody>\n",
       "</table>\n"
      ],
      "text/latex": [
       "A anova: 5 × 4\n",
       "\\begin{tabular}{r|llll}\n",
       "  & Df & Sum of Sq & RSS & AIC\\\\\n",
       "  & <dbl> & <dbl> & <dbl> & <dbl>\\\\\n",
       "\\hline\n",
       "\t<none> & NA &        NA & 20970.24 & 596.0244\\\\\n",
       "\tT12 &  1 & 6650.3892 & 27620.63 & 624.8758\\\\\n",
       "\tNe9 &  1 & 2714.8130 & 23685.05 & 607.6593\\\\\n",
       "\tWx9 &  1 &  903.3745 & 21873.61 & 598.7482\\\\\n",
       "\tmaxO3y &  1 & 7363.5036 & 28333.74 & 627.7307\\\\\n",
       "\\end{tabular}\n"
      ],
      "text/markdown": [
       "\n",
       "A anova: 5 × 4\n",
       "\n",
       "| <!--/--> | Df &lt;dbl&gt; | Sum of Sq &lt;dbl&gt; | RSS &lt;dbl&gt; | AIC &lt;dbl&gt; |\n",
       "|---|---|---|---|---|\n",
       "| &lt;none&gt; | NA |        NA | 20970.24 | 596.0244 |\n",
       "| T12 |  1 | 6650.3892 | 27620.63 | 624.8758 |\n",
       "| Ne9 |  1 | 2714.8130 | 23685.05 | 607.6593 |\n",
       "| Wx9 |  1 |  903.3745 | 21873.61 | 598.7482 |\n",
       "| maxO3y |  1 | 7363.5036 | 28333.74 | 627.7307 |\n",
       "\n"
      ],
      "text/plain": [
       "       Df Sum of Sq RSS      AIC     \n",
       "<none> NA        NA 20970.24 596.0244\n",
       "T12     1 6650.3892 27620.63 624.8758\n",
       "Ne9     1 2714.8130 23685.05 607.6593\n",
       "Wx9     1  903.3745 21873.61 598.7482\n",
       "maxO3y  1 7363.5036 28333.74 627.7307"
      ]
     },
     "metadata": {},
     "output_type": "display_data"
    }
   ],
   "source": [
    "drop1(lm6)"
   ]
  },
  {
   "cell_type": "code",
   "execution_count": 64,
   "metadata": {},
   "outputs": [
    {
     "data": {
      "text/plain": [
       "\n",
       "Call:\n",
       "lm(formula = maxO3 ~ T12 + maxO3y, data = ozone.m)\n",
       "\n",
       "Residuals:\n",
       "    Min      1Q  Median      3Q     Max \n",
       "-48.918  -9.481   0.487   9.859  39.499 \n",
       "\n",
       "Coefficients:\n",
       "             Estimate Std. Error t value Pr(>|t|)    \n",
       "(Intercept) -29.43810    8.00289  -3.678 0.000366 ***\n",
       "T12           4.07197    0.44195   9.214 2.66e-15 ***\n",
       "maxO3y        0.35425    0.06318   5.607 1.57e-07 ***\n",
       "---\n",
       "Signif. codes:  0 '***' 0.001 '**' 0.01 '*' 0.05 '.' 0.1 ' ' 1\n",
       "\n",
       "Residual standard error: 15.55 on 109 degrees of freedom\n",
       "Multiple R-squared:  0.7012,\tAdjusted R-squared:  0.6958 \n",
       "F-statistic: 127.9 on 2 and 109 DF,  p-value: < 2.2e-16\n"
      ]
     },
     "metadata": {},
     "output_type": "display_data"
    }
   ],
   "source": [
    "lm8=lm(maxO3~T12+maxO3y,data=ozone.m)\n",
    "summary(lm8)"
   ]
  },
  {
   "cell_type": "code",
   "execution_count": 65,
   "metadata": {},
   "outputs": [
    {
     "data": {
      "text/html": [
       "937.435213958078"
      ],
      "text/latex": [
       "937.435213958078"
      ],
      "text/markdown": [
       "937.435213958078"
      ],
      "text/plain": [
       "[1] 937.4352"
      ]
     },
     "metadata": {},
     "output_type": "display_data"
    }
   ],
   "source": [
    "AIC(lm8)"
   ]
  },
  {
   "cell_type": "code",
   "execution_count": 66,
   "metadata": {},
   "outputs": [
    {
     "data": {
      "text/html": [
       "948.309209443259"
      ],
      "text/latex": [
       "948.309209443259"
      ],
      "text/markdown": [
       "948.309209443259"
      ],
      "text/plain": [
       "[1] 948.3092"
      ]
     },
     "metadata": {},
     "output_type": "display_data"
    }
   ],
   "source": [
    "BIC(lm8)"
   ]
  },
  {
   "cell_type": "code",
   "execution_count": 67,
   "metadata": {},
   "outputs": [
    {
     "name": "stdout",
     "output_type": "stream",
     "text": [
      "Start:  AIC=748.9\n",
      "maxO3 ~ 1\n",
      "\n",
      "         Df Sum of Sq   RSS    AIC\n",
      "+ T12     1     54244 33948 643.98\n",
      "+ T9      1     43138 45053 675.68\n",
      "+ maxO3y  1     41323 46868 680.10\n",
      "+ Ne12    1     36208 51984 691.70\n",
      "+ Ne9     1     34088 54104 696.18\n",
      "+ Wx9     1     24551 63640 714.36\n",
      "+ Ne15    1     20176 68016 721.81\n",
      "+ Wx12    1     16367 71825 727.91\n",
      "+ Wx15    1     13545 74647 732.23\n",
      "<none>                88192 748.90\n",
      "\n",
      "Step:  AIC=643.98\n",
      "maxO3 ~ T12\n",
      "\n",
      "         Df Sum of Sq   RSS    AIC\n",
      "+ maxO3y  1      7600 26348 617.59\n",
      "+ Wx9     1      3919 30029 632.24\n",
      "+ Ne9     1      3579 30369 633.50\n",
      "+ Wx12    1      3368 30580 634.28\n",
      "+ Wx15    1      3070 30878 635.36\n",
      "+ Ne12    1      2367 31581 637.88\n",
      "+ Ne15    1      1581 32366 640.63\n",
      "<none>                33948 643.98\n",
      "+ T9      1        19 33929 645.91\n",
      "- T12     1     54244 88192 748.90\n",
      "\n",
      "Step:  AIC=617.59\n",
      "maxO3 ~ T12 + maxO3y\n",
      "\n",
      "         Df Sum of Sq   RSS    AIC\n",
      "+ Ne9     1    4474.5 21874 598.75\n",
      "+ Wx12    1    2793.4 23555 607.04\n",
      "+ Wx9     1    2663.0 23685 607.66\n",
      "+ Wx15    1    2638.9 23709 607.77\n",
      "+ Ne12    1    2508.0 23840 608.39\n",
      "+ Ne15    1    1147.7 25200 614.61\n",
      "<none>                26348 617.59\n",
      "+ T9      1     225.2 26123 618.63\n",
      "- maxO3y  1    7599.8 33948 643.98\n",
      "- T12     1   20520.3 46868 680.10\n",
      "\n",
      "Step:  AIC=598.75\n",
      "maxO3 ~ T12 + maxO3y + Ne9\n",
      "\n",
      "         Df Sum of Sq   RSS    AIC\n",
      "+ Wx9     1     903.4 20970 596.02\n",
      "+ Wx12    1     630.7 21243 597.47\n",
      "+ Wx15    1     611.0 21263 597.58\n",
      "<none>                21874 598.75\n",
      "+ T9      1     108.8 21765 600.19\n",
      "+ Ne15    1      61.1 21813 600.43\n",
      "+ Ne12    1      60.6 21813 600.44\n",
      "- Ne9     1    4474.5 26348 617.59\n",
      "- T12     1    7140.0 29014 628.39\n",
      "- maxO3y  1    8495.5 30369 633.50\n",
      "\n",
      "Step:  AIC=596.02\n",
      "maxO3 ~ T12 + maxO3y + Ne9 + Wx9\n",
      "\n",
      "         Df Sum of Sq   RSS    AIC\n",
      "<none>                20970 596.02\n",
      "+ Wx15    1      74.1 20896 597.63\n",
      "+ Wx12    1      45.3 20925 597.78\n",
      "+ Ne12    1      19.0 20951 597.92\n",
      "+ Ne15    1      16.4 20954 597.94\n",
      "+ T9      1       0.0 20970 598.02\n",
      "- Wx9     1     903.4 21874 598.75\n",
      "- Ne9     1    2714.8 23685 607.66\n",
      "- T12     1    6650.4 27621 624.88\n",
      "- maxO3y  1    7363.5 28334 627.73\n"
     ]
    },
    {
     "data": {
      "text/plain": [
       "\n",
       "Call:\n",
       "lm(formula = maxO3 ~ T12 + maxO3y + Ne9 + Wx9, data = ozone.m)\n",
       "\n",
       "Coefficients:\n",
       "(Intercept)          T12       maxO3y          Ne9          Wx9  \n",
       "    12.6313       2.7641       0.3548      -2.5154       1.2929  \n"
      ]
     },
     "metadata": {},
     "output_type": "display_data"
    }
   ],
   "source": [
    "step(lm0,~T9+T12+Ne9+Ne12+Ne15+Wx9+Wx12+Wx15+maxO3y)"
   ]
  },
  {
   "cell_type": "code",
   "execution_count": 68,
   "metadata": {},
   "outputs": [
    {
     "data": {
      "text/plain": [
       "\n",
       "Call:\n",
       "lm(formula = maxO3 ~ T12 + maxO3y + Ne9 + Wx9, data = ozone.m)\n",
       "\n",
       "Coefficients:\n",
       "(Intercept)          T12       maxO3y          Ne9          Wx9  \n",
       "    12.6313       2.7641       0.3548      -2.5154       1.2929  \n"
      ]
     },
     "metadata": {},
     "output_type": "display_data"
    }
   ],
   "source": [
    "step(lm0,~T9+T12+Ne9+Ne12+Ne15+Wx9+Wx12+Wx15+maxO3y,trace=F)"
   ]
  },
  {
   "cell_type": "code",
   "execution_count": 70,
   "metadata": {},
   "outputs": [
    {
     "name": "stdout",
     "output_type": "stream",
     "text": [
      "  treatment outcome counts\n",
      "1         1       1     18\n",
      "2         1       2     17\n",
      "3         1       3     15\n",
      "4         2       1     20\n",
      "5         2       2     10\n",
      "6         2       3     20\n",
      "7         3       1     25\n",
      "8         3       2     13\n",
      "9         3       3     12\n"
     ]
    }
   ],
   "source": [
    "counts <- c(18,17,15,20,10,20,25,13,12)\n",
    "outcome <- gl(3,1,9)\n",
    "treatment <- gl(3,3)\n",
    "print(d.AD <- data.frame(treatment, outcome, counts))"
   ]
  },
  {
   "cell_type": "code",
   "execution_count": 71,
   "metadata": {},
   "outputs": [
    {
     "data": {
      "text/html": [
       "<table>\n",
       "<caption>A anova: 3 × 4</caption>\n",
       "<thead>\n",
       "\t<tr><th></th><th scope=col>Df</th><th scope=col>Deviance</th><th scope=col>Resid. Df</th><th scope=col>Resid. Dev</th></tr>\n",
       "\t<tr><th></th><th scope=col>&lt;int&gt;</th><th scope=col>&lt;dbl&gt;</th><th scope=col>&lt;int&gt;</th><th scope=col>&lt;dbl&gt;</th></tr>\n",
       "</thead>\n",
       "<tbody>\n",
       "\t<tr><th scope=row>NULL</th><td>NA</td><td>      NA</td><td>8</td><td>10.581446</td></tr>\n",
       "\t<tr><th scope=row>outcome</th><td> 2</td><td>5.452305</td><td>6</td><td> 5.129141</td></tr>\n",
       "\t<tr><th scope=row>treatment</th><td> 2</td><td>0.000000</td><td>4</td><td> 5.129141</td></tr>\n",
       "</tbody>\n",
       "</table>\n"
      ],
      "text/latex": [
       "A anova: 3 × 4\n",
       "\\begin{tabular}{r|llll}\n",
       "  & Df & Deviance & Resid. Df & Resid. Dev\\\\\n",
       "  & <int> & <dbl> & <int> & <dbl>\\\\\n",
       "\\hline\n",
       "\tNULL & NA &       NA & 8 & 10.581446\\\\\n",
       "\toutcome &  2 & 5.452305 & 6 &  5.129141\\\\\n",
       "\ttreatment &  2 & 0.000000 & 4 &  5.129141\\\\\n",
       "\\end{tabular}\n"
      ],
      "text/markdown": [
       "\n",
       "A anova: 3 × 4\n",
       "\n",
       "| <!--/--> | Df &lt;int&gt; | Deviance &lt;dbl&gt; | Resid. Df &lt;int&gt; | Resid. Dev &lt;dbl&gt; |\n",
       "|---|---|---|---|---|\n",
       "| NULL | NA |       NA | 8 | 10.581446 |\n",
       "| outcome |  2 | 5.452305 | 6 |  5.129141 |\n",
       "| treatment |  2 | 0.000000 | 4 |  5.129141 |\n",
       "\n"
      ],
      "text/plain": [
       "          Df Deviance Resid. Df Resid. Dev\n",
       "NULL      NA       NA 8         10.581446 \n",
       "outcome    2 5.452305 6          5.129141 \n",
       "treatment  2 0.000000 4          5.129141 "
      ]
     },
     "metadata": {},
     "output_type": "display_data"
    }
   ],
   "source": [
    "glm.D93 <- glm(counts ~ outcome + treatment, family = poisson())\n",
    "anova(glm.D93)"
   ]
  },
  {
   "cell_type": "code",
   "execution_count": 74,
   "metadata": {},
   "outputs": [
    {
     "data": {
      "text/plain": [
       "\n",
       "Call:\n",
       "glm(formula = Postwt ~ Prewt + Treat + offset(Prewt), family = gaussian, \n",
       "    data = anorexia)\n",
       "\n",
       "Deviance Residuals: \n",
       "     Min        1Q    Median        3Q       Max  \n",
       "-14.1083   -4.2773   -0.5484    5.4838   15.2922  \n",
       "\n",
       "Coefficients:\n",
       "            Estimate Std. Error t value Pr(>|t|)    \n",
       "(Intercept)  49.7711    13.3910   3.717 0.000410 ***\n",
       "Prewt        -0.5655     0.1612  -3.509 0.000803 ***\n",
       "TreatCont    -4.0971     1.8935  -2.164 0.033999 *  \n",
       "TreatFT       4.5631     2.1333   2.139 0.036035 *  \n",
       "---\n",
       "Signif. codes:  0 '***' 0.001 '**' 0.01 '*' 0.05 '.' 0.1 ' ' 1\n",
       "\n",
       "(Dispersion parameter for gaussian family taken to be 48.69504)\n",
       "\n",
       "    Null deviance: 4525.4  on 71  degrees of freedom\n",
       "Residual deviance: 3311.3  on 68  degrees of freedom\n",
       "AIC: 489.97\n",
       "\n",
       "Number of Fisher Scoring iterations: 2\n"
      ]
     },
     "metadata": {},
     "output_type": "display_data"
    }
   ],
   "source": [
    "library(MASS)\n",
    "anorex.1 <- glm(Postwt ~ Prewt + Treat + offset(Prewt),\n",
    "                family = gaussian, \n",
    "                data = anorexia)\n",
    "summary(anorex.1)"
   ]
  },
  {
   "cell_type": "code",
   "execution_count": 75,
   "metadata": {},
   "outputs": [
    {
     "data": {
      "text/html": [
       "<dl class=dl-horizontal>\n",
       "\t<dt>20010601</dt>\n",
       "\t\t<dd>82.0071588051247</dd>\n",
       "\t<dt>20010602</dt>\n",
       "\t\t<dd>79.8247591864288</dd>\n",
       "\t<dt>20010603</dt>\n",
       "\t\t<dd>84.7364242022669</dd>\n",
       "\t<dt>20010604</dt>\n",
       "\t\t<dd>97.5092488485113</dd>\n",
       "\t<dt>20010605</dt>\n",
       "\t\t<dd>86.8877815579974</dd>\n",
       "\t<dt>20010606</dt>\n",
       "\t\t<dd>83.4248286013372</dd>\n",
       "\t<dt>20010607</dt>\n",
       "\t\t<dd>63.1576881044456</dd>\n",
       "\t<dt>20010610</dt>\n",
       "\t\t<dd>81.7655449338531</dd>\n",
       "\t<dt>20010611</dt>\n",
       "\t\t<dd>89.3154412658301</dd>\n",
       "\t<dt>20010612</dt>\n",
       "\t\t<dd>95.0705142543343</dd>\n",
       "\t<dt>20010613</dt>\n",
       "\t\t<dd>83.482614751021</dd>\n",
       "\t<dt>20010614</dt>\n",
       "\t\t<dd>84.4571277906809</dd>\n",
       "\t<dt>20010615</dt>\n",
       "\t\t<dd>78.3271301955573</dd>\n",
       "\t<dt>20010616</dt>\n",
       "\t\t<dd>67.5699869963065</dd>\n",
       "\t<dt>20010617</dt>\n",
       "\t\t<dd>61.5118677689816</dd>\n",
       "\t<dt>20010618</dt>\n",
       "\t\t<dd>77.2948310062137</dd>\n",
       "\t<dt>20010620</dt>\n",
       "\t\t<dd>125.409238931523</dd>\n",
       "\t<dt>20010621</dt>\n",
       "\t\t<dd>103.955732742189</dd>\n",
       "\t<dt>20010622</dt>\n",
       "\t\t<dd>103.191026191992</dd>\n",
       "\t<dt>20010623</dt>\n",
       "\t\t<dd>133.797320236041</dd>\n",
       "\t<dt>20010624</dt>\n",
       "\t\t<dd>133.48967988319</dd>\n",
       "\t<dt>20010625</dt>\n",
       "\t\t<dd>148.519170961605</dd>\n",
       "\t<dt>20010626</dt>\n",
       "\t\t<dd>119.566754807594</dd>\n",
       "\t<dt>20010627</dt>\n",
       "\t\t<dd>94.505121648778</dd>\n",
       "\t<dt>20010628</dt>\n",
       "\t\t<dd>83.6857576908484</dd>\n",
       "\t<dt>20010629</dt>\n",
       "\t\t<dd>93.7174536624766</dd>\n",
       "\t<dt>20010630</dt>\n",
       "\t\t<dd>91.8358713419606</dd>\n",
       "\t<dt>20010701</dt>\n",
       "\t\t<dd>84.5787347535898</dd>\n",
       "\t<dt>20010702</dt>\n",
       "\t\t<dd>117.08957255426</dd>\n",
       "\t<dt>20010703</dt>\n",
       "\t\t<dd>135.465473121515</dd>\n",
       "\t<dt>20010704</dt>\n",
       "\t\t<dd>91.4303738534355</dd>\n",
       "\t<dt>20010705</dt>\n",
       "\t\t<dd>67.1757471714475</dd>\n",
       "\t<dt>20010706</dt>\n",
       "\t\t<dd>106.273043150779</dd>\n",
       "\t<dt>20010707</dt>\n",
       "\t\t<dd>73.938581130931</dd>\n",
       "\t<dt>20010708</dt>\n",
       "\t\t<dd>91.5334539892345</dd>\n",
       "\t<dt>20010709</dt>\n",
       "\t\t<dd>87.4843759315541</dd>\n",
       "\t<dt>20010710</dt>\n",
       "\t\t<dd>80.7140900313049</dd>\n",
       "\t<dt>20010711</dt>\n",
       "\t\t<dd>80.4614012736891</dd>\n",
       "\t<dt>20010712</dt>\n",
       "\t\t<dd>61.6022729638902</dd>\n",
       "\t<dt>20010713</dt>\n",
       "\t\t<dd>47.9779595181193</dd>\n",
       "\t<dt>20010714</dt>\n",
       "\t\t<dd>64.6154288866485</dd>\n",
       "\t<dt>20010715</dt>\n",
       "\t\t<dd>74.3076538513309</dd>\n",
       "\t<dt>20010716</dt>\n",
       "\t\t<dd>84.0651169064628</dd>\n",
       "\t<dt>20010717</dt>\n",
       "\t\t<dd>75.616391625525</dd>\n",
       "\t<dt>20010718</dt>\n",
       "\t\t<dd>53.7463363336086</dd>\n",
       "\t<dt>20010719</dt>\n",
       "\t\t<dd>69.010618228624</dd>\n",
       "\t<dt>20010720</dt>\n",
       "\t\t<dd>84.0999416200417</dd>\n",
       "\t<dt>20010721</dt>\n",
       "\t\t<dd>80.2576294477671</dd>\n",
       "\t<dt>20010722</dt>\n",
       "\t\t<dd>84.944790142219</dd>\n",
       "\t<dt>20010723</dt>\n",
       "\t\t<dd>82.8624533275516</dd>\n",
       "\t<dt>20010724</dt>\n",
       "\t\t<dd>98.3407935437035</dd>\n",
       "\t<dt>20010725</dt>\n",
       "\t\t<dd>108.621532055082</dd>\n",
       "\t<dt>20010726</dt>\n",
       "\t\t<dd>141.749513947451</dd>\n",
       "\t<dt>20010727</dt>\n",
       "\t\t<dd>141.939981946388</dd>\n",
       "\t<dt>20010728</dt>\n",
       "\t\t<dd>136.148643694793</dd>\n",
       "\t<dt>20010729</dt>\n",
       "\t\t<dd>150.194593010523</dd>\n",
       "\t<dt>20010730</dt>\n",
       "\t\t<dd>156.895206211328</dd>\n",
       "\t<dt>20010731</dt>\n",
       "\t\t<dd>140.385195691927</dd>\n",
       "\t<dt>20010801</dt>\n",
       "\t\t<dd>122.46370954489</dd>\n",
       "\t<dt>20010802</dt>\n",
       "\t\t<dd>103.835725833826</dd>\n",
       "\t<dt>20010803</dt>\n",
       "\t\t<dd>90.1498205154712</dd>\n",
       "\t<dt>20010804</dt>\n",
       "\t\t<dd>79.3201700623271</dd>\n",
       "\t<dt>20010805</dt>\n",
       "\t\t<dd>62.5908782216649</dd>\n",
       "\t<dt>20010806</dt>\n",
       "\t\t<dd>71.4776967640657</dd>\n",
       "\t<dt>20010807</dt>\n",
       "\t\t<dd>74.6404613086408</dd>\n",
       "\t<dt>20010808</dt>\n",
       "\t\t<dd>76.6998366872033</dd>\n",
       "\t<dt>20010809</dt>\n",
       "\t\t<dd>72.019968428482</dd>\n",
       "\t<dt>20010810</dt>\n",
       "\t\t<dd>81.0267938792454</dd>\n",
       "\t<dt>20010811</dt>\n",
       "\t\t<dd>100.718095770331</dd>\n",
       "\t<dt>20010812</dt>\n",
       "\t\t<dd>115.455455991235</dd>\n",
       "\t<dt>20010813</dt>\n",
       "\t\t<dd>85.7606425647502</dd>\n",
       "\t<dt>20010814</dt>\n",
       "\t\t<dd>119.93821597367</dd>\n",
       "\t<dt>20010815</dt>\n",
       "\t\t<dd>96.7690572443923</dd>\n",
       "\t<dt>20010819</dt>\n",
       "\t\t<dd>81.1038952471689</dd>\n",
       "\t<dt>20010820</dt>\n",
       "\t\t<dd>74.5359638956174</dd>\n",
       "\t<dt>20010821</dt>\n",
       "\t\t<dd>106.048538829393</dd>\n",
       "\t<dt>20010822</dt>\n",
       "\t\t<dd>110.820229560247</dd>\n",
       "\t<dt>20010823</dt>\n",
       "\t\t<dd>119.626929402954</dd>\n",
       "\t<dt>20010824</dt>\n",
       "\t\t<dd>124.487448546457</dd>\n",
       "\t<dt>20010825</dt>\n",
       "\t\t<dd>164.684487473935</dd>\n",
       "\t<dt>20010826</dt>\n",
       "\t\t<dd>110.642253724879</dd>\n",
       "\t<dt>20010827</dt>\n",
       "\t\t<dd>101.199882963363</dd>\n",
       "\t<dt>20010828</dt>\n",
       "\t\t<dd>119.184401532496</dd>\n",
       "\t<dt>20010829</dt>\n",
       "\t\t<dd>81.4572756949077</dd>\n",
       "\t<dt>20010830</dt>\n",
       "\t\t<dd>79.606895142392</dd>\n",
       "\t<dt>20010831</dt>\n",
       "\t\t<dd>81.1127644651589</dd>\n",
       "\t<dt>20010901</dt>\n",
       "\t\t<dd>74.440335700584</dd>\n",
       "\t<dt>20010902</dt>\n",
       "\t\t<dd>91.7358085379322</dd>\n",
       "\t<dt>20010903</dt>\n",
       "\t\t<dd>62.054298938433</dd>\n",
       "\t<dt>20010904</dt>\n",
       "\t\t<dd>64.0359440629774</dd>\n",
       "\t<dt>20010905</dt>\n",
       "\t\t<dd>84.3125826639538</dd>\n",
       "\t<dt>20010906</dt>\n",
       "\t\t<dd>65.6010168126526</dd>\n",
       "\t<dt>20010907</dt>\n",
       "\t\t<dd>73.1279517085246</dd>\n",
       "\t<dt>20010908</dt>\n",
       "\t\t<dd>70.6320598507586</dd>\n",
       "\t<dt>20010912</dt>\n",
       "\t\t<dd>81.2736307506418</dd>\n",
       "\t<dt>20010913</dt>\n",
       "\t\t<dd>68.2265731879011</dd>\n",
       "\t<dt>20010914</dt>\n",
       "\t\t<dd>70.4897203923856</dd>\n",
       "\t<dt>20010915</dt>\n",
       "\t\t<dd>68.7919657934574</dd>\n",
       "\t<dt>20010916</dt>\n",
       "\t\t<dd>74.0890014161643</dd>\n",
       "\t<dt>20010917</dt>\n",
       "\t\t<dd>64.2840387065631</dd>\n",
       "\t<dt>20010918</dt>\n",
       "\t\t<dd>48.9101959034346</dd>\n",
       "\t<dt>20010919</dt>\n",
       "\t\t<dd>50.8777488098642</dd>\n",
       "\t<dt>20010920</dt>\n",
       "\t\t<dd>64.3693804063819</dd>\n",
       "\t<dt>20010921</dt>\n",
       "\t\t<dd>82.7148908690539</dd>\n",
       "\t<dt>20010922</dt>\n",
       "\t\t<dd>95.987870030405</dd>\n",
       "\t<dt>20010923</dt>\n",
       "\t\t<dd>93.7720629753547</dd>\n",
       "\t<dt>20010924</dt>\n",
       "\t\t<dd>73.6577079370855</dd>\n",
       "\t<dt>20010925</dt>\n",
       "\t\t<dd>79.7432232095104</dd>\n",
       "\t<dt>20010927</dt>\n",
       "\t\t<dd>77.6365076815136</dd>\n",
       "\t<dt>20010928</dt>\n",
       "\t\t<dd>86.1675573304996</dd>\n",
       "\t<dt>20010929</dt>\n",
       "\t\t<dd>85.3033935900826</dd>\n",
       "\t<dt>20010930</dt>\n",
       "\t\t<dd>72.8440611829085</dd>\n",
       "</dl>\n"
      ],
      "text/latex": [
       "\\begin{description*}\n",
       "\\item[20010601] 82.0071588051247\n",
       "\\item[20010602] 79.8247591864288\n",
       "\\item[20010603] 84.7364242022669\n",
       "\\item[20010604] 97.5092488485113\n",
       "\\item[20010605] 86.8877815579974\n",
       "\\item[20010606] 83.4248286013372\n",
       "\\item[20010607] 63.1576881044456\n",
       "\\item[20010610] 81.7655449338531\n",
       "\\item[20010611] 89.3154412658301\n",
       "\\item[20010612] 95.0705142543343\n",
       "\\item[20010613] 83.482614751021\n",
       "\\item[20010614] 84.4571277906809\n",
       "\\item[20010615] 78.3271301955573\n",
       "\\item[20010616] 67.5699869963065\n",
       "\\item[20010617] 61.5118677689816\n",
       "\\item[20010618] 77.2948310062137\n",
       "\\item[20010620] 125.409238931523\n",
       "\\item[20010621] 103.955732742189\n",
       "\\item[20010622] 103.191026191992\n",
       "\\item[20010623] 133.797320236041\n",
       "\\item[20010624] 133.48967988319\n",
       "\\item[20010625] 148.519170961605\n",
       "\\item[20010626] 119.566754807594\n",
       "\\item[20010627] 94.505121648778\n",
       "\\item[20010628] 83.6857576908484\n",
       "\\item[20010629] 93.7174536624766\n",
       "\\item[20010630] 91.8358713419606\n",
       "\\item[20010701] 84.5787347535898\n",
       "\\item[20010702] 117.08957255426\n",
       "\\item[20010703] 135.465473121515\n",
       "\\item[20010704] 91.4303738534355\n",
       "\\item[20010705] 67.1757471714475\n",
       "\\item[20010706] 106.273043150779\n",
       "\\item[20010707] 73.938581130931\n",
       "\\item[20010708] 91.5334539892345\n",
       "\\item[20010709] 87.4843759315541\n",
       "\\item[20010710] 80.7140900313049\n",
       "\\item[20010711] 80.4614012736891\n",
       "\\item[20010712] 61.6022729638902\n",
       "\\item[20010713] 47.9779595181193\n",
       "\\item[20010714] 64.6154288866485\n",
       "\\item[20010715] 74.3076538513309\n",
       "\\item[20010716] 84.0651169064628\n",
       "\\item[20010717] 75.616391625525\n",
       "\\item[20010718] 53.7463363336086\n",
       "\\item[20010719] 69.010618228624\n",
       "\\item[20010720] 84.0999416200417\n",
       "\\item[20010721] 80.2576294477671\n",
       "\\item[20010722] 84.944790142219\n",
       "\\item[20010723] 82.8624533275516\n",
       "\\item[20010724] 98.3407935437035\n",
       "\\item[20010725] 108.621532055082\n",
       "\\item[20010726] 141.749513947451\n",
       "\\item[20010727] 141.939981946388\n",
       "\\item[20010728] 136.148643694793\n",
       "\\item[20010729] 150.194593010523\n",
       "\\item[20010730] 156.895206211328\n",
       "\\item[20010731] 140.385195691927\n",
       "\\item[20010801] 122.46370954489\n",
       "\\item[20010802] 103.835725833826\n",
       "\\item[20010803] 90.1498205154712\n",
       "\\item[20010804] 79.3201700623271\n",
       "\\item[20010805] 62.5908782216649\n",
       "\\item[20010806] 71.4776967640657\n",
       "\\item[20010807] 74.6404613086408\n",
       "\\item[20010808] 76.6998366872033\n",
       "\\item[20010809] 72.019968428482\n",
       "\\item[20010810] 81.0267938792454\n",
       "\\item[20010811] 100.718095770331\n",
       "\\item[20010812] 115.455455991235\n",
       "\\item[20010813] 85.7606425647502\n",
       "\\item[20010814] 119.93821597367\n",
       "\\item[20010815] 96.7690572443923\n",
       "\\item[20010819] 81.1038952471689\n",
       "\\item[20010820] 74.5359638956174\n",
       "\\item[20010821] 106.048538829393\n",
       "\\item[20010822] 110.820229560247\n",
       "\\item[20010823] 119.626929402954\n",
       "\\item[20010824] 124.487448546457\n",
       "\\item[20010825] 164.684487473935\n",
       "\\item[20010826] 110.642253724879\n",
       "\\item[20010827] 101.199882963363\n",
       "\\item[20010828] 119.184401532496\n",
       "\\item[20010829] 81.4572756949077\n",
       "\\item[20010830] 79.606895142392\n",
       "\\item[20010831] 81.1127644651589\n",
       "\\item[20010901] 74.440335700584\n",
       "\\item[20010902] 91.7358085379322\n",
       "\\item[20010903] 62.054298938433\n",
       "\\item[20010904] 64.0359440629774\n",
       "\\item[20010905] 84.3125826639538\n",
       "\\item[20010906] 65.6010168126526\n",
       "\\item[20010907] 73.1279517085246\n",
       "\\item[20010908] 70.6320598507586\n",
       "\\item[20010912] 81.2736307506418\n",
       "\\item[20010913] 68.2265731879011\n",
       "\\item[20010914] 70.4897203923856\n",
       "\\item[20010915] 68.7919657934574\n",
       "\\item[20010916] 74.0890014161643\n",
       "\\item[20010917] 64.2840387065631\n",
       "\\item[20010918] 48.9101959034346\n",
       "\\item[20010919] 50.8777488098642\n",
       "\\item[20010920] 64.3693804063819\n",
       "\\item[20010921] 82.7148908690539\n",
       "\\item[20010922] 95.987870030405\n",
       "\\item[20010923] 93.7720629753547\n",
       "\\item[20010924] 73.6577079370855\n",
       "\\item[20010925] 79.7432232095104\n",
       "\\item[20010927] 77.6365076815136\n",
       "\\item[20010928] 86.1675573304996\n",
       "\\item[20010929] 85.3033935900826\n",
       "\\item[20010930] 72.8440611829085\n",
       "\\end{description*}\n"
      ],
      "text/markdown": [
       "20010601\n",
       ":   82.007158805124720010602\n",
       ":   79.824759186428820010603\n",
       ":   84.736424202266920010604\n",
       ":   97.509248848511320010605\n",
       ":   86.887781557997420010606\n",
       ":   83.424828601337220010607\n",
       ":   63.157688104445620010610\n",
       ":   81.765544933853120010611\n",
       ":   89.315441265830120010612\n",
       ":   95.070514254334320010613\n",
       ":   83.48261475102120010614\n",
       ":   84.457127790680920010615\n",
       ":   78.327130195557320010616\n",
       ":   67.569986996306520010617\n",
       ":   61.511867768981620010618\n",
       ":   77.294831006213720010620\n",
       ":   125.40923893152320010621\n",
       ":   103.95573274218920010622\n",
       ":   103.19102619199220010623\n",
       ":   133.79732023604120010624\n",
       ":   133.4896798831920010625\n",
       ":   148.51917096160520010626\n",
       ":   119.56675480759420010627\n",
       ":   94.50512164877820010628\n",
       ":   83.685757690848420010629\n",
       ":   93.717453662476620010630\n",
       ":   91.835871341960620010701\n",
       ":   84.578734753589820010702\n",
       ":   117.0895725542620010703\n",
       ":   135.46547312151520010704\n",
       ":   91.430373853435520010705\n",
       ":   67.175747171447520010706\n",
       ":   106.27304315077920010707\n",
       ":   73.93858113093120010708\n",
       ":   91.533453989234520010709\n",
       ":   87.484375931554120010710\n",
       ":   80.714090031304920010711\n",
       ":   80.461401273689120010712\n",
       ":   61.602272963890220010713\n",
       ":   47.977959518119320010714\n",
       ":   64.615428886648520010715\n",
       ":   74.307653851330920010716\n",
       ":   84.065116906462820010717\n",
       ":   75.61639162552520010718\n",
       ":   53.746336333608620010719\n",
       ":   69.01061822862420010720\n",
       ":   84.099941620041720010721\n",
       ":   80.257629447767120010722\n",
       ":   84.94479014221920010723\n",
       ":   82.862453327551620010724\n",
       ":   98.340793543703520010725\n",
       ":   108.62153205508220010726\n",
       ":   141.74951394745120010727\n",
       ":   141.93998194638820010728\n",
       ":   136.14864369479320010729\n",
       ":   150.19459301052320010730\n",
       ":   156.89520621132820010731\n",
       ":   140.38519569192720010801\n",
       ":   122.4637095448920010802\n",
       ":   103.83572583382620010803\n",
       ":   90.149820515471220010804\n",
       ":   79.320170062327120010805\n",
       ":   62.590878221664920010806\n",
       ":   71.477696764065720010807\n",
       ":   74.640461308640820010808\n",
       ":   76.699836687203320010809\n",
       ":   72.01996842848220010810\n",
       ":   81.026793879245420010811\n",
       ":   100.71809577033120010812\n",
       ":   115.45545599123520010813\n",
       ":   85.760642564750220010814\n",
       ":   119.9382159736720010815\n",
       ":   96.769057244392320010819\n",
       ":   81.103895247168920010820\n",
       ":   74.535963895617420010821\n",
       ":   106.04853882939320010822\n",
       ":   110.82022956024720010823\n",
       ":   119.62692940295420010824\n",
       ":   124.48744854645720010825\n",
       ":   164.68448747393520010826\n",
       ":   110.64225372487920010827\n",
       ":   101.19988296336320010828\n",
       ":   119.18440153249620010829\n",
       ":   81.457275694907720010830\n",
       ":   79.60689514239220010831\n",
       ":   81.112764465158920010901\n",
       ":   74.44033570058420010902\n",
       ":   91.735808537932220010903\n",
       ":   62.05429893843320010904\n",
       ":   64.035944062977420010905\n",
       ":   84.312582663953820010906\n",
       ":   65.601016812652620010907\n",
       ":   73.127951708524620010908\n",
       ":   70.632059850758620010912\n",
       ":   81.273630750641820010913\n",
       ":   68.226573187901120010914\n",
       ":   70.489720392385620010915\n",
       ":   68.791965793457420010916\n",
       ":   74.089001416164320010917\n",
       ":   64.284038706563120010918\n",
       ":   48.910195903434620010919\n",
       ":   50.877748809864220010920\n",
       ":   64.369380406381920010921\n",
       ":   82.714890869053920010922\n",
       ":   95.98787003040520010923\n",
       ":   93.772062975354720010924\n",
       ":   73.657707937085520010925\n",
       ":   79.743223209510420010927\n",
       ":   77.636507681513620010928\n",
       ":   86.167557330499620010929\n",
       ":   85.303393590082620010930\n",
       ":   72.8440611829085\n",
       "\n"
      ],
      "text/plain": [
       " 20010601  20010602  20010603  20010604  20010605  20010606  20010607  20010610 \n",
       " 82.00716  79.82476  84.73642  97.50925  86.88778  83.42483  63.15769  81.76554 \n",
       " 20010611  20010612  20010613  20010614  20010615  20010616  20010617  20010618 \n",
       " 89.31544  95.07051  83.48261  84.45713  78.32713  67.56999  61.51187  77.29483 \n",
       " 20010620  20010621  20010622  20010623  20010624  20010625  20010626  20010627 \n",
       "125.40924 103.95573 103.19103 133.79732 133.48968 148.51917 119.56675  94.50512 \n",
       " 20010628  20010629  20010630  20010701  20010702  20010703  20010704  20010705 \n",
       " 83.68576  93.71745  91.83587  84.57873 117.08957 135.46547  91.43037  67.17575 \n",
       " 20010706  20010707  20010708  20010709  20010710  20010711  20010712  20010713 \n",
       "106.27304  73.93858  91.53345  87.48438  80.71409  80.46140  61.60227  47.97796 \n",
       " 20010714  20010715  20010716  20010717  20010718  20010719  20010720  20010721 \n",
       " 64.61543  74.30765  84.06512  75.61639  53.74634  69.01062  84.09994  80.25763 \n",
       " 20010722  20010723  20010724  20010725  20010726  20010727  20010728  20010729 \n",
       " 84.94479  82.86245  98.34079 108.62153 141.74951 141.93998 136.14864 150.19459 \n",
       " 20010730  20010731  20010801  20010802  20010803  20010804  20010805  20010806 \n",
       "156.89521 140.38520 122.46371 103.83573  90.14982  79.32017  62.59088  71.47770 \n",
       " 20010807  20010808  20010809  20010810  20010811  20010812  20010813  20010814 \n",
       " 74.64046  76.69984  72.01997  81.02679 100.71810 115.45546  85.76064 119.93822 \n",
       " 20010815  20010819  20010820  20010821  20010822  20010823  20010824  20010825 \n",
       " 96.76906  81.10390  74.53596 106.04854 110.82023 119.62693 124.48745 164.68449 \n",
       " 20010826  20010827  20010828  20010829  20010830  20010831  20010901  20010902 \n",
       "110.64225 101.19988 119.18440  81.45728  79.60690  81.11276  74.44034  91.73581 \n",
       " 20010903  20010904  20010905  20010906  20010907  20010908  20010912  20010913 \n",
       " 62.05430  64.03594  84.31258  65.60102  73.12795  70.63206  81.27363  68.22657 \n",
       " 20010914  20010915  20010916  20010917  20010918  20010919  20010920  20010921 \n",
       " 70.48972  68.79197  74.08900  64.28404  48.91020  50.87775  64.36938  82.71489 \n",
       " 20010922  20010923  20010924  20010925  20010927  20010928  20010929  20010930 \n",
       " 95.98787  93.77206  73.65771  79.74322  77.63651  86.16756  85.30339  72.84406 "
      ]
     },
     "metadata": {},
     "output_type": "display_data"
    }
   ],
   "source": [
    "lm7$fitted"
   ]
  },
  {
   "cell_type": "code",
   "execution_count": 76,
   "metadata": {},
   "outputs": [
    {
     "data": {
      "text/html": [
       "<table>\n",
       "<caption>A matrix: 112 × 2 of type dbl</caption>\n",
       "<thead>\n",
       "\t<tr><th></th><th scope=col>maxO3</th><th scope=col></th></tr>\n",
       "</thead>\n",
       "<tbody>\n",
       "\t<tr><th scope=row>20010601</th><td> 87</td><td> 82.00716</td></tr>\n",
       "\t<tr><th scope=row>20010602</th><td> 82</td><td> 79.82476</td></tr>\n",
       "\t<tr><th scope=row>20010603</th><td> 92</td><td> 84.73642</td></tr>\n",
       "\t<tr><th scope=row>20010604</th><td>114</td><td> 97.50925</td></tr>\n",
       "\t<tr><th scope=row>20010605</th><td> 94</td><td> 86.88778</td></tr>\n",
       "\t<tr><th scope=row>20010606</th><td> 80</td><td> 83.42483</td></tr>\n",
       "\t<tr><th scope=row>20010607</th><td> 79</td><td> 63.15769</td></tr>\n",
       "\t<tr><th scope=row>20010610</th><td> 79</td><td> 81.76554</td></tr>\n",
       "\t<tr><th scope=row>20010611</th><td>101</td><td> 89.31544</td></tr>\n",
       "\t<tr><th scope=row>20010612</th><td>106</td><td> 95.07051</td></tr>\n",
       "\t<tr><th scope=row>20010613</th><td>101</td><td> 83.48261</td></tr>\n",
       "\t<tr><th scope=row>20010614</th><td> 90</td><td> 84.45713</td></tr>\n",
       "\t<tr><th scope=row>20010615</th><td> 72</td><td> 78.32713</td></tr>\n",
       "\t<tr><th scope=row>20010616</th><td> 70</td><td> 67.56999</td></tr>\n",
       "\t<tr><th scope=row>20010617</th><td> 83</td><td> 61.51187</td></tr>\n",
       "\t<tr><th scope=row>20010618</th><td> 88</td><td> 77.29483</td></tr>\n",
       "\t<tr><th scope=row>20010620</th><td>145</td><td>125.40924</td></tr>\n",
       "\t<tr><th scope=row>20010621</th><td> 81</td><td>103.95573</td></tr>\n",
       "\t<tr><th scope=row>20010622</th><td>121</td><td>103.19103</td></tr>\n",
       "\t<tr><th scope=row>20010623</th><td>146</td><td>133.79732</td></tr>\n",
       "\t<tr><th scope=row>20010624</th><td>121</td><td>133.48968</td></tr>\n",
       "\t<tr><th scope=row>20010625</th><td>146</td><td>148.51917</td></tr>\n",
       "\t<tr><th scope=row>20010626</th><td>108</td><td>119.56675</td></tr>\n",
       "\t<tr><th scope=row>20010627</th><td> 83</td><td> 94.50512</td></tr>\n",
       "\t<tr><th scope=row>20010628</th><td> 57</td><td> 83.68576</td></tr>\n",
       "\t<tr><th scope=row>20010629</th><td> 81</td><td> 93.71745</td></tr>\n",
       "\t<tr><th scope=row>20010630</th><td> 67</td><td> 91.83587</td></tr>\n",
       "\t<tr><th scope=row>20010701</th><td> 70</td><td> 84.57873</td></tr>\n",
       "\t<tr><th scope=row>20010702</th><td>106</td><td>117.08957</td></tr>\n",
       "\t<tr><th scope=row>20010703</th><td>139</td><td>135.46547</td></tr>\n",
       "\t<tr><th scope=row>...</th><td>...</td><td>...</td></tr>\n",
       "\t<tr><th scope=row>20010828</th><td>112</td><td>119.18440</td></tr>\n",
       "\t<tr><th scope=row>20010829</th><td>101</td><td> 81.45728</td></tr>\n",
       "\t<tr><th scope=row>20010830</th><td> 76</td><td> 79.60690</td></tr>\n",
       "\t<tr><th scope=row>20010831</th><td> 59</td><td> 81.11276</td></tr>\n",
       "\t<tr><th scope=row>20010901</th><td> 78</td><td> 74.44034</td></tr>\n",
       "\t<tr><th scope=row>20010902</th><td> 76</td><td> 91.73581</td></tr>\n",
       "\t<tr><th scope=row>20010903</th><td> 55</td><td> 62.05430</td></tr>\n",
       "\t<tr><th scope=row>20010904</th><td> 71</td><td> 64.03594</td></tr>\n",
       "\t<tr><th scope=row>20010905</th><td> 66</td><td> 84.31258</td></tr>\n",
       "\t<tr><th scope=row>20010906</th><td> 59</td><td> 65.60102</td></tr>\n",
       "\t<tr><th scope=row>20010907</th><td> 68</td><td> 73.12795</td></tr>\n",
       "\t<tr><th scope=row>20010908</th><td> 63</td><td> 70.63206</td></tr>\n",
       "\t<tr><th scope=row>20010912</th><td> 78</td><td> 81.27363</td></tr>\n",
       "\t<tr><th scope=row>20010913</th><td> 74</td><td> 68.22657</td></tr>\n",
       "\t<tr><th scope=row>20010914</th><td> 71</td><td> 70.48972</td></tr>\n",
       "\t<tr><th scope=row>20010915</th><td> 69</td><td> 68.79197</td></tr>\n",
       "\t<tr><th scope=row>20010916</th><td> 71</td><td> 74.08900</td></tr>\n",
       "\t<tr><th scope=row>20010917</th><td> 60</td><td> 64.28404</td></tr>\n",
       "\t<tr><th scope=row>20010918</th><td> 42</td><td> 48.91020</td></tr>\n",
       "\t<tr><th scope=row>20010919</th><td> 65</td><td> 50.87775</td></tr>\n",
       "\t<tr><th scope=row>20010920</th><td> 71</td><td> 64.36938</td></tr>\n",
       "\t<tr><th scope=row>20010921</th><td> 96</td><td> 82.71489</td></tr>\n",
       "\t<tr><th scope=row>20010922</th><td> 98</td><td> 95.98787</td></tr>\n",
       "\t<tr><th scope=row>20010923</th><td> 92</td><td> 93.77206</td></tr>\n",
       "\t<tr><th scope=row>20010924</th><td> 76</td><td> 73.65771</td></tr>\n",
       "\t<tr><th scope=row>20010925</th><td> 84</td><td> 79.74322</td></tr>\n",
       "\t<tr><th scope=row>20010927</th><td> 77</td><td> 77.63651</td></tr>\n",
       "\t<tr><th scope=row>20010928</th><td> 99</td><td> 86.16756</td></tr>\n",
       "\t<tr><th scope=row>20010929</th><td> 83</td><td> 85.30339</td></tr>\n",
       "\t<tr><th scope=row>20010930</th><td> 70</td><td> 72.84406</td></tr>\n",
       "</tbody>\n",
       "</table>\n"
      ],
      "text/latex": [
       "A matrix: 112 × 2 of type dbl\n",
       "\\begin{tabular}{r|ll}\n",
       "  & maxO3 & \\\\\n",
       "\\hline\n",
       "\t20010601 &  87 &  82.00716\\\\\n",
       "\t20010602 &  82 &  79.82476\\\\\n",
       "\t20010603 &  92 &  84.73642\\\\\n",
       "\t20010604 & 114 &  97.50925\\\\\n",
       "\t20010605 &  94 &  86.88778\\\\\n",
       "\t20010606 &  80 &  83.42483\\\\\n",
       "\t20010607 &  79 &  63.15769\\\\\n",
       "\t20010610 &  79 &  81.76554\\\\\n",
       "\t20010611 & 101 &  89.31544\\\\\n",
       "\t20010612 & 106 &  95.07051\\\\\n",
       "\t20010613 & 101 &  83.48261\\\\\n",
       "\t20010614 &  90 &  84.45713\\\\\n",
       "\t20010615 &  72 &  78.32713\\\\\n",
       "\t20010616 &  70 &  67.56999\\\\\n",
       "\t20010617 &  83 &  61.51187\\\\\n",
       "\t20010618 &  88 &  77.29483\\\\\n",
       "\t20010620 & 145 & 125.40924\\\\\n",
       "\t20010621 &  81 & 103.95573\\\\\n",
       "\t20010622 & 121 & 103.19103\\\\\n",
       "\t20010623 & 146 & 133.79732\\\\\n",
       "\t20010624 & 121 & 133.48968\\\\\n",
       "\t20010625 & 146 & 148.51917\\\\\n",
       "\t20010626 & 108 & 119.56675\\\\\n",
       "\t20010627 &  83 &  94.50512\\\\\n",
       "\t20010628 &  57 &  83.68576\\\\\n",
       "\t20010629 &  81 &  93.71745\\\\\n",
       "\t20010630 &  67 &  91.83587\\\\\n",
       "\t20010701 &  70 &  84.57873\\\\\n",
       "\t20010702 & 106 & 117.08957\\\\\n",
       "\t20010703 & 139 & 135.46547\\\\\n",
       "\t... & ... & ...\\\\\n",
       "\t20010828 & 112 & 119.18440\\\\\n",
       "\t20010829 & 101 &  81.45728\\\\\n",
       "\t20010830 &  76 &  79.60690\\\\\n",
       "\t20010831 &  59 &  81.11276\\\\\n",
       "\t20010901 &  78 &  74.44034\\\\\n",
       "\t20010902 &  76 &  91.73581\\\\\n",
       "\t20010903 &  55 &  62.05430\\\\\n",
       "\t20010904 &  71 &  64.03594\\\\\n",
       "\t20010905 &  66 &  84.31258\\\\\n",
       "\t20010906 &  59 &  65.60102\\\\\n",
       "\t20010907 &  68 &  73.12795\\\\\n",
       "\t20010908 &  63 &  70.63206\\\\\n",
       "\t20010912 &  78 &  81.27363\\\\\n",
       "\t20010913 &  74 &  68.22657\\\\\n",
       "\t20010914 &  71 &  70.48972\\\\\n",
       "\t20010915 &  69 &  68.79197\\\\\n",
       "\t20010916 &  71 &  74.08900\\\\\n",
       "\t20010917 &  60 &  64.28404\\\\\n",
       "\t20010918 &  42 &  48.91020\\\\\n",
       "\t20010919 &  65 &  50.87775\\\\\n",
       "\t20010920 &  71 &  64.36938\\\\\n",
       "\t20010921 &  96 &  82.71489\\\\\n",
       "\t20010922 &  98 &  95.98787\\\\\n",
       "\t20010923 &  92 &  93.77206\\\\\n",
       "\t20010924 &  76 &  73.65771\\\\\n",
       "\t20010925 &  84 &  79.74322\\\\\n",
       "\t20010927 &  77 &  77.63651\\\\\n",
       "\t20010928 &  99 &  86.16756\\\\\n",
       "\t20010929 &  83 &  85.30339\\\\\n",
       "\t20010930 &  70 &  72.84406\\\\\n",
       "\\end{tabular}\n"
      ],
      "text/markdown": [
       "\n",
       "A matrix: 112 × 2 of type dbl\n",
       "\n",
       "| <!--/--> | maxO3 | <!----> |\n",
       "|---|---|---|\n",
       "| 20010601 |  87 |  82.00716 |\n",
       "| 20010602 |  82 |  79.82476 |\n",
       "| 20010603 |  92 |  84.73642 |\n",
       "| 20010604 | 114 |  97.50925 |\n",
       "| 20010605 |  94 |  86.88778 |\n",
       "| 20010606 |  80 |  83.42483 |\n",
       "| 20010607 |  79 |  63.15769 |\n",
       "| 20010610 |  79 |  81.76554 |\n",
       "| 20010611 | 101 |  89.31544 |\n",
       "| 20010612 | 106 |  95.07051 |\n",
       "| 20010613 | 101 |  83.48261 |\n",
       "| 20010614 |  90 |  84.45713 |\n",
       "| 20010615 |  72 |  78.32713 |\n",
       "| 20010616 |  70 |  67.56999 |\n",
       "| 20010617 |  83 |  61.51187 |\n",
       "| 20010618 |  88 |  77.29483 |\n",
       "| 20010620 | 145 | 125.40924 |\n",
       "| 20010621 |  81 | 103.95573 |\n",
       "| 20010622 | 121 | 103.19103 |\n",
       "| 20010623 | 146 | 133.79732 |\n",
       "| 20010624 | 121 | 133.48968 |\n",
       "| 20010625 | 146 | 148.51917 |\n",
       "| 20010626 | 108 | 119.56675 |\n",
       "| 20010627 |  83 |  94.50512 |\n",
       "| 20010628 |  57 |  83.68576 |\n",
       "| 20010629 |  81 |  93.71745 |\n",
       "| 20010630 |  67 |  91.83587 |\n",
       "| 20010701 |  70 |  84.57873 |\n",
       "| 20010702 | 106 | 117.08957 |\n",
       "| 20010703 | 139 | 135.46547 |\n",
       "| ... | ... | ... |\n",
       "| 20010828 | 112 | 119.18440 |\n",
       "| 20010829 | 101 |  81.45728 |\n",
       "| 20010830 |  76 |  79.60690 |\n",
       "| 20010831 |  59 |  81.11276 |\n",
       "| 20010901 |  78 |  74.44034 |\n",
       "| 20010902 |  76 |  91.73581 |\n",
       "| 20010903 |  55 |  62.05430 |\n",
       "| 20010904 |  71 |  64.03594 |\n",
       "| 20010905 |  66 |  84.31258 |\n",
       "| 20010906 |  59 |  65.60102 |\n",
       "| 20010907 |  68 |  73.12795 |\n",
       "| 20010908 |  63 |  70.63206 |\n",
       "| 20010912 |  78 |  81.27363 |\n",
       "| 20010913 |  74 |  68.22657 |\n",
       "| 20010914 |  71 |  70.48972 |\n",
       "| 20010915 |  69 |  68.79197 |\n",
       "| 20010916 |  71 |  74.08900 |\n",
       "| 20010917 |  60 |  64.28404 |\n",
       "| 20010918 |  42 |  48.91020 |\n",
       "| 20010919 |  65 |  50.87775 |\n",
       "| 20010920 |  71 |  64.36938 |\n",
       "| 20010921 |  96 |  82.71489 |\n",
       "| 20010922 |  98 |  95.98787 |\n",
       "| 20010923 |  92 |  93.77206 |\n",
       "| 20010924 |  76 |  73.65771 |\n",
       "| 20010925 |  84 |  79.74322 |\n",
       "| 20010927 |  77 |  77.63651 |\n",
       "| 20010928 |  99 |  86.16756 |\n",
       "| 20010929 |  83 |  85.30339 |\n",
       "| 20010930 |  70 |  72.84406 |\n",
       "\n"
      ],
      "text/plain": [
       "         maxO3          \n",
       "20010601  87    82.00716\n",
       "20010602  82    79.82476\n",
       "20010603  92    84.73642\n",
       "20010604 114    97.50925\n",
       "20010605  94    86.88778\n",
       "20010606  80    83.42483\n",
       "20010607  79    63.15769\n",
       "20010610  79    81.76554\n",
       "20010611 101    89.31544\n",
       "20010612 106    95.07051\n",
       "20010613 101    83.48261\n",
       "20010614  90    84.45713\n",
       "20010615  72    78.32713\n",
       "20010616  70    67.56999\n",
       "20010617  83    61.51187\n",
       "20010618  88    77.29483\n",
       "20010620 145   125.40924\n",
       "20010621  81   103.95573\n",
       "20010622 121   103.19103\n",
       "20010623 146   133.79732\n",
       "20010624 121   133.48968\n",
       "20010625 146   148.51917\n",
       "20010626 108   119.56675\n",
       "20010627  83    94.50512\n",
       "20010628  57    83.68576\n",
       "20010629  81    93.71745\n",
       "20010630  67    91.83587\n",
       "20010701  70    84.57873\n",
       "20010702 106   117.08957\n",
       "20010703 139   135.46547\n",
       "...      ...   ...      \n",
       "20010828 112   119.18440\n",
       "20010829 101    81.45728\n",
       "20010830  76    79.60690\n",
       "20010831  59    81.11276\n",
       "20010901  78    74.44034\n",
       "20010902  76    91.73581\n",
       "20010903  55    62.05430\n",
       "20010904  71    64.03594\n",
       "20010905  66    84.31258\n",
       "20010906  59    65.60102\n",
       "20010907  68    73.12795\n",
       "20010908  63    70.63206\n",
       "20010912  78    81.27363\n",
       "20010913  74    68.22657\n",
       "20010914  71    70.48972\n",
       "20010915  69    68.79197\n",
       "20010916  71    74.08900\n",
       "20010917  60    64.28404\n",
       "20010918  42    48.91020\n",
       "20010919  65    50.87775\n",
       "20010920  71    64.36938\n",
       "20010921  96    82.71489\n",
       "20010922  98    95.98787\n",
       "20010923  92    93.77206\n",
       "20010924  76    73.65771\n",
       "20010925  84    79.74322\n",
       "20010927  77    77.63651\n",
       "20010928  99    86.16756\n",
       "20010929  83    85.30339\n",
       "20010930  70    72.84406"
      ]
     },
     "metadata": {},
     "output_type": "display_data"
    }
   ],
   "source": [
    "cbind(maxO3,lm7$fitted)"
   ]
  },
  {
   "cell_type": "code",
   "execution_count": 79,
   "metadata": {},
   "outputs": [
    {
     "data": {
      "image/png": "[encoded data removed]",
      "text/plain": [
       "plot without title"
      ]
     },
     "metadata": {
      "image/png": {
       "height": 420,
       "width": 420
      },
      "text/plain": {
       "height": 420,
       "width": 420
      }
     },
     "output_type": "display_data"
    }
   ],
   "source": [
    "lm1=lm(maxO3~T12,data=ozone)\n",
    "plot(maxO3~T12,data=ozone)\n",
    "abline(lm1)"
   ]
  },
  {
   "cell_type": "code",
   "execution_count": null,
   "metadata": {},
   "outputs": [],
   "source": []
  }
 ],
 "metadata": {
  "kernelspec": {
   "display_name": "R",
   "language": "R",
   "name": "ir"
  },
  "language_info": {
   "codemirror_mode": "r",
   "file_extension": ".r",
   "mimetype": "text/x-r-source",
   "name": "R",
   "pygments_lexer": "r",
   "version": "3.6.1"
  }
 },
 "nbformat": 4,
 "nbformat_minor": 2
}

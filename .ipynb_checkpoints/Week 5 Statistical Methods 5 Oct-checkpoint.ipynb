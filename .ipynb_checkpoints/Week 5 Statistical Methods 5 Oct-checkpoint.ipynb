{
 "cells": [
  {
   "cell_type": "code",
   "execution_count": 1,
   "metadata": {},
   "outputs": [
    {
     "name": "stderr",
     "output_type": "stream",
     "text": [
      "Installing package into 'C:/Users/naela/Documents/R/win-library/3.6'\n",
      "(as 'lib' is unspecified)\n",
      "\n"
     ]
    },
    {
     "name": "stdout",
     "output_type": "stream",
     "text": [
      "package 'pastecs' successfully unpacked and MD5 sums checked\n",
      "\n",
      "The downloaded binary packages are in\n",
      "\tC:\\Users\\naela\\AppData\\Local\\Temp\\Rtmps5UQhd\\downloaded_packages\n"
     ]
    },
    {
     "name": "stderr",
     "output_type": "stream",
     "text": [
      "Installing package into 'C:/Users/naela/Documents/R/win-library/3.6'\n",
      "(as 'lib' is unspecified)\n",
      "\n"
     ]
    },
    {
     "name": "stdout",
     "output_type": "stream",
     "text": [
      "package 'psych' successfully unpacked and MD5 sums checked\n",
      "\n",
      "The downloaded binary packages are in\n",
      "\tC:\\Users\\naela\\AppData\\Local\\Temp\\Rtmps5UQhd\\downloaded_packages\n"
     ]
    },
    {
     "name": "stderr",
     "output_type": "stream",
     "text": [
      "Installing package into 'C:/Users/naela/Documents/R/win-library/3.6'\n",
      "(as 'lib' is unspecified)\n",
      "\n"
     ]
    },
    {
     "name": "stdout",
     "output_type": "stream",
     "text": [
      "package 'Hmisc' successfully unpacked and MD5 sums checked\n",
      "\n",
      "The downloaded binary packages are in\n",
      "\tC:\\Users\\naela\\AppData\\Local\\Temp\\Rtmps5UQhd\\downloaded_packages\n"
     ]
    },
    {
     "name": "stderr",
     "output_type": "stream",
     "text": [
      "\n",
      "Attaching package: 'Hmisc'\n",
      "\n",
      "\n",
      "The following objects are masked from 'package:base':\n",
      "\n",
      "    format.pval, units\n",
      "\n",
      "\n"
     ]
    }
   ],
   "source": [
    "install.packages('pastecs')\n",
    "install.packages('psych')\n",
    "install.packages('Hmisc')\n",
    "library('lattice')\n",
    "library('survival')\n",
    "library('Formula')\n",
    "library('ggplot2')\n",
    "library('Hmisc')\n",
    "library('psych')\n",
    "library('pastecs')"
   ]
  },
  {
   "cell_type": "code",
   "execution_count": 2,
   "metadata": {},
   "outputs": [
    {
     "name": "stdout",
     "output_type": "stream",
     "text": [
      "'data.frame':\t31 obs. of  3 variables:\n",
      " $ Girth : num  8.3 8.6 8.8 10.5 10.7 10.8 11 11 11.1 11.2 ...\n",
      " $ Height: num  70 65 63 72 81 83 66 75 80 75 ...\n",
      " $ Volume: num  10.3 10.3 10.2 16.4 18.8 19.7 15.6 18.2 22.6 19.9 ...\n"
     ]
    },
    {
     "data": {
      "text/plain": [
       "     Girth           Height       Volume     \n",
       " Min.   : 8.30   Min.   :63   Min.   :10.20  \n",
       " 1st Qu.:11.05   1st Qu.:72   1st Qu.:19.40  \n",
       " Median :12.90   Median :76   Median :24.20  \n",
       " Mean   :13.25   Mean   :76   Mean   :30.17  \n",
       " 3rd Qu.:15.25   3rd Qu.:80   3rd Qu.:37.30  \n",
       " Max.   :20.60   Max.   :87   Max.   :77.00  "
      ]
     },
     "metadata": {},
     "output_type": "display_data"
    }
   ],
   "source": [
    "str(trees)\n",
    "attach(trees)\n",
    "summary(trees)"
   ]
  },
  {
   "cell_type": "code",
   "execution_count": 3,
   "metadata": {},
   "outputs": [
    {
     "data": {
      "text/plain": [
       "trees \n",
       "\n",
       " 3  Variables      31  Observations\n",
       "--------------------------------------------------------------------------------\n",
       "Girth \n",
       "       n  missing distinct     Info     Mean      Gmd      .05      .10 \n",
       "      31        0       27    0.999    13.25    3.561     8.70    10.50 \n",
       "     .25      .50      .75      .90      .95 \n",
       "   11.05    12.90    15.25    17.90    18.00 \n",
       "\n",
       "lowest :  8.3  8.6  8.8 10.5 10.7, highest: 17.3 17.5 17.9 18.0 20.6\n",
       "--------------------------------------------------------------------------------\n",
       "Height \n",
       "       n  missing distinct     Info     Mean      Gmd      .05      .10 \n",
       "      31        0       21    0.994       76    7.312     64.5     66.0 \n",
       "     .25      .50      .75      .90      .95 \n",
       "    72.0     76.0     80.0     83.0     85.5 \n",
       "\n",
       "lowest : 63 64 65 66 69, highest: 82 83 85 86 87\n",
       "--------------------------------------------------------------------------------\n",
       "Volume \n",
       "       n  missing distinct     Info     Mean      Gmd      .05      .10 \n",
       "      31        0       30        1    30.17    17.89     10.3     15.6 \n",
       "     .25      .50      .75      .90      .95 \n",
       "    19.4     24.2     37.3     55.4     57.0 \n",
       "\n",
       "lowest : 10.2 10.3 15.6 16.4 18.2, highest: 51.5 55.4 55.7 58.3 77.0\n",
       "--------------------------------------------------------------------------------"
      ]
     },
     "metadata": {},
     "output_type": "display_data"
    }
   ],
   "source": [
    "describe(trees)"
   ]
  },
  {
   "cell_type": "code",
   "execution_count": 4,
   "metadata": {},
   "outputs": [
    {
     "data": {
      "text/html": [
       "<table>\n",
       "<caption>A data.frame: 14 × 3</caption>\n",
       "<thead>\n",
       "\t<tr><th></th><th scope=col>Girth</th><th scope=col>Height</th><th scope=col>Volume</th></tr>\n",
       "\t<tr><th></th><th scope=col>&lt;dbl&gt;</th><th scope=col>&lt;dbl&gt;</th><th scope=col>&lt;dbl&gt;</th></tr>\n",
       "</thead>\n",
       "<tbody>\n",
       "\t<tr><th scope=row>nbr.val</th><td> 31.0000000</td><td>3.100000e+01</td><td> 31.0000000</td></tr>\n",
       "\t<tr><th scope=row>nbr.null</th><td>  0.0000000</td><td>0.000000e+00</td><td>  0.0000000</td></tr>\n",
       "\t<tr><th scope=row>nbr.na</th><td>  0.0000000</td><td>0.000000e+00</td><td>  0.0000000</td></tr>\n",
       "\t<tr><th scope=row>min</th><td>  8.3000000</td><td>6.300000e+01</td><td> 10.2000000</td></tr>\n",
       "\t<tr><th scope=row>max</th><td> 20.6000000</td><td>8.700000e+01</td><td> 77.0000000</td></tr>\n",
       "\t<tr><th scope=row>range</th><td> 12.3000000</td><td>2.400000e+01</td><td> 66.8000000</td></tr>\n",
       "\t<tr><th scope=row>sum</th><td>410.7000000</td><td>2.356000e+03</td><td>935.3000000</td></tr>\n",
       "\t<tr><th scope=row>median</th><td> 12.9000000</td><td>7.600000e+01</td><td> 24.2000000</td></tr>\n",
       "\t<tr><th scope=row>mean</th><td> 13.2483871</td><td>7.600000e+01</td><td> 30.1709677</td></tr>\n",
       "\t<tr><th scope=row>SE.mean</th><td>  0.5636263</td><td>1.144411e+00</td><td>  2.9523244</td></tr>\n",
       "\t<tr><th scope=row>CI.mean.0.95</th><td>  1.1510785</td><td>2.337200e+00</td><td>  6.0294508</td></tr>\n",
       "\t<tr><th scope=row>var</th><td>  9.8479140</td><td>4.060000e+01</td><td>270.2027957</td></tr>\n",
       "\t<tr><th scope=row>std.dev</th><td>  3.1381386</td><td>6.371813e+00</td><td> 16.4378464</td></tr>\n",
       "\t<tr><th scope=row>coef.var</th><td>  0.2368695</td><td>8.383964e-02</td><td>  0.5448233</td></tr>\n",
       "</tbody>\n",
       "</table>\n"
      ],
      "text/latex": [
       "A data.frame: 14 × 3\n",
       "\\begin{tabular}{r|lll}\n",
       "  & Girth & Height & Volume\\\\\n",
       "  & <dbl> & <dbl> & <dbl>\\\\\n",
       "\\hline\n",
       "\tnbr.val &  31.0000000 & 3.100000e+01 &  31.0000000\\\\\n",
       "\tnbr.null &   0.0000000 & 0.000000e+00 &   0.0000000\\\\\n",
       "\tnbr.na &   0.0000000 & 0.000000e+00 &   0.0000000\\\\\n",
       "\tmin &   8.3000000 & 6.300000e+01 &  10.2000000\\\\\n",
       "\tmax &  20.6000000 & 8.700000e+01 &  77.0000000\\\\\n",
       "\trange &  12.3000000 & 2.400000e+01 &  66.8000000\\\\\n",
       "\tsum & 410.7000000 & 2.356000e+03 & 935.3000000\\\\\n",
       "\tmedian &  12.9000000 & 7.600000e+01 &  24.2000000\\\\\n",
       "\tmean &  13.2483871 & 7.600000e+01 &  30.1709677\\\\\n",
       "\tSE.mean &   0.5636263 & 1.144411e+00 &   2.9523244\\\\\n",
       "\tCI.mean.0.95 &   1.1510785 & 2.337200e+00 &   6.0294508\\\\\n",
       "\tvar &   9.8479140 & 4.060000e+01 & 270.2027957\\\\\n",
       "\tstd.dev &   3.1381386 & 6.371813e+00 &  16.4378464\\\\\n",
       "\tcoef.var &   0.2368695 & 8.383964e-02 &   0.5448233\\\\\n",
       "\\end{tabular}\n"
      ],
      "text/markdown": [
       "\n",
       "A data.frame: 14 × 3\n",
       "\n",
       "| <!--/--> | Girth &lt;dbl&gt; | Height &lt;dbl&gt; | Volume &lt;dbl&gt; |\n",
       "|---|---|---|---|\n",
       "| nbr.val |  31.0000000 | 3.100000e+01 |  31.0000000 |\n",
       "| nbr.null |   0.0000000 | 0.000000e+00 |   0.0000000 |\n",
       "| nbr.na |   0.0000000 | 0.000000e+00 |   0.0000000 |\n",
       "| min |   8.3000000 | 6.300000e+01 |  10.2000000 |\n",
       "| max |  20.6000000 | 8.700000e+01 |  77.0000000 |\n",
       "| range |  12.3000000 | 2.400000e+01 |  66.8000000 |\n",
       "| sum | 410.7000000 | 2.356000e+03 | 935.3000000 |\n",
       "| median |  12.9000000 | 7.600000e+01 |  24.2000000 |\n",
       "| mean |  13.2483871 | 7.600000e+01 |  30.1709677 |\n",
       "| SE.mean |   0.5636263 | 1.144411e+00 |   2.9523244 |\n",
       "| CI.mean.0.95 |   1.1510785 | 2.337200e+00 |   6.0294508 |\n",
       "| var |   9.8479140 | 4.060000e+01 | 270.2027957 |\n",
       "| std.dev |   3.1381386 | 6.371813e+00 |  16.4378464 |\n",
       "| coef.var |   0.2368695 | 8.383964e-02 |   0.5448233 |\n",
       "\n"
      ],
      "text/plain": [
       "             Girth       Height       Volume     \n",
       "nbr.val       31.0000000 3.100000e+01  31.0000000\n",
       "nbr.null       0.0000000 0.000000e+00   0.0000000\n",
       "nbr.na         0.0000000 0.000000e+00   0.0000000\n",
       "min            8.3000000 6.300000e+01  10.2000000\n",
       "max           20.6000000 8.700000e+01  77.0000000\n",
       "range         12.3000000 2.400000e+01  66.8000000\n",
       "sum          410.7000000 2.356000e+03 935.3000000\n",
       "median        12.9000000 7.600000e+01  24.2000000\n",
       "mean          13.2483871 7.600000e+01  30.1709677\n",
       "SE.mean        0.5636263 1.144411e+00   2.9523244\n",
       "CI.mean.0.95   1.1510785 2.337200e+00   6.0294508\n",
       "var            9.8479140 4.060000e+01 270.2027957\n",
       "std.dev        3.1381386 6.371813e+00  16.4378464\n",
       "coef.var       0.2368695 8.383964e-02   0.5448233"
      ]
     },
     "metadata": {},
     "output_type": "display_data"
    }
   ],
   "source": [
    "stat.desc(trees)"
   ]
  },
  {
   "cell_type": "code",
   "execution_count": 5,
   "metadata": {},
   "outputs": [
    {
     "name": "stderr",
     "output_type": "stream",
     "text": [
      "\n",
      "Attaching package: 'psych'\n",
      "\n",
      "\n",
      "The following object is masked from 'package:Hmisc':\n",
      "\n",
      "    describe\n",
      "\n",
      "\n",
      "The following objects are masked from 'package:ggplot2':\n",
      "\n",
      "    %+%, alpha\n",
      "\n",
      "\n"
     ]
    },
    {
     "data": {
      "text/html": [
       "<table>\n",
       "<caption>A psych: 3 × 13</caption>\n",
       "<thead>\n",
       "\t<tr><th></th><th scope=col>vars</th><th scope=col>n</th><th scope=col>mean</th><th scope=col>sd</th><th scope=col>median</th><th scope=col>trimmed</th><th scope=col>mad</th><th scope=col>min</th><th scope=col>max</th><th scope=col>range</th><th scope=col>skew</th><th scope=col>kurtosis</th><th scope=col>se</th></tr>\n",
       "\t<tr><th></th><th scope=col>&lt;int&gt;</th><th scope=col>&lt;dbl&gt;</th><th scope=col>&lt;dbl&gt;</th><th scope=col>&lt;dbl&gt;</th><th scope=col>&lt;dbl&gt;</th><th scope=col>&lt;dbl&gt;</th><th scope=col>&lt;dbl&gt;</th><th scope=col>&lt;dbl&gt;</th><th scope=col>&lt;dbl&gt;</th><th scope=col>&lt;dbl&gt;</th><th scope=col>&lt;dbl&gt;</th><th scope=col>&lt;dbl&gt;</th><th scope=col>&lt;dbl&gt;</th></tr>\n",
       "</thead>\n",
       "<tbody>\n",
       "\t<tr><th scope=row>Girth</th><td>1</td><td>31</td><td>13.24839</td><td> 3.138139</td><td>12.9</td><td>13.136</td><td> 2.81694</td><td> 8.3</td><td>20.6</td><td>12.3</td><td> 0.5010559</td><td>-0.7109412</td><td>0.5636263</td></tr>\n",
       "\t<tr><th scope=row>Height</th><td>2</td><td>31</td><td>76.00000</td><td> 6.371813</td><td>76.0</td><td>76.240</td><td> 5.93040</td><td>63.0</td><td>87.0</td><td>24.0</td><td>-0.3568773</td><td>-0.7233677</td><td>1.1444114</td></tr>\n",
       "\t<tr><th scope=row>Volume</th><td>3</td><td>31</td><td>30.17097</td><td>16.437846</td><td>24.2</td><td>28.540</td><td>11.56428</td><td>10.2</td><td>77.0</td><td>66.8</td><td> 1.0132739</td><td> 0.2460393</td><td>2.9523244</td></tr>\n",
       "</tbody>\n",
       "</table>\n"
      ],
      "text/latex": [
       "A psych: 3 × 13\n",
       "\\begin{tabular}{r|lllllllllllll}\n",
       "  & vars & n & mean & sd & median & trimmed & mad & min & max & range & skew & kurtosis & se\\\\\n",
       "  & <int> & <dbl> & <dbl> & <dbl> & <dbl> & <dbl> & <dbl> & <dbl> & <dbl> & <dbl> & <dbl> & <dbl> & <dbl>\\\\\n",
       "\\hline\n",
       "\tGirth & 1 & 31 & 13.24839 &  3.138139 & 12.9 & 13.136 &  2.81694 &  8.3 & 20.6 & 12.3 &  0.5010559 & -0.7109412 & 0.5636263\\\\\n",
       "\tHeight & 2 & 31 & 76.00000 &  6.371813 & 76.0 & 76.240 &  5.93040 & 63.0 & 87.0 & 24.0 & -0.3568773 & -0.7233677 & 1.1444114\\\\\n",
       "\tVolume & 3 & 31 & 30.17097 & 16.437846 & 24.2 & 28.540 & 11.56428 & 10.2 & 77.0 & 66.8 &  1.0132739 &  0.2460393 & 2.9523244\\\\\n",
       "\\end{tabular}\n"
      ],
      "text/markdown": [
       "\n",
       "A psych: 3 × 13\n",
       "\n",
       "| <!--/--> | vars &lt;int&gt; | n &lt;dbl&gt; | mean &lt;dbl&gt; | sd &lt;dbl&gt; | median &lt;dbl&gt; | trimmed &lt;dbl&gt; | mad &lt;dbl&gt; | min &lt;dbl&gt; | max &lt;dbl&gt; | range &lt;dbl&gt; | skew &lt;dbl&gt; | kurtosis &lt;dbl&gt; | se &lt;dbl&gt; |\n",
       "|---|---|---|---|---|---|---|---|---|---|---|---|---|---|\n",
       "| Girth | 1 | 31 | 13.24839 |  3.138139 | 12.9 | 13.136 |  2.81694 |  8.3 | 20.6 | 12.3 |  0.5010559 | -0.7109412 | 0.5636263 |\n",
       "| Height | 2 | 31 | 76.00000 |  6.371813 | 76.0 | 76.240 |  5.93040 | 63.0 | 87.0 | 24.0 | -0.3568773 | -0.7233677 | 1.1444114 |\n",
       "| Volume | 3 | 31 | 30.17097 | 16.437846 | 24.2 | 28.540 | 11.56428 | 10.2 | 77.0 | 66.8 |  1.0132739 |  0.2460393 | 2.9523244 |\n",
       "\n"
      ],
      "text/plain": [
       "       vars n  mean     sd        median trimmed mad      min  max  range\n",
       "Girth  1    31 13.24839  3.138139 12.9   13.136   2.81694  8.3 20.6 12.3 \n",
       "Height 2    31 76.00000  6.371813 76.0   76.240   5.93040 63.0 87.0 24.0 \n",
       "Volume 3    31 30.17097 16.437846 24.2   28.540  11.56428 10.2 77.0 66.8 \n",
       "       skew       kurtosis   se       \n",
       "Girth   0.5010559 -0.7109412 0.5636263\n",
       "Height -0.3568773 -0.7233677 1.1444114\n",
       "Volume  1.0132739  0.2460393 2.9523244"
      ]
     },
     "metadata": {},
     "output_type": "display_data"
    }
   ],
   "source": [
    "describe(trees)"
   ]
  },
  {
   "cell_type": "code",
   "execution_count": 6,
   "metadata": {},
   "outputs": [
    {
     "name": "stdout",
     "output_type": "stream",
     "text": [
      "'data.frame':\t20 obs. of  3 variables:\n",
      " $ extra: num  0.7 -1.6 -0.2 -1.2 -0.1 3.4 3.7 0.8 0 2 ...\n",
      " $ group: Factor w/ 2 levels \"1\",\"2\": 1 1 1 1 1 1 1 1 1 1 ...\n",
      " $ ID   : Factor w/ 10 levels \"1\",\"2\",\"3\",\"4\",..: 1 2 3 4 5 6 7 8 9 10 ...\n"
     ]
    }
   ],
   "source": [
    "str(sleep)"
   ]
  },
  {
   "cell_type": "code",
   "execution_count": 7,
   "metadata": {},
   "outputs": [
    {
     "data": {
      "text/html": [
       "<table>\n",
       "<caption>A psych: 3 × 13</caption>\n",
       "<thead>\n",
       "\t<tr><th></th><th scope=col>vars</th><th scope=col>n</th><th scope=col>mean</th><th scope=col>sd</th><th scope=col>median</th><th scope=col>trimmed</th><th scope=col>mad</th><th scope=col>min</th><th scope=col>max</th><th scope=col>range</th><th scope=col>skew</th><th scope=col>kurtosis</th><th scope=col>se</th></tr>\n",
       "\t<tr><th></th><th scope=col>&lt;int&gt;</th><th scope=col>&lt;dbl&gt;</th><th scope=col>&lt;dbl&gt;</th><th scope=col>&lt;dbl&gt;</th><th scope=col>&lt;dbl&gt;</th><th scope=col>&lt;dbl&gt;</th><th scope=col>&lt;dbl&gt;</th><th scope=col>&lt;dbl&gt;</th><th scope=col>&lt;dbl&gt;</th><th scope=col>&lt;dbl&gt;</th><th scope=col>&lt;dbl&gt;</th><th scope=col>&lt;dbl&gt;</th><th scope=col>&lt;dbl&gt;</th></tr>\n",
       "</thead>\n",
       "<tbody>\n",
       "\t<tr><th scope=row>extra</th><td>1</td><td>20</td><td>1.54</td><td>2.0179197</td><td>0.95</td><td>1.46875</td><td>1.55673</td><td>-1.6</td><td> 5.5</td><td>7.1</td><td>0.3863381</td><td>-1.086590</td><td>0.4512206</td></tr>\n",
       "\t<tr><th scope=row>group*</th><td>2</td><td>20</td><td>1.50</td><td>0.5129892</td><td>1.50</td><td>1.50000</td><td>0.74130</td><td> 1.0</td><td> 2.0</td><td>1.0</td><td>0.0000000</td><td>-2.097500</td><td>0.1147079</td></tr>\n",
       "\t<tr><th scope=row>ID*</th><td>3</td><td>20</td><td>5.50</td><td>2.9468985</td><td>5.50</td><td>5.50000</td><td>3.70650</td><td> 1.0</td><td>10.0</td><td>9.0</td><td>0.0000000</td><td>-1.397379</td><td>0.6589465</td></tr>\n",
       "</tbody>\n",
       "</table>\n"
      ],
      "text/latex": [
       "A psych: 3 × 13\n",
       "\\begin{tabular}{r|lllllllllllll}\n",
       "  & vars & n & mean & sd & median & trimmed & mad & min & max & range & skew & kurtosis & se\\\\\n",
       "  & <int> & <dbl> & <dbl> & <dbl> & <dbl> & <dbl> & <dbl> & <dbl> & <dbl> & <dbl> & <dbl> & <dbl> & <dbl>\\\\\n",
       "\\hline\n",
       "\textra & 1 & 20 & 1.54 & 2.0179197 & 0.95 & 1.46875 & 1.55673 & -1.6 &  5.5 & 7.1 & 0.3863381 & -1.086590 & 0.4512206\\\\\n",
       "\tgroup* & 2 & 20 & 1.50 & 0.5129892 & 1.50 & 1.50000 & 0.74130 &  1.0 &  2.0 & 1.0 & 0.0000000 & -2.097500 & 0.1147079\\\\\n",
       "\tID* & 3 & 20 & 5.50 & 2.9468985 & 5.50 & 5.50000 & 3.70650 &  1.0 & 10.0 & 9.0 & 0.0000000 & -1.397379 & 0.6589465\\\\\n",
       "\\end{tabular}\n"
      ],
      "text/markdown": [
       "\n",
       "A psych: 3 × 13\n",
       "\n",
       "| <!--/--> | vars &lt;int&gt; | n &lt;dbl&gt; | mean &lt;dbl&gt; | sd &lt;dbl&gt; | median &lt;dbl&gt; | trimmed &lt;dbl&gt; | mad &lt;dbl&gt; | min &lt;dbl&gt; | max &lt;dbl&gt; | range &lt;dbl&gt; | skew &lt;dbl&gt; | kurtosis &lt;dbl&gt; | se &lt;dbl&gt; |\n",
       "|---|---|---|---|---|---|---|---|---|---|---|---|---|---|\n",
       "| extra | 1 | 20 | 1.54 | 2.0179197 | 0.95 | 1.46875 | 1.55673 | -1.6 |  5.5 | 7.1 | 0.3863381 | -1.086590 | 0.4512206 |\n",
       "| group* | 2 | 20 | 1.50 | 0.5129892 | 1.50 | 1.50000 | 0.74130 |  1.0 |  2.0 | 1.0 | 0.0000000 | -2.097500 | 0.1147079 |\n",
       "| ID* | 3 | 20 | 5.50 | 2.9468985 | 5.50 | 5.50000 | 3.70650 |  1.0 | 10.0 | 9.0 | 0.0000000 | -1.397379 | 0.6589465 |\n",
       "\n"
      ],
      "text/plain": [
       "       vars n  mean sd        median trimmed mad     min  max  range skew     \n",
       "extra  1    20 1.54 2.0179197 0.95   1.46875 1.55673 -1.6  5.5 7.1   0.3863381\n",
       "group* 2    20 1.50 0.5129892 1.50   1.50000 0.74130  1.0  2.0 1.0   0.0000000\n",
       "ID*    3    20 5.50 2.9468985 5.50   5.50000 3.70650  1.0 10.0 9.0   0.0000000\n",
       "       kurtosis  se       \n",
       "extra  -1.086590 0.4512206\n",
       "group* -2.097500 0.1147079\n",
       "ID*    -1.397379 0.6589465"
      ]
     },
     "metadata": {},
     "output_type": "display_data"
    }
   ],
   "source": [
    "describe(sleep)"
   ]
  },
  {
   "cell_type": "code",
   "execution_count": 8,
   "metadata": {},
   "outputs": [
    {
     "data": {
      "text/plain": [
       "\n",
       " Descriptive statistics by group \n",
       "group: 1\n",
       "       vars  n mean   sd median trimmed  mad  min  max range skew kurtosis   se\n",
       "extra     1 10 0.75 1.79   0.35    0.68 1.56 -1.6  3.7   5.3 0.42    -1.30 0.57\n",
       "group*    2 10 1.00 0.00   1.00    1.00 0.00  1.0  1.0   0.0  NaN      NaN 0.00\n",
       "ID*       3 10 5.50 3.03   5.50    5.50 3.71  1.0 10.0   9.0 0.00    -1.56 0.96\n",
       "------------------------------------------------------------ \n",
       "group: 2\n",
       "       vars  n mean   sd median trimmed  mad  min  max range skew kurtosis   se\n",
       "extra     1 10 2.33 2.00   1.75    2.24 2.45 -0.1  5.5   5.6 0.28    -1.66 0.63\n",
       "group*    2 10 2.00 0.00   2.00    2.00 0.00  2.0  2.0   0.0  NaN      NaN 0.00\n",
       "ID*       3 10 5.50 3.03   5.50    5.50 3.71  1.0 10.0   9.0 0.00    -1.56 0.96"
      ]
     },
     "metadata": {},
     "output_type": "display_data"
    }
   ],
   "source": [
    "attach(sleep)\n",
    "describeBy(sleep,group)"
   ]
  },
  {
   "cell_type": "code",
   "execution_count": 9,
   "metadata": {},
   "outputs": [
    {
     "data": {
      "text/html": [
       "-35.3553390593274"
      ],
      "text/latex": [
       "-35.3553390593274"
      ],
      "text/markdown": [
       "-35.3553390593274"
      ],
      "text/plain": [
       "[1] -35.35534"
      ]
     },
     "metadata": {},
     "output_type": "display_data"
    }
   ],
   "source": [
    "mu=150\n",
    "xbar=100\n",
    "s1=10\n",
    "n=50\n",
    "zstar=(xbar-mu)/(s1/sqrt(n))\n",
    "zstar"
   ]
  },
  {
   "cell_type": "code",
   "execution_count": 10,
   "metadata": {},
   "outputs": [
    {
     "data": {
      "text/html": [
       "1.95996398454005"
      ],
      "text/latex": [
       "1.95996398454005"
      ],
      "text/markdown": [
       "1.95996398454005"
      ],
      "text/plain": [
       "[1] 1.959964"
      ]
     },
     "metadata": {},
     "output_type": "display_data"
    }
   ],
   "source": [
    "qnorm(0.975)"
   ]
  },
  {
   "cell_type": "code",
   "execution_count": 11,
   "metadata": {},
   "outputs": [
    {
     "data": {
      "text/html": [
       "1.64485362695147"
      ],
      "text/latex": [
       "1.64485362695147"
      ],
      "text/markdown": [
       "1.64485362695147"
      ],
      "text/plain": [
       "[1] 1.644854"
      ]
     },
     "metadata": {},
     "output_type": "display_data"
    }
   ],
   "source": [
    "qnorm(0.95)"
   ]
  },
  {
   "cell_type": "code",
   "execution_count": 12,
   "metadata": {},
   "outputs": [
    {
     "data": {
      "text/html": [
       "1.2815515655446"
      ],
      "text/latex": [
       "1.2815515655446"
      ],
      "text/markdown": [
       "1.2815515655446"
      ],
      "text/plain": [
       "[1] 1.281552"
      ]
     },
     "metadata": {},
     "output_type": "display_data"
    }
   ],
   "source": [
    "qnorm(0.9)"
   ]
  },
  {
   "cell_type": "code",
   "execution_count": 13,
   "metadata": {},
   "outputs": [
    {
     "data": {
      "text/html": [
       "<ol class=list-inline>\n",
       "\t<li>120</li>\n",
       "\t<li>126</li>\n",
       "\t<li>129</li>\n",
       "\t<li>110</li>\n",
       "\t<li>111</li>\n",
       "\t<li>109</li>\n",
       "\t<li>83</li>\n",
       "\t<li>135</li>\n",
       "\t<li>81</li>\n",
       "\t<li>82</li>\n",
       "\t<li>141</li>\n",
       "\t<li>84</li>\n",
       "\t<li>151</li>\n",
       "\t<li>122</li>\n",
       "\t<li>113</li>\n",
       "\t<li>138</li>\n",
       "\t<li>141</li>\n",
       "\t<li>108</li>\n",
       "\t<li>81</li>\n",
       "\t<li>128</li>\n",
       "\t<li>137</li>\n",
       "\t<li>96</li>\n",
       "\t<li>99</li>\n",
       "\t<li>148</li>\n",
       "\t<li>137</li>\n",
       "\t<li>97</li>\n",
       "\t<li>103</li>\n",
       "\t<li>96</li>\n",
       "\t<li>114</li>\n",
       "\t<li>152</li>\n",
       "\t<li>131</li>\n",
       "\t<li>117</li>\n",
       "\t<li>101</li>\n",
       "\t<li>110</li>\n",
       "\t<li>117</li>\n",
       "\t<li>150</li>\n",
       "\t<li>93</li>\n",
       "\t<li>135</li>\n",
       "\t<li>112</li>\n",
       "\t<li>101</li>\n",
       "\t<li>81</li>\n",
       "\t<li>87</li>\n",
       "\t<li>121</li>\n",
       "\t<li>87</li>\n",
       "\t<li>111</li>\n",
       "\t<li>82</li>\n",
       "\t<li>106</li>\n",
       "\t<li>135</li>\n",
       "\t<li>116</li>\n",
       "\t<li>125</li>\n",
       "</ol>\n"
      ],
      "text/latex": [
       "\\begin{enumerate*}\n",
       "\\item 120\n",
       "\\item 126\n",
       "\\item 129\n",
       "\\item 110\n",
       "\\item 111\n",
       "\\item 109\n",
       "\\item 83\n",
       "\\item 135\n",
       "\\item 81\n",
       "\\item 82\n",
       "\\item 141\n",
       "\\item 84\n",
       "\\item 151\n",
       "\\item 122\n",
       "\\item 113\n",
       "\\item 138\n",
       "\\item 141\n",
       "\\item 108\n",
       "\\item 81\n",
       "\\item 128\n",
       "\\item 137\n",
       "\\item 96\n",
       "\\item 99\n",
       "\\item 148\n",
       "\\item 137\n",
       "\\item 97\n",
       "\\item 103\n",
       "\\item 96\n",
       "\\item 114\n",
       "\\item 152\n",
       "\\item 131\n",
       "\\item 117\n",
       "\\item 101\n",
       "\\item 110\n",
       "\\item 117\n",
       "\\item 150\n",
       "\\item 93\n",
       "\\item 135\n",
       "\\item 112\n",
       "\\item 101\n",
       "\\item 81\n",
       "\\item 87\n",
       "\\item 121\n",
       "\\item 87\n",
       "\\item 111\n",
       "\\item 82\n",
       "\\item 106\n",
       "\\item 135\n",
       "\\item 116\n",
       "\\item 125\n",
       "\\end{enumerate*}\n"
      ],
      "text/markdown": [
       "1. 120\n",
       "2. 126\n",
       "3. 129\n",
       "4. 110\n",
       "5. 111\n",
       "6. 109\n",
       "7. 83\n",
       "8. 135\n",
       "9. 81\n",
       "10. 82\n",
       "11. 141\n",
       "12. 84\n",
       "13. 151\n",
       "14. 122\n",
       "15. 113\n",
       "16. 138\n",
       "17. 141\n",
       "18. 108\n",
       "19. 81\n",
       "20. 128\n",
       "21. 137\n",
       "22. 96\n",
       "23. 99\n",
       "24. 148\n",
       "25. 137\n",
       "26. 97\n",
       "27. 103\n",
       "28. 96\n",
       "29. 114\n",
       "30. 152\n",
       "31. 131\n",
       "32. 117\n",
       "33. 101\n",
       "34. 110\n",
       "35. 117\n",
       "36. 150\n",
       "37. 93\n",
       "38. 135\n",
       "39. 112\n",
       "40. 101\n",
       "41. 81\n",
       "42. 87\n",
       "43. 121\n",
       "44. 87\n",
       "45. 111\n",
       "46. 82\n",
       "47. 106\n",
       "48. 135\n",
       "49. 116\n",
       "50. 125\n",
       "\n",
       "\n"
      ],
      "text/plain": [
       " [1] 120 126 129 110 111 109  83 135  81  82 141  84 151 122 113 138 141 108  81\n",
       "[20] 128 137  96  99 148 137  97 103  96 114 152 131 117 101 110 117 150  93 135\n",
       "[39] 112 101  81  87 121  87 111  82 106 135 116 125"
      ]
     },
     "metadata": {},
     "output_type": "display_data"
    }
   ],
   "source": [
    "data1=sample(80:160,50,replace=T)\n",
    "data1"
   ]
  },
  {
   "cell_type": "code",
   "execution_count": 14,
   "metadata": {},
   "outputs": [
    {
     "data": {
      "text/html": [
       "113.8"
      ],
      "text/latex": [
       "113.8"
      ],
      "text/markdown": [
       "113.8"
      ],
      "text/plain": [
       "[1] 113.8"
      ]
     },
     "metadata": {},
     "output_type": "display_data"
    }
   ],
   "source": [
    "xbar1=mean(data1)\n",
    "xbar1"
   ]
  },
  {
   "cell_type": "code",
   "execution_count": 15,
   "metadata": {},
   "outputs": [
    {
     "data": {
      "text/html": [
       "21.0441712323661"
      ],
      "text/latex": [
       "21.0441712323661"
      ],
      "text/markdown": [
       "21.0441712323661"
      ],
      "text/plain": [
       "[1] 21.04417"
      ]
     },
     "metadata": {},
     "output_type": "display_data"
    }
   ],
   "source": [
    "sd1=sd(data1)\n",
    "sd1\n"
   ]
  },
  {
   "cell_type": "code",
   "execution_count": 16,
   "metadata": {},
   "outputs": [
    {
     "data": {
      "text/html": [
       "-12.1635892410837"
      ],
      "text/latex": [
       "-12.1635892410837"
      ],
      "text/markdown": [
       "-12.1635892410837"
      ],
      "text/plain": [
       "[1] -12.16359"
      ]
     },
     "metadata": {},
     "output_type": "display_data"
    }
   ],
   "source": [
    "zstar1=(xbar1-mu)/(sd1/sqrt(n))\n",
    "zstar1"
   ]
  },
  {
   "cell_type": "code",
   "execution_count": 17,
   "metadata": {},
   "outputs": [
    {
     "data": {
      "text/plain": [
       "\n",
       "\tOne Sample t-test\n",
       "\n",
       "data:  data1\n",
       "t = -12.164, df = 49, p-value < 2.2e-16\n",
       "alternative hypothesis: true mean is not equal to 150\n",
       "99 percent confidence interval:\n",
       " 105.8242 121.7758\n",
       "sample estimates:\n",
       "mean of x \n",
       "    113.8 \n"
      ]
     },
     "metadata": {},
     "output_type": "display_data"
    }
   ],
   "source": [
    "t.test(data1,alternative=\"two.sided\",mu=150,conf.level=0.99)"
   ]
  },
  {
   "cell_type": "code",
   "execution_count": 18,
   "metadata": {},
   "outputs": [
    {
     "data": {
      "text/html": [
       "9.57943005899087e-09"
      ],
      "text/latex": [
       "9.57943005899087e-09"
      ],
      "text/markdown": [
       "9.57943005899087e-09"
      ],
      "text/plain": [
       "[1] 9.57943e-09"
      ]
     },
     "metadata": {},
     "output_type": "display_data"
    }
   ],
   "source": [
    "pval=pt(-6.702749,df=n-1)\n",
    "pval"
   ]
  },
  {
   "cell_type": "code",
   "execution_count": 19,
   "metadata": {},
   "outputs": [
    {
     "data": {
      "text/html": [
       "9.58110533823975e-09"
      ],
      "text/latex": [
       "9.58110533823975e-09"
      ],
      "text/markdown": [
       "9.58110533823975e-09"
      ],
      "text/plain": [
       "[1] 9.581105e-09"
      ]
     },
     "metadata": {},
     "output_type": "display_data"
    }
   ],
   "source": [
    "pval=pt(-6.7027,df=n-1)\n",
    "pval"
   ]
  },
  {
   "cell_type": "code",
   "execution_count": 20,
   "metadata": {},
   "outputs": [
    {
     "data": {
      "text/html": [
       "<table>\n",
       "<caption>A data.frame: 18 × 2</caption>\n",
       "<thead>\n",
       "\t<tr><th scope=col>group</th><th scope=col>weight</th></tr>\n",
       "\t<tr><th scope=col>&lt;fct&gt;</th><th scope=col>&lt;dbl&gt;</th></tr>\n",
       "</thead>\n",
       "<tbody>\n",
       "\t<tr><td>Woman</td><td>38.9</td></tr>\n",
       "\t<tr><td>Woman</td><td>61.2</td></tr>\n",
       "\t<tr><td>Woman</td><td>73.3</td></tr>\n",
       "\t<tr><td>Woman</td><td>21.8</td></tr>\n",
       "\t<tr><td>Woman</td><td>63.4</td></tr>\n",
       "\t<tr><td>Woman</td><td>64.6</td></tr>\n",
       "\t<tr><td>Woman</td><td>48.4</td></tr>\n",
       "\t<tr><td>Woman</td><td>48.8</td></tr>\n",
       "\t<tr><td>Woman</td><td>48.5</td></tr>\n",
       "\t<tr><td>Man  </td><td>67.8</td></tr>\n",
       "\t<tr><td>Man  </td><td>60.0</td></tr>\n",
       "\t<tr><td>Man  </td><td>63.4</td></tr>\n",
       "\t<tr><td>Man  </td><td>76.0</td></tr>\n",
       "\t<tr><td>Man  </td><td>89.4</td></tr>\n",
       "\t<tr><td>Man  </td><td>73.3</td></tr>\n",
       "\t<tr><td>Man  </td><td>67.3</td></tr>\n",
       "\t<tr><td>Man  </td><td>61.3</td></tr>\n",
       "\t<tr><td>Man  </td><td>62.4</td></tr>\n",
       "</tbody>\n",
       "</table>\n"
      ],
      "text/latex": [
       "A data.frame: 18 × 2\n",
       "\\begin{tabular}{r|ll}\n",
       " group & weight\\\\\n",
       " <fct> & <dbl>\\\\\n",
       "\\hline\n",
       "\t Woman & 38.9\\\\\n",
       "\t Woman & 61.2\\\\\n",
       "\t Woman & 73.3\\\\\n",
       "\t Woman & 21.8\\\\\n",
       "\t Woman & 63.4\\\\\n",
       "\t Woman & 64.6\\\\\n",
       "\t Woman & 48.4\\\\\n",
       "\t Woman & 48.8\\\\\n",
       "\t Woman & 48.5\\\\\n",
       "\t Man   & 67.8\\\\\n",
       "\t Man   & 60.0\\\\\n",
       "\t Man   & 63.4\\\\\n",
       "\t Man   & 76.0\\\\\n",
       "\t Man   & 89.4\\\\\n",
       "\t Man   & 73.3\\\\\n",
       "\t Man   & 67.3\\\\\n",
       "\t Man   & 61.3\\\\\n",
       "\t Man   & 62.4\\\\\n",
       "\\end{tabular}\n"
      ],
      "text/markdown": [
       "\n",
       "A data.frame: 18 × 2\n",
       "\n",
       "| group &lt;fct&gt; | weight &lt;dbl&gt; |\n",
       "|---|---|\n",
       "| Woman | 38.9 |\n",
       "| Woman | 61.2 |\n",
       "| Woman | 73.3 |\n",
       "| Woman | 21.8 |\n",
       "| Woman | 63.4 |\n",
       "| Woman | 64.6 |\n",
       "| Woman | 48.4 |\n",
       "| Woman | 48.8 |\n",
       "| Woman | 48.5 |\n",
       "| Man   | 67.8 |\n",
       "| Man   | 60.0 |\n",
       "| Man   | 63.4 |\n",
       "| Man   | 76.0 |\n",
       "| Man   | 89.4 |\n",
       "| Man   | 73.3 |\n",
       "| Man   | 67.3 |\n",
       "| Man   | 61.3 |\n",
       "| Man   | 62.4 |\n",
       "\n"
      ],
      "text/plain": [
       "   group weight\n",
       "1  Woman 38.9  \n",
       "2  Woman 61.2  \n",
       "3  Woman 73.3  \n",
       "4  Woman 21.8  \n",
       "5  Woman 63.4  \n",
       "6  Woman 64.6  \n",
       "7  Woman 48.4  \n",
       "8  Woman 48.8  \n",
       "9  Woman 48.5  \n",
       "10 Man   67.8  \n",
       "11 Man   60.0  \n",
       "12 Man   63.4  \n",
       "13 Man   76.0  \n",
       "14 Man   89.4  \n",
       "15 Man   73.3  \n",
       "16 Man   67.3  \n",
       "17 Man   61.3  \n",
       "18 Man   62.4  "
      ]
     },
     "metadata": {},
     "output_type": "display_data"
    }
   ],
   "source": [
    "women_weight <- c(38.9, 61.2, 73.3, 21.8, 63.4, 64.6, 48.4, 48.8, 48.5)\n",
    "men_weight <- c(67.8, 60, 63.4, 76, 89.4, 73.3, 67.3, 61.3, 62.4) \n",
    "# Create a data frame\n",
    "my_data <- data.frame(group = rep(c(\"Woman\", \"Man\"), each = 9),\n",
    "                      weight = c(women_weight,  men_weight)\n",
    "                     )\n",
    "my_data"
   ]
  },
  {
   "cell_type": "code",
   "execution_count": 21,
   "metadata": {},
   "outputs": [
    {
     "data": {
      "text/plain": [
       "\n",
       "\tF test to compare two variances\n",
       "\n",
       "data:  weight by group\n",
       "F = 0.36134, num df = 8, denom df = 8, p-value = 0.1714\n",
       "alternative hypothesis: true ratio of variances is not equal to 1\n",
       "95 percent confidence interval:\n",
       " 0.08150656 1.60191315\n",
       "sample estimates:\n",
       "ratio of variances \n",
       "         0.3613398 \n"
      ]
     },
     "metadata": {},
     "output_type": "display_data"
    }
   ],
   "source": [
    "detach(sleep)\n",
    "attach(my_data)\n",
    "res.ftest <- var.test(weight ~ group, data = my_data)\n",
    "res.ftest"
   ]
  },
  {
   "cell_type": "code",
   "execution_count": 22,
   "metadata": {},
   "outputs": [
    {
     "data": {
      "text/plain": [
       "\n",
       "\tF test to compare two variances\n",
       "\n",
       "data:  women_weight and men_weight\n",
       "F = 2.7675, num df = 8, denom df = 8, p-value = 0.1714\n",
       "alternative hypothesis: true ratio of variances is not equal to 1\n",
       "95 percent confidence interval:\n",
       "  0.6242536 12.2689506\n",
       "sample estimates:\n",
       "ratio of variances \n",
       "          2.767478 \n"
      ]
     },
     "metadata": {},
     "output_type": "display_data"
    }
   ],
   "source": [
    "var.test(women_weight,men_weight)"
   ]
  },
  {
   "cell_type": "code",
   "execution_count": 23,
   "metadata": {},
   "outputs": [
    {
     "data": {
      "text/plain": [
       "\n",
       "\tF test to compare two variances\n",
       "\n",
       "data:  men_weight and women_weight\n",
       "F = 0.36134, num df = 8, denom df = 8, p-value = 0.1714\n",
       "alternative hypothesis: true ratio of variances is not equal to 1\n",
       "95 percent confidence interval:\n",
       " 0.08150656 1.60191315\n",
       "sample estimates:\n",
       "ratio of variances \n",
       "         0.3613398 \n"
      ]
     },
     "metadata": {},
     "output_type": "display_data"
    }
   ],
   "source": [
    "var.test(men_weight,women_weight)"
   ]
  },
  {
   "cell_type": "code",
   "execution_count": 24,
   "metadata": {},
   "outputs": [
    {
     "data": {
      "text/plain": [
       "\n",
       "\tF test to compare two variances\n",
       "\n",
       "data:  weight by group\n",
       "F = 0.36134, num df = 8, denom df = 8, p-value = 0.1714\n",
       "alternative hypothesis: true ratio of variances is not equal to 1\n",
       "95 percent confidence interval:\n",
       " 0.08150656 1.60191315\n",
       "sample estimates:\n",
       "ratio of variances \n",
       "         0.3613398 \n"
      ]
     },
     "metadata": {},
     "output_type": "display_data"
    }
   ],
   "source": [
    "res.ftest <- var.test(weight ~ group, data = my_data)\n",
    "res.ftest"
   ]
  },
  {
   "cell_type": "code",
   "execution_count": 25,
   "metadata": {},
   "outputs": [
    {
     "data": {
      "text/plain": [
       "\n",
       "\tTwo Sample t-test\n",
       "\n",
       "data:  men_weight and women_weight\n",
       "t = 2.7842, df = 16, p-value = 0.006633\n",
       "alternative hypothesis: true difference in means is greater than 0\n",
       "95 percent confidence interval:\n",
       " 6.298536      Inf\n",
       "sample estimates:\n",
       "mean of x mean of y \n",
       " 68.98889  52.10000 \n"
      ]
     },
     "metadata": {},
     "output_type": "display_data"
    }
   ],
   "source": [
    "t.test(men_weight,women_weight,alternative=\"greater\",mu=0,var.equal=TRUE)"
   ]
  },
  {
   "cell_type": "code",
   "execution_count": 26,
   "metadata": {},
   "outputs": [
    {
     "data": {
      "text/plain": [
       "\n",
       "\tTwo Sample t-test\n",
       "\n",
       "data:  men_weight and women_weight\n",
       "t = 2.7842, df = 16, p-value = 0.01327\n",
       "alternative hypothesis: true difference in means is not equal to 0\n",
       "95 percent confidence interval:\n",
       "  4.029759 29.748019\n",
       "sample estimates:\n",
       "mean of x mean of y \n",
       " 68.98889  52.10000 \n"
      ]
     },
     "metadata": {},
     "output_type": "display_data"
    }
   ],
   "source": [
    " t.test(men_weight,women_weight,mu=0,var.equal=TRUE)"
   ]
  },
  {
   "cell_type": "code",
   "execution_count": 36,
   "metadata": {},
   "outputs": [
    {
     "data": {
      "text/plain": [
       "\n",
       "\tPaired t-test\n",
       "\n",
       "data:  before and after\n",
       "t = -20.883, df = 9, p-value = 6.2e-09\n",
       "alternative hypothesis: true difference in means is not equal to 0\n",
       "95 percent confidence interval:\n",
       " -215.5581 -173.4219\n",
       "sample estimates:\n",
       "mean of the differences \n",
       "                -194.49 \n"
      ]
     },
     "metadata": {},
     "output_type": "display_data"
    }
   ],
   "source": [
    "# Weight of the mice before treatment\n",
    "before <-c(200.1, 190.9, 192.7, 213, 241.4, 196.9, 172.2, 185.5, 205.2, 193.7)\n",
    "# Weight of the mice after treatment\n",
    "after <-c(392.9, 393.2, 345.1, 393, 434, 427.9, 422, 383.9, 392.3, 352.2)\n",
    "# Create a data frame\n",
    "my_data <- data.frame(\n",
    "    group = rep(c(\"before\", \"after\"), each = 10),\n",
    "    weight = c(before,  after)\n",
    ")\n",
    "t.test(before,after,paired=TRUE)"
   ]
  },
  {
   "cell_type": "code",
   "execution_count": 28,
   "metadata": {},
   "outputs": [
    {
     "data": {
      "text/plain": [
       "\n",
       "\tPaired t-test\n",
       "\n",
       "data:  weight by group\n",
       "t = 20.883, df = 9, p-value = 6.2e-09\n",
       "alternative hypothesis: true difference in means is not equal to 0\n",
       "95 percent confidence interval:\n",
       " 173.4219 215.5581\n",
       "sample estimates:\n",
       "mean of the differences \n",
       "                 194.49 \n"
      ]
     },
     "metadata": {},
     "output_type": "display_data"
    }
   ],
   "source": [
    "res <- t.test(weight ~ group, data = my_data, paired = TRUE)\n",
    "res"
   ]
  },
  {
   "cell_type": "code",
   "execution_count": 29,
   "metadata": {},
   "outputs": [
    {
     "name": "stdout",
     "output_type": "stream",
     "text": [
      "'data.frame':\t30 obs. of  2 variables:\n",
      " $ weight: num  4.17 5.58 5.18 6.11 4.5 4.61 5.17 4.53 5.33 5.14 ...\n",
      " $ group : Factor w/ 3 levels \"ctrl\",\"trt1\",..: 1 1 1 1 1 1 1 1 1 1 ...\n"
     ]
    }
   ],
   "source": [
    "str(PlantGrowth)"
   ]
  },
  {
   "cell_type": "code",
   "execution_count": 37,
   "metadata": {},
   "outputs": [
    {
     "name": "stderr",
     "output_type": "stream",
     "text": [
      "The following objects are masked from PlantGrowth (pos = 4):\n",
      "\n",
      "    group, weight\n",
      "\n",
      "\n"
     ]
    },
    {
     "data": {
      "text/html": [
       "<ol class=list-inline>\n",
       "\t<li>'weight'</li>\n",
       "\t<li>'group'</li>\n",
       "</ol>\n"
      ],
      "text/latex": [
       "\\begin{enumerate*}\n",
       "\\item 'weight'\n",
       "\\item 'group'\n",
       "\\end{enumerate*}\n"
      ],
      "text/markdown": [
       "1. 'weight'\n",
       "2. 'group'\n",
       "\n",
       "\n"
      ],
      "text/plain": [
       "[1] \"weight\" \"group\" "
      ]
     },
     "metadata": {},
     "output_type": "display_data"
    },
    {
     "data": {
      "text/plain": [
       "Call:\n",
       "   aov(formula = weight ~ group, data = PlantGrowth)\n",
       "\n",
       "Terms:\n",
       "                   group Residuals\n",
       "Sum of Squares   3.76634  10.49209\n",
       "Deg. of Freedom        2        27\n",
       "\n",
       "Residual standard error: 0.6233746\n",
       "Estimated effects may be unbalanced"
      ]
     },
     "metadata": {},
     "output_type": "display_data"
    }
   ],
   "source": [
    "detach(my_data)\n",
    "attach(PlantGrowth)\n",
    "names(PlantGrowth)\n",
    "res.aov=aov(weight~group,data=PlantGrowth)\n",
    "res.aov"
   ]
  },
  {
   "cell_type": "code",
   "execution_count": 31,
   "metadata": {},
   "outputs": [
    {
     "data": {
      "text/plain": [
       "            Df Sum Sq Mean Sq F value Pr(>F)  \n",
       "group        2  3.766  1.8832   4.846 0.0159 *\n",
       "Residuals   27 10.492  0.3886                 \n",
       "---\n",
       "Signif. codes:  0 '***' 0.001 '**' 0.01 '*' 0.05 '.' 0.1 ' ' 1"
      ]
     },
     "metadata": {},
     "output_type": "display_data"
    }
   ],
   "source": [
    "summary(res.aov)"
   ]
  },
  {
   "cell_type": "code",
   "execution_count": 32,
   "metadata": {},
   "outputs": [
    {
     "data": {
      "text/plain": [
       "  Tukey multiple comparisons of means\n",
       "    95% family-wise confidence level\n",
       "\n",
       "Fit: aov(formula = weight ~ group, data = PlantGrowth)\n",
       "\n",
       "$group\n",
       "            diff        lwr       upr     p adj\n",
       "trt1-ctrl -0.371 -1.0622161 0.3202161 0.3908711\n",
       "trt2-ctrl  0.494 -0.1972161 1.1852161 0.1979960\n",
       "trt2-trt1  0.865  0.1737839 1.5562161 0.0120064\n"
      ]
     },
     "metadata": {},
     "output_type": "display_data"
    }
   ],
   "source": [
    "TukeyHSD(res.aov)"
   ]
  },
  {
   "cell_type": "code",
   "execution_count": 33,
   "metadata": {},
   "outputs": [
    {
     "data": {
      "text/plain": [
       "\n",
       "\tBartlett test of homogeneity of variances\n",
       "\n",
       "data:  weight by group\n",
       "Bartlett's K-squared = 2.8786, df = 2, p-value = 0.2371\n"
      ]
     },
     "metadata": {},
     "output_type": "display_data"
    }
   ],
   "source": [
    "bartlett.test(weight~group,data=PlantGrowth)"
   ]
  },
  {
   "cell_type": "code",
   "execution_count": 34,
   "metadata": {},
   "outputs": [
    {
     "name": "stdout",
     "output_type": "stream",
     "text": [
      "'data.frame':\t42 obs. of  10 variables:\n",
      " $ t             : Factor w/ 42 levels \"02fdeff7e48627a6c276d7b38fac5143\",..: 1 2 3 4 5 6 7 8 9 10 ...\n",
      " $ er            : int  2 2 2 2 2 2 1 2 2 2 ...\n",
      " $ pgr           : int  2 2 2 2 2 2 2 2 1 2 ...\n",
      " $ size          : int  30 16 8 25 18 16 23 8 20 20 ...\n",
      " $ er_annotation : Factor w/ 3 levels \"Borderline\",\"Negative\",..: 2 2 2 2 2 2 3 2 2 2 ...\n",
      " $ pgr_annotation: Factor w/ 3 levels \"Borderline\",\"Negative\",..: 2 2 2 2 2 2 2 2 3 2 ...\n",
      " $ proteinA      : int  15 8 0 13 28 31 1 58 38 18 ...\n",
      " $ proteinB      : int  30 47 0 31 38 94 7 91 36 96 ...\n",
      " $ her2          : int  0 0 0 3 0 0 3 0 0 3 ...\n",
      " $ label         : Factor w/ 2 levels \"over70\",\"under45\": 1 1 2 2 1 2 2 2 1 2 ...\n"
     ]
    }
   ],
   "source": [
    "tma=read.csv('breast cancer dataset1.csv')\n",
    "str(tma)"
   ]
  },
  {
   "cell_type": "code",
   "execution_count": 38,
   "metadata": {},
   "outputs": [
    {
     "name": "stderr",
     "output_type": "stream",
     "text": [
      "The following objects are masked from tma (pos = 4):\n",
      "\n",
      "    er, er_annotation, her2, label, pgr, pgr_annotation, proteinA,\n",
      "    proteinB, size, t\n",
      "\n",
      "\n"
     ]
    },
    {
     "data": {
      "text/html": [
       "<ol class=list-inline>\n",
       "\t<li>30</li>\n",
       "\t<li>16</li>\n",
       "\t<li>18</li>\n",
       "\t<li>20</li>\n",
       "\t<li>35</li>\n",
       "\t<li>11</li>\n",
       "\t<li>30</li>\n",
       "\t<li>25</li>\n",
       "\t<li>40</li>\n",
       "\t<li>10</li>\n",
       "\t<li>15</li>\n",
       "\t<li>38</li>\n",
       "\t<li>22</li>\n",
       "\t<li>19</li>\n",
       "\t<li>34</li>\n",
       "\t<li>16</li>\n",
       "\t<li>22</li>\n",
       "\t<li>25</li>\n",
       "\t<li>20</li>\n",
       "\t<li>21</li>\n",
       "\t<li>22</li>\n",
       "</ol>\n"
      ],
      "text/latex": [
       "\\begin{enumerate*}\n",
       "\\item 30\n",
       "\\item 16\n",
       "\\item 18\n",
       "\\item 20\n",
       "\\item 35\n",
       "\\item 11\n",
       "\\item 30\n",
       "\\item 25\n",
       "\\item 40\n",
       "\\item 10\n",
       "\\item 15\n",
       "\\item 38\n",
       "\\item 22\n",
       "\\item 19\n",
       "\\item 34\n",
       "\\item 16\n",
       "\\item 22\n",
       "\\item 25\n",
       "\\item 20\n",
       "\\item 21\n",
       "\\item 22\n",
       "\\end{enumerate*}\n"
      ],
      "text/markdown": [
       "1. 30\n",
       "2. 16\n",
       "3. 18\n",
       "4. 20\n",
       "5. 35\n",
       "6. 11\n",
       "7. 30\n",
       "8. 25\n",
       "9. 40\n",
       "10. 10\n",
       "11. 15\n",
       "12. 38\n",
       "13. 22\n",
       "14. 19\n",
       "15. 34\n",
       "16. 16\n",
       "17. 22\n",
       "18. 25\n",
       "19. 20\n",
       "20. 21\n",
       "21. 22\n",
       "\n",
       "\n"
      ],
      "text/plain": [
       " [1] 30 16 18 20 35 11 30 25 40 10 15 38 22 19 34 16 22 25 20 21 22"
      ]
     },
     "metadata": {},
     "output_type": "display_data"
    }
   ],
   "source": [
    "attach(tma)\n",
    "over70=subset(tma,label==\"over70\",size,drop=T)\n",
    "over70"
   ]
  },
  {
   "cell_type": "code",
   "execution_count": 39,
   "metadata": {},
   "outputs": [
    {
     "data": {
      "text/html": [
       "<ol class=list-inline>\n",
       "\t<li>8</li>\n",
       "\t<li>25</li>\n",
       "\t<li>16</li>\n",
       "\t<li>23</li>\n",
       "\t<li>8</li>\n",
       "\t<li>20</li>\n",
       "\t<li>20</li>\n",
       "\t<li>24</li>\n",
       "\t<li>15</li>\n",
       "\t<li>18</li>\n",
       "\t<li>23</li>\n",
       "\t<li>18</li>\n",
       "\t<li>15</li>\n",
       "\t<li>12</li>\n",
       "\t<li>16</li>\n",
       "\t<li>25</li>\n",
       "\t<li>2</li>\n",
       "\t<li>30</li>\n",
       "\t<li>17</li>\n",
       "\t<li>25</li>\n",
       "\t<li>17</li>\n",
       "</ol>\n"
      ],
      "text/latex": [
       "\\begin{enumerate*}\n",
       "\\item 8\n",
       "\\item 25\n",
       "\\item 16\n",
       "\\item 23\n",
       "\\item 8\n",
       "\\item 20\n",
       "\\item 20\n",
       "\\item 24\n",
       "\\item 15\n",
       "\\item 18\n",
       "\\item 23\n",
       "\\item 18\n",
       "\\item 15\n",
       "\\item 12\n",
       "\\item 16\n",
       "\\item 25\n",
       "\\item 2\n",
       "\\item 30\n",
       "\\item 17\n",
       "\\item 25\n",
       "\\item 17\n",
       "\\end{enumerate*}\n"
      ],
      "text/markdown": [
       "1. 8\n",
       "2. 25\n",
       "3. 16\n",
       "4. 23\n",
       "5. 8\n",
       "6. 20\n",
       "7. 20\n",
       "8. 24\n",
       "9. 15\n",
       "10. 18\n",
       "11. 23\n",
       "12. 18\n",
       "13. 15\n",
       "14. 12\n",
       "15. 16\n",
       "16. 25\n",
       "17. 2\n",
       "18. 30\n",
       "19. 17\n",
       "20. 25\n",
       "21. 17\n",
       "\n",
       "\n"
      ],
      "text/plain": [
       " [1]  8 25 16 23  8 20 20 24 15 18 23 18 15 12 16 25  2 30 17 25 17"
      ]
     },
     "metadata": {},
     "output_type": "display_data"
    }
   ],
   "source": [
    "under45=subset(tma,label==\"under45\",size,drop=T)\n",
    "under45"
   ]
  },
  {
   "cell_type": "code",
   "execution_count": 40,
   "metadata": {},
   "outputs": [
    {
     "data": {
      "text/plain": [
       "\n",
       "\tF test to compare two variances\n",
       "\n",
       "data:  over70 and under45\n",
       "F = 1.5739, num df = 20, denom df = 20, p-value = 0.3186\n",
       "alternative hypothesis: true ratio of variances is not equal to 1\n",
       "95 percent confidence interval:\n",
       " 0.6386241 3.8788005\n",
       "sample estimates:\n",
       "ratio of variances \n",
       "          1.573879 \n"
      ]
     },
     "metadata": {},
     "output_type": "display_data"
    }
   ],
   "source": [
    "var.test(over70,under45)"
   ]
  },
  {
   "cell_type": "code",
   "execution_count": 41,
   "metadata": {},
   "outputs": [
    {
     "data": {
      "text/plain": [
       "\n",
       "\tTwo Sample t-test\n",
       "\n",
       "data:  over70 and under45\n",
       "t = 2.2647, df = 40, p-value = 0.02902\n",
       "alternative hypothesis: true difference in means is not equal to 0\n",
       "95 percent confidence interval:\n",
       "  0.5737952 10.0928715\n",
       "sample estimates:\n",
       "mean of x mean of y \n",
       " 23.28571  17.95238 \n"
      ]
     },
     "metadata": {},
     "output_type": "display_data"
    }
   ],
   "source": [
    "t.test(over70,under45,var.equal=TRUE)"
   ]
  },
  {
   "cell_type": "code",
   "execution_count": 42,
   "metadata": {},
   "outputs": [
    {
     "data": {
      "text/plain": [
       "\n",
       "\tPearson's product-moment correlation\n",
       "\n",
       "data:  under45 and over70\n",
       "t = -1.398, df = 19, p-value = 0.1782\n",
       "alternative hypothesis: true correlation is not equal to 0\n",
       "95 percent confidence interval:\n",
       " -0.6512265  0.1454710\n",
       "sample estimates:\n",
       "       cor \n",
       "-0.3053939 \n"
      ]
     },
     "metadata": {},
     "output_type": "display_data"
    }
   ],
   "source": [
    "cor.test(under45,over70)"
   ]
  },
  {
   "cell_type": "code",
   "execution_count": 43,
   "metadata": {},
   "outputs": [
    {
     "data": {
      "text/html": [
       "<ol class=list-inline>\n",
       "\t<li>'.valueClassTest'</li>\n",
       "\t<li>'ansari.test'</li>\n",
       "\t<li>'bartlett.test'</li>\n",
       "\t<li>'binom.test'</li>\n",
       "\t<li>'Box.test'</li>\n",
       "\t<li>'catTestchisq'</li>\n",
       "\t<li>'chisq.test'</li>\n",
       "\t<li>'circ.tests'</li>\n",
       "\t<li>'conTestkw'</li>\n",
       "\t<li>'cor.test'</li>\n",
       "\t<li>'corr.test'</li>\n",
       "\t<li>'cortest'</li>\n",
       "\t<li>'cortest.bartlett'</li>\n",
       "\t<li>'cortest.jennrich'</li>\n",
       "\t<li>'cortest.mat'</li>\n",
       "\t<li>'cortest.normal'</li>\n",
       "\t<li>'coxph.wtest'</li>\n",
       "\t<li>'file_test'</li>\n",
       "\t<li>'fisher.test'</li>\n",
       "\t<li>'fligner.test'</li>\n",
       "\t<li>'formatTestStats'</li>\n",
       "\t<li>'friedman.test'</li>\n",
       "\t<li>'getLatestSource'</li>\n",
       "\t<li>'kruskal.test'</li>\n",
       "\t<li>'ks.test'</li>\n",
       "\t<li>'mantelhaen.test'</li>\n",
       "\t<li>'mauchly.test'</li>\n",
       "\t<li>'mcnemar.test'</li>\n",
       "\t<li>'mood.test'</li>\n",
       "\t<li>'oneway.test'</li>\n",
       "\t<li>'ordTestpo'</li>\n",
       "\t<li>'pairwise.prop.test'</li>\n",
       "\t<li>'pairwise.t.test'</li>\n",
       "\t<li>'pairwise.wilcox.test'</li>\n",
       "\t<li>'poisson.test'</li>\n",
       "\t<li>'power.anova.test'</li>\n",
       "\t<li>'power.prop.test'</li>\n",
       "\t<li>'power.t.test'</li>\n",
       "\t<li>'PP.test'</li>\n",
       "\t<li>'prop.test'</li>\n",
       "\t<li>'prop.trend.test'</li>\n",
       "\t<li>'quade.test'</li>\n",
       "\t<li>'r.test'</li>\n",
       "\t<li>'res.ftest'</li>\n",
       "\t<li>'shapiro.test'</li>\n",
       "\t<li>'spearman.test'</li>\n",
       "\t<li>'survregDtest'</li>\n",
       "\t<li>'t.test'</li>\n",
       "\t<li>'t.test.cluster'</li>\n",
       "\t<li>'test.all'</li>\n",
       "\t<li>'test.irt'</li>\n",
       "\t<li>'test.psych'</li>\n",
       "\t<li>'testDateTime'</li>\n",
       "\t<li>'testInheritedMethods'</li>\n",
       "\t<li>'testRetest'</li>\n",
       "\t<li>'testVirtual'</li>\n",
       "\t<li>'theme_test'</li>\n",
       "\t<li>'trend.test'</li>\n",
       "\t<li>'var.test'</li>\n",
       "\t<li>'wilcox.test'</li>\n",
       "</ol>\n"
      ],
      "text/latex": [
       "\\begin{enumerate*}\n",
       "\\item '.valueClassTest'\n",
       "\\item 'ansari.test'\n",
       "\\item 'bartlett.test'\n",
       "\\item 'binom.test'\n",
       "\\item 'Box.test'\n",
       "\\item 'catTestchisq'\n",
       "\\item 'chisq.test'\n",
       "\\item 'circ.tests'\n",
       "\\item 'conTestkw'\n",
       "\\item 'cor.test'\n",
       "\\item 'corr.test'\n",
       "\\item 'cortest'\n",
       "\\item 'cortest.bartlett'\n",
       "\\item 'cortest.jennrich'\n",
       "\\item 'cortest.mat'\n",
       "\\item 'cortest.normal'\n",
       "\\item 'coxph.wtest'\n",
       "\\item 'file\\_test'\n",
       "\\item 'fisher.test'\n",
       "\\item 'fligner.test'\n",
       "\\item 'formatTestStats'\n",
       "\\item 'friedman.test'\n",
       "\\item 'getLatestSource'\n",
       "\\item 'kruskal.test'\n",
       "\\item 'ks.test'\n",
       "\\item 'mantelhaen.test'\n",
       "\\item 'mauchly.test'\n",
       "\\item 'mcnemar.test'\n",
       "\\item 'mood.test'\n",
       "\\item 'oneway.test'\n",
       "\\item 'ordTestpo'\n",
       "\\item 'pairwise.prop.test'\n",
       "\\item 'pairwise.t.test'\n",
       "\\item 'pairwise.wilcox.test'\n",
       "\\item 'poisson.test'\n",
       "\\item 'power.anova.test'\n",
       "\\item 'power.prop.test'\n",
       "\\item 'power.t.test'\n",
       "\\item 'PP.test'\n",
       "\\item 'prop.test'\n",
       "\\item 'prop.trend.test'\n",
       "\\item 'quade.test'\n",
       "\\item 'r.test'\n",
       "\\item 'res.ftest'\n",
       "\\item 'shapiro.test'\n",
       "\\item 'spearman.test'\n",
       "\\item 'survregDtest'\n",
       "\\item 't.test'\n",
       "\\item 't.test.cluster'\n",
       "\\item 'test.all'\n",
       "\\item 'test.irt'\n",
       "\\item 'test.psych'\n",
       "\\item 'testDateTime'\n",
       "\\item 'testInheritedMethods'\n",
       "\\item 'testRetest'\n",
       "\\item 'testVirtual'\n",
       "\\item 'theme\\_test'\n",
       "\\item 'trend.test'\n",
       "\\item 'var.test'\n",
       "\\item 'wilcox.test'\n",
       "\\end{enumerate*}\n"
      ],
      "text/markdown": [
       "1. '.valueClassTest'\n",
       "2. 'ansari.test'\n",
       "3. 'bartlett.test'\n",
       "4. 'binom.test'\n",
       "5. 'Box.test'\n",
       "6. 'catTestchisq'\n",
       "7. 'chisq.test'\n",
       "8. 'circ.tests'\n",
       "9. 'conTestkw'\n",
       "10. 'cor.test'\n",
       "11. 'corr.test'\n",
       "12. 'cortest'\n",
       "13. 'cortest.bartlett'\n",
       "14. 'cortest.jennrich'\n",
       "15. 'cortest.mat'\n",
       "16. 'cortest.normal'\n",
       "17. 'coxph.wtest'\n",
       "18. 'file_test'\n",
       "19. 'fisher.test'\n",
       "20. 'fligner.test'\n",
       "21. 'formatTestStats'\n",
       "22. 'friedman.test'\n",
       "23. 'getLatestSource'\n",
       "24. 'kruskal.test'\n",
       "25. 'ks.test'\n",
       "26. 'mantelhaen.test'\n",
       "27. 'mauchly.test'\n",
       "28. 'mcnemar.test'\n",
       "29. 'mood.test'\n",
       "30. 'oneway.test'\n",
       "31. 'ordTestpo'\n",
       "32. 'pairwise.prop.test'\n",
       "33. 'pairwise.t.test'\n",
       "34. 'pairwise.wilcox.test'\n",
       "35. 'poisson.test'\n",
       "36. 'power.anova.test'\n",
       "37. 'power.prop.test'\n",
       "38. 'power.t.test'\n",
       "39. 'PP.test'\n",
       "40. 'prop.test'\n",
       "41. 'prop.trend.test'\n",
       "42. 'quade.test'\n",
       "43. 'r.test'\n",
       "44. 'res.ftest'\n",
       "45. 'shapiro.test'\n",
       "46. 'spearman.test'\n",
       "47. 'survregDtest'\n",
       "48. 't.test'\n",
       "49. 't.test.cluster'\n",
       "50. 'test.all'\n",
       "51. 'test.irt'\n",
       "52. 'test.psych'\n",
       "53. 'testDateTime'\n",
       "54. 'testInheritedMethods'\n",
       "55. 'testRetest'\n",
       "56. 'testVirtual'\n",
       "57. 'theme_test'\n",
       "58. 'trend.test'\n",
       "59. 'var.test'\n",
       "60. 'wilcox.test'\n",
       "\n",
       "\n"
      ],
      "text/plain": [
       " [1] \".valueClassTest\"      \"ansari.test\"          \"bartlett.test\"       \n",
       " [4] \"binom.test\"           \"Box.test\"             \"catTestchisq\"        \n",
       " [7] \"chisq.test\"           \"circ.tests\"           \"conTestkw\"           \n",
       "[10] \"cor.test\"             \"corr.test\"            \"cortest\"             \n",
       "[13] \"cortest.bartlett\"     \"cortest.jennrich\"     \"cortest.mat\"         \n",
       "[16] \"cortest.normal\"       \"coxph.wtest\"          \"file_test\"           \n",
       "[19] \"fisher.test\"          \"fligner.test\"         \"formatTestStats\"     \n",
       "[22] \"friedman.test\"        \"getLatestSource\"      \"kruskal.test\"        \n",
       "[25] \"ks.test\"              \"mantelhaen.test\"      \"mauchly.test\"        \n",
       "[28] \"mcnemar.test\"         \"mood.test\"            \"oneway.test\"         \n",
       "[31] \"ordTestpo\"            \"pairwise.prop.test\"   \"pairwise.t.test\"     \n",
       "[34] \"pairwise.wilcox.test\" \"poisson.test\"         \"power.anova.test\"    \n",
       "[37] \"power.prop.test\"      \"power.t.test\"         \"PP.test\"             \n",
       "[40] \"prop.test\"            \"prop.trend.test\"      \"quade.test\"          \n",
       "[43] \"r.test\"               \"res.ftest\"            \"shapiro.test\"        \n",
       "[46] \"spearman.test\"        \"survregDtest\"         \"t.test\"              \n",
       "[49] \"t.test.cluster\"       \"test.all\"             \"test.irt\"            \n",
       "[52] \"test.psych\"           \"testDateTime\"         \"testInheritedMethods\"\n",
       "[55] \"testRetest\"           \"testVirtual\"          \"theme_test\"          \n",
       "[58] \"trend.test\"           \"var.test\"             \"wilcox.test\"         "
      ]
     },
     "metadata": {},
     "output_type": "display_data"
    }
   ],
   "source": [
    "apropos(\"test\")"
   ]
  },
  {
   "cell_type": "code",
   "execution_count": 44,
   "metadata": {},
   "outputs": [
    {
     "data": {
      "text/plain": [
       "\n",
       "\tFisher's Exact Test for Count Data\n",
       "\n",
       "data:  TeaTasting\n",
       "p-value = 0.2429\n",
       "alternative hypothesis: true odds ratio is greater than 1\n",
       "95 percent confidence interval:\n",
       " 0.3135693       Inf\n",
       "sample estimates:\n",
       "odds ratio \n",
       "  6.408309 \n"
      ]
     },
     "metadata": {},
     "output_type": "display_data"
    }
   ],
   "source": [
    "TeaTasting <- matrix(c(3, 1, 1, 3),\n",
    "                     nrow = 2,\n",
    "                     dimnames = list(Guess = c(\"Milk\", \"Tea\"),\n",
    "                                     Truth = c(\"Milk\", \"Tea\")))\n",
    "fisher.test(TeaTasting, alternative = \"greater\")\n"
   ]
  },
  {
   "cell_type": "code",
   "execution_count": 45,
   "metadata": {},
   "outputs": [
    {
     "data": {
      "text/html": [
       "<table>\n",
       "<caption>A matrix: 2 × 2 of type dbl</caption>\n",
       "<thead>\n",
       "\t<tr><th></th><th scope=col>Milk</th><th scope=col>Tea</th></tr>\n",
       "</thead>\n",
       "<tbody>\n",
       "\t<tr><th scope=row>Milk</th><td>3</td><td>1</td></tr>\n",
       "\t<tr><th scope=row>Tea</th><td>1</td><td>3</td></tr>\n",
       "</tbody>\n",
       "</table>\n"
      ],
      "text/latex": [
       "A matrix: 2 × 2 of type dbl\n",
       "\\begin{tabular}{r|ll}\n",
       "  & Milk & Tea\\\\\n",
       "\\hline\n",
       "\tMilk & 3 & 1\\\\\n",
       "\tTea & 1 & 3\\\\\n",
       "\\end{tabular}\n"
      ],
      "text/markdown": [
       "\n",
       "A matrix: 2 × 2 of type dbl\n",
       "\n",
       "| <!--/--> | Milk | Tea |\n",
       "|---|---|---|\n",
       "| Milk | 3 | 1 |\n",
       "| Tea | 1 | 3 |\n",
       "\n"
      ],
      "text/plain": [
       "      Truth\n",
       "Guess  Milk Tea\n",
       "  Milk 3    1  \n",
       "  Tea  1    3  "
      ]
     },
     "metadata": {},
     "output_type": "display_data"
    }
   ],
   "source": [
    "TeaTasting"
   ]
  },
  {
   "cell_type": "code",
   "execution_count": 46,
   "metadata": {},
   "outputs": [
    {
     "data": {
      "text/plain": [
       "\n",
       "\tFisher's Exact Test for Count Data\n",
       "\n",
       "data:  TeaTasting\n",
       "p-value = 0.2429\n",
       "alternative hypothesis: true odds ratio is greater than 1\n",
       "95 percent confidence interval:\n",
       " 0.3135693       Inf\n",
       "sample estimates:\n",
       "odds ratio \n",
       "  6.408309 \n"
      ]
     },
     "metadata": {},
     "output_type": "display_data"
    }
   ],
   "source": [
    "fisher.test(TeaTasting, alternative = \"greater\")"
   ]
  },
  {
   "cell_type": "code",
   "execution_count": null,
   "metadata": {},
   "outputs": [],
   "source": []
  }
 ],
 "metadata": {
  "kernelspec": {
   "display_name": "R",
   "language": "R",
   "name": "ir"
  },
  "language_info": {
   "codemirror_mode": "r",
   "file_extension": ".r",
   "mimetype": "text/x-r-source",
   "name": "R",
   "pygments_lexer": "r",
   "version": "3.6.1"
  }
 },
 "nbformat": 4,
 "nbformat_minor": 2
}

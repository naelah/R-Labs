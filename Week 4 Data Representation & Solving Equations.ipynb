{
 "cells": [
  {
   "cell_type": "code",
   "execution_count": 1,
   "metadata": {},
   "outputs": [
    {
     "data": {
      "text/html": [
       "<ol class=list-inline>\n",
       "\t<li>-4</li>\n",
       "\t<li>-3</li>\n",
       "\t<li>-2</li>\n",
       "\t<li>-1</li>\n",
       "\t<li>0</li>\n",
       "\t<li>1</li>\n",
       "\t<li>2</li>\n",
       "\t<li>3</li>\n",
       "\t<li>4</li>\n",
       "\t<li>5</li>\n",
       "\t<li>6</li>\n",
       "\t<li>7</li>\n",
       "\t<li>8</li>\n",
       "\t<li>9</li>\n",
       "\t<li>10</li>\n",
       "\t<li>11</li>\n",
       "\t<li>12</li>\n",
       "\t<li>13</li>\n",
       "\t<li>14</li>\n",
       "\t<li>15</li>\n",
       "\t<li>16</li>\n",
       "\t<li>17</li>\n",
       "\t<li>18</li>\n",
       "\t<li>19</li>\n",
       "</ol>\n"
      ],
      "text/latex": [
       "\\begin{enumerate*}\n",
       "\\item -4\n",
       "\\item -3\n",
       "\\item -2\n",
       "\\item -1\n",
       "\\item 0\n",
       "\\item 1\n",
       "\\item 2\n",
       "\\item 3\n",
       "\\item 4\n",
       "\\item 5\n",
       "\\item 6\n",
       "\\item 7\n",
       "\\item 8\n",
       "\\item 9\n",
       "\\item 10\n",
       "\\item 11\n",
       "\\item 12\n",
       "\\item 13\n",
       "\\item 14\n",
       "\\item 15\n",
       "\\item 16\n",
       "\\item 17\n",
       "\\item 18\n",
       "\\item 19\n",
       "\\end{enumerate*}\n"
      ],
      "text/markdown": [
       "1. -4\n",
       "2. -3\n",
       "3. -2\n",
       "4. -1\n",
       "5. 0\n",
       "6. 1\n",
       "7. 2\n",
       "8. 3\n",
       "9. 4\n",
       "10. 5\n",
       "11. 6\n",
       "12. 7\n",
       "13. 8\n",
       "14. 9\n",
       "15. 10\n",
       "16. 11\n",
       "17. 12\n",
       "18. 13\n",
       "19. 14\n",
       "20. 15\n",
       "21. 16\n",
       "22. 17\n",
       "23. 18\n",
       "24. 19\n",
       "\n",
       "\n"
      ],
      "text/plain": [
       ", , 1\n",
       "\n",
       "     [,1] [,2] [,3]\n",
       "[1,]   -4    0    4\n",
       "[2,]   -3    1    5\n",
       "[3,]   -2    2    6\n",
       "[4,]   -1    3    7\n",
       "\n",
       ", , 2\n",
       "\n",
       "     [,1] [,2] [,3]\n",
       "[1,]    8   12   16\n",
       "[2,]    9   13   17\n",
       "[3,]   10   14   18\n",
       "[4,]   11   15   19\n"
      ]
     },
     "metadata": {},
     "output_type": "display_data"
    }
   ],
   "source": [
    "A <- array(1:24, dim = 4:2)\n",
    "sweep(A, 1, 5)"
   ]
  },
  {
   "cell_type": "code",
   "execution_count": 2,
   "metadata": {
    "scrolled": true
   },
   "outputs": [
    {
     "data": {
      "text/html": [
       "<ol class=list-inline>\n",
       "\t<li>1</li>\n",
       "\t<li>2</li>\n",
       "\t<li>3</li>\n",
       "\t<li>4</li>\n",
       "\t<li>5</li>\n",
       "\t<li>6</li>\n",
       "\t<li>7</li>\n",
       "\t<li>8</li>\n",
       "\t<li>9</li>\n",
       "\t<li>10</li>\n",
       "\t<li>11</li>\n",
       "\t<li>12</li>\n",
       "\t<li>13</li>\n",
       "\t<li>14</li>\n",
       "\t<li>15</li>\n",
       "\t<li>16</li>\n",
       "\t<li>17</li>\n",
       "\t<li>18</li>\n",
       "\t<li>19</li>\n",
       "\t<li>20</li>\n",
       "\t<li>21</li>\n",
       "\t<li>22</li>\n",
       "\t<li>23</li>\n",
       "\t<li>24</li>\n",
       "</ol>\n"
      ],
      "text/latex": [
       "\\begin{enumerate*}\n",
       "\\item 1\n",
       "\\item 2\n",
       "\\item 3\n",
       "\\item 4\n",
       "\\item 5\n",
       "\\item 6\n",
       "\\item 7\n",
       "\\item 8\n",
       "\\item 9\n",
       "\\item 10\n",
       "\\item 11\n",
       "\\item 12\n",
       "\\item 13\n",
       "\\item 14\n",
       "\\item 15\n",
       "\\item 16\n",
       "\\item 17\n",
       "\\item 18\n",
       "\\item 19\n",
       "\\item 20\n",
       "\\item 21\n",
       "\\item 22\n",
       "\\item 23\n",
       "\\item 24\n",
       "\\end{enumerate*}\n"
      ],
      "text/markdown": [
       "1. 1\n",
       "2. 2\n",
       "3. 3\n",
       "4. 4\n",
       "5. 5\n",
       "6. 6\n",
       "7. 7\n",
       "8. 8\n",
       "9. 9\n",
       "10. 10\n",
       "11. 11\n",
       "12. 12\n",
       "13. 13\n",
       "14. 14\n",
       "15. 15\n",
       "16. 16\n",
       "17. 17\n",
       "18. 18\n",
       "19. 19\n",
       "20. 20\n",
       "21. 21\n",
       "22. 22\n",
       "23. 23\n",
       "24. 24\n",
       "\n",
       "\n"
      ],
      "text/plain": [
       ", , 1\n",
       "\n",
       "     [,1] [,2] [,3]\n",
       "[1,]    1    5    9\n",
       "[2,]    2    6   10\n",
       "[3,]    3    7   11\n",
       "[4,]    4    8   12\n",
       "\n",
       ", , 2\n",
       "\n",
       "     [,1] [,2] [,3]\n",
       "[1,]   13   17   21\n",
       "[2,]   14   18   22\n",
       "[3,]   15   19   23\n",
       "[4,]   16   20   24\n"
      ]
     },
     "metadata": {},
     "output_type": "display_data"
    }
   ],
   "source": [
    "A"
   ]
  },
  {
   "cell_type": "code",
   "execution_count": 3,
   "metadata": {},
   "outputs": [
    {
     "data": {
      "text/html": [
       "<ol class=list-inline>\n",
       "\t<li>-3</li>\n",
       "\t<li>-2</li>\n",
       "\t<li>-1</li>\n",
       "\t<li>0</li>\n",
       "\t<li>1</li>\n",
       "\t<li>2</li>\n",
       "\t<li>3</li>\n",
       "\t<li>4</li>\n",
       "\t<li>5</li>\n",
       "\t<li>6</li>\n",
       "\t<li>7</li>\n",
       "\t<li>8</li>\n",
       "\t<li>9</li>\n",
       "\t<li>10</li>\n",
       "\t<li>11</li>\n",
       "\t<li>12</li>\n",
       "\t<li>13</li>\n",
       "\t<li>14</li>\n",
       "\t<li>15</li>\n",
       "\t<li>16</li>\n",
       "\t<li>17</li>\n",
       "\t<li>18</li>\n",
       "\t<li>19</li>\n",
       "\t<li>20</li>\n",
       "</ol>\n"
      ],
      "text/latex": [
       "\\begin{enumerate*}\n",
       "\\item -3\n",
       "\\item -2\n",
       "\\item -1\n",
       "\\item 0\n",
       "\\item 1\n",
       "\\item 2\n",
       "\\item 3\n",
       "\\item 4\n",
       "\\item 5\n",
       "\\item 6\n",
       "\\item 7\n",
       "\\item 8\n",
       "\\item 9\n",
       "\\item 10\n",
       "\\item 11\n",
       "\\item 12\n",
       "\\item 13\n",
       "\\item 14\n",
       "\\item 15\n",
       "\\item 16\n",
       "\\item 17\n",
       "\\item 18\n",
       "\\item 19\n",
       "\\item 20\n",
       "\\end{enumerate*}\n"
      ],
      "text/markdown": [
       "1. -3\n",
       "2. -2\n",
       "3. -1\n",
       "4. 0\n",
       "5. 1\n",
       "6. 2\n",
       "7. 3\n",
       "8. 4\n",
       "9. 5\n",
       "10. 6\n",
       "11. 7\n",
       "12. 8\n",
       "13. 9\n",
       "14. 10\n",
       "15. 11\n",
       "16. 12\n",
       "17. 13\n",
       "18. 14\n",
       "19. 15\n",
       "20. 16\n",
       "21. 17\n",
       "22. 18\n",
       "23. 19\n",
       "24. 20\n",
       "\n",
       "\n"
      ],
      "text/plain": [
       ", , 1\n",
       "\n",
       "     [,1] [,2] [,3]\n",
       "[1,]   -3    1    5\n",
       "[2,]   -2    2    6\n",
       "[3,]   -1    3    7\n",
       "[4,]    0    4    8\n",
       "\n",
       ", , 2\n",
       "\n",
       "     [,1] [,2] [,3]\n",
       "[1,]    9   13   17\n",
       "[2,]   10   14   18\n",
       "[3,]   11   15   19\n",
       "[4,]   12   16   20\n"
      ]
     },
     "metadata": {},
     "output_type": "display_data"
    }
   ],
   "source": [
    "sweep(A, 2, 4)"
   ]
  },
  {
   "cell_type": "code",
   "execution_count": 4,
   "metadata": {},
   "outputs": [
    {
     "data": {
      "text/html": [
       "<ol class=list-inline>\n",
       "\t<li>5</li>\n",
       "\t<li>6</li>\n",
       "\t<li>7</li>\n",
       "\t<li>8</li>\n",
       "\t<li>9</li>\n",
       "\t<li>10</li>\n",
       "\t<li>11</li>\n",
       "\t<li>12</li>\n",
       "\t<li>13</li>\n",
       "\t<li>14</li>\n",
       "\t<li>15</li>\n",
       "\t<li>16</li>\n",
       "\t<li>17</li>\n",
       "\t<li>18</li>\n",
       "\t<li>19</li>\n",
       "\t<li>20</li>\n",
       "\t<li>21</li>\n",
       "\t<li>22</li>\n",
       "\t<li>23</li>\n",
       "\t<li>24</li>\n",
       "\t<li>25</li>\n",
       "\t<li>26</li>\n",
       "\t<li>27</li>\n",
       "\t<li>28</li>\n",
       "</ol>\n"
      ],
      "text/latex": [
       "\\begin{enumerate*}\n",
       "\\item 5\n",
       "\\item 6\n",
       "\\item 7\n",
       "\\item 8\n",
       "\\item 9\n",
       "\\item 10\n",
       "\\item 11\n",
       "\\item 12\n",
       "\\item 13\n",
       "\\item 14\n",
       "\\item 15\n",
       "\\item 16\n",
       "\\item 17\n",
       "\\item 18\n",
       "\\item 19\n",
       "\\item 20\n",
       "\\item 21\n",
       "\\item 22\n",
       "\\item 23\n",
       "\\item 24\n",
       "\\item 25\n",
       "\\item 26\n",
       "\\item 27\n",
       "\\item 28\n",
       "\\end{enumerate*}\n"
      ],
      "text/markdown": [
       "1. 5\n",
       "2. 6\n",
       "3. 7\n",
       "4. 8\n",
       "5. 9\n",
       "6. 10\n",
       "7. 11\n",
       "8. 12\n",
       "9. 13\n",
       "10. 14\n",
       "11. 15\n",
       "12. 16\n",
       "13. 17\n",
       "14. 18\n",
       "15. 19\n",
       "16. 20\n",
       "17. 21\n",
       "18. 22\n",
       "19. 23\n",
       "20. 24\n",
       "21. 25\n",
       "22. 26\n",
       "23. 27\n",
       "24. 28\n",
       "\n",
       "\n"
      ],
      "text/plain": [
       ", , 1\n",
       "\n",
       "     [,1] [,2] [,3]\n",
       "[1,]    5    9   13\n",
       "[2,]    6   10   14\n",
       "[3,]    7   11   15\n",
       "[4,]    8   12   16\n",
       "\n",
       ", , 2\n",
       "\n",
       "     [,1] [,2] [,3]\n",
       "[1,]   17   21   25\n",
       "[2,]   18   22   26\n",
       "[3,]   19   23   27\n",
       "[4,]   20   24   28\n"
      ]
     },
     "metadata": {},
     "output_type": "display_data"
    }
   ],
   "source": [
    "sweep(A, 2, 4,\"+\")"
   ]
  },
  {
   "cell_type": "code",
   "execution_count": 5,
   "metadata": {},
   "outputs": [
    {
     "data": {
      "text/html": [
       "<ol class=list-inline>\n",
       "\t<li>1</li>\n",
       "\t<li>2</li>\n",
       "\t<li>3</li>\n",
       "\t<li>4</li>\n",
       "</ol>\n"
      ],
      "text/latex": [
       "\\begin{enumerate*}\n",
       "\\item 1\n",
       "\\item 2\n",
       "\\item 3\n",
       "\\item 4\n",
       "\\end{enumerate*}\n"
      ],
      "text/markdown": [
       "1. 1\n",
       "2. 2\n",
       "3. 3\n",
       "4. 4\n",
       "\n",
       "\n"
      ],
      "text/plain": [
       "[1] 1 2 3 4"
      ]
     },
     "metadata": {},
     "output_type": "display_data"
    }
   ],
   "source": [
    "(A.min <- apply(A, 1, min))  # == 1:4"
   ]
  },
  {
   "cell_type": "code",
   "execution_count": 6,
   "metadata": {},
   "outputs": [
    {
     "data": {
      "text/html": [
       "<ol class=list-inline>\n",
       "\t<li>0</li>\n",
       "\t<li>0</li>\n",
       "\t<li>0</li>\n",
       "\t<li>0</li>\n",
       "\t<li>4</li>\n",
       "\t<li>4</li>\n",
       "\t<li>4</li>\n",
       "\t<li>4</li>\n",
       "\t<li>8</li>\n",
       "\t<li>8</li>\n",
       "\t<li>8</li>\n",
       "\t<li>8</li>\n",
       "\t<li>12</li>\n",
       "\t<li>12</li>\n",
       "\t<li>12</li>\n",
       "\t<li>12</li>\n",
       "\t<li>16</li>\n",
       "\t<li>16</li>\n",
       "\t<li>16</li>\n",
       "\t<li>16</li>\n",
       "\t<li>20</li>\n",
       "\t<li>20</li>\n",
       "\t<li>20</li>\n",
       "\t<li>20</li>\n",
       "</ol>\n"
      ],
      "text/latex": [
       "\\begin{enumerate*}\n",
       "\\item 0\n",
       "\\item 0\n",
       "\\item 0\n",
       "\\item 0\n",
       "\\item 4\n",
       "\\item 4\n",
       "\\item 4\n",
       "\\item 4\n",
       "\\item 8\n",
       "\\item 8\n",
       "\\item 8\n",
       "\\item 8\n",
       "\\item 12\n",
       "\\item 12\n",
       "\\item 12\n",
       "\\item 12\n",
       "\\item 16\n",
       "\\item 16\n",
       "\\item 16\n",
       "\\item 16\n",
       "\\item 20\n",
       "\\item 20\n",
       "\\item 20\n",
       "\\item 20\n",
       "\\end{enumerate*}\n"
      ],
      "text/markdown": [
       "1. 0\n",
       "2. 0\n",
       "3. 0\n",
       "4. 0\n",
       "5. 4\n",
       "6. 4\n",
       "7. 4\n",
       "8. 4\n",
       "9. 8\n",
       "10. 8\n",
       "11. 8\n",
       "12. 8\n",
       "13. 12\n",
       "14. 12\n",
       "15. 12\n",
       "16. 12\n",
       "17. 16\n",
       "18. 16\n",
       "19. 16\n",
       "20. 16\n",
       "21. 20\n",
       "22. 20\n",
       "23. 20\n",
       "24. 20\n",
       "\n",
       "\n"
      ],
      "text/plain": [
       ", , 1\n",
       "\n",
       "     [,1] [,2] [,3]\n",
       "[1,]    0    4    8\n",
       "[2,]    0    4    8\n",
       "[3,]    0    4    8\n",
       "[4,]    0    4    8\n",
       "\n",
       ", , 2\n",
       "\n",
       "     [,1] [,2] [,3]\n",
       "[1,]   12   16   20\n",
       "[2,]   12   16   20\n",
       "[3,]   12   16   20\n",
       "[4,]   12   16   20\n"
      ]
     },
     "metadata": {},
     "output_type": "display_data"
    }
   ],
   "source": [
    "sweep(A, 1, A.min)"
   ]
  },
  {
   "cell_type": "code",
   "execution_count": 7,
   "metadata": {},
   "outputs": [
    {
     "data": {
      "text/html": [
       "<ol class=list-inline>\n",
       "\t<li>-6</li>\n",
       "\t<li>-6</li>\n",
       "\t<li>-6</li>\n",
       "\t<li>-6</li>\n",
       "\t<li>-6</li>\n",
       "\t<li>-6</li>\n",
       "\t<li>-6</li>\n",
       "\t<li>-6</li>\n",
       "\t<li>-6</li>\n",
       "\t<li>-6</li>\n",
       "\t<li>-6</li>\n",
       "\t<li>-6</li>\n",
       "\t<li>6</li>\n",
       "\t<li>6</li>\n",
       "\t<li>6</li>\n",
       "\t<li>6</li>\n",
       "\t<li>6</li>\n",
       "\t<li>6</li>\n",
       "\t<li>6</li>\n",
       "\t<li>6</li>\n",
       "\t<li>6</li>\n",
       "\t<li>6</li>\n",
       "\t<li>6</li>\n",
       "\t<li>6</li>\n",
       "</ol>\n"
      ],
      "text/latex": [
       "\\begin{enumerate*}\n",
       "\\item -6\n",
       "\\item -6\n",
       "\\item -6\n",
       "\\item -6\n",
       "\\item -6\n",
       "\\item -6\n",
       "\\item -6\n",
       "\\item -6\n",
       "\\item -6\n",
       "\\item -6\n",
       "\\item -6\n",
       "\\item -6\n",
       "\\item 6\n",
       "\\item 6\n",
       "\\item 6\n",
       "\\item 6\n",
       "\\item 6\n",
       "\\item 6\n",
       "\\item 6\n",
       "\\item 6\n",
       "\\item 6\n",
       "\\item 6\n",
       "\\item 6\n",
       "\\item 6\n",
       "\\end{enumerate*}\n"
      ],
      "text/markdown": [
       "1. -6\n",
       "2. -6\n",
       "3. -6\n",
       "4. -6\n",
       "5. -6\n",
       "6. -6\n",
       "7. -6\n",
       "8. -6\n",
       "9. -6\n",
       "10. -6\n",
       "11. -6\n",
       "12. -6\n",
       "13. 6\n",
       "14. 6\n",
       "15. 6\n",
       "16. 6\n",
       "17. 6\n",
       "18. 6\n",
       "19. 6\n",
       "20. 6\n",
       "21. 6\n",
       "22. 6\n",
       "23. 6\n",
       "24. 6\n",
       "\n",
       "\n"
      ],
      "text/plain": [
       ", , 1\n",
       "\n",
       "     [,1] [,2] [,3]\n",
       "[1,]   -6   -6   -6\n",
       "[2,]   -6   -6   -6\n",
       "[3,]   -6   -6   -6\n",
       "[4,]   -6   -6   -6\n",
       "\n",
       ", , 2\n",
       "\n",
       "     [,1] [,2] [,3]\n",
       "[1,]    6    6    6\n",
       "[2,]    6    6    6\n",
       "[3,]    6    6    6\n",
       "[4,]    6    6    6\n"
      ]
     },
     "metadata": {},
     "output_type": "display_data"
    }
   ],
   "source": [
    "sweep(A, 1:2, apply(A, 1:2, median))"
   ]
  },
  {
   "cell_type": "code",
   "execution_count": 8,
   "metadata": {},
   "outputs": [
    {
     "data": {
      "text/html": [
       "<table>\n",
       "<caption>A matrix: 4 × 3 of type dbl</caption>\n",
       "<tbody>\n",
       "\t<tr><td> 7</td><td>11</td><td>15</td></tr>\n",
       "\t<tr><td> 8</td><td>12</td><td>16</td></tr>\n",
       "\t<tr><td> 9</td><td>13</td><td>17</td></tr>\n",
       "\t<tr><td>10</td><td>14</td><td>18</td></tr>\n",
       "</tbody>\n",
       "</table>\n"
      ],
      "text/latex": [
       "A matrix: 4 × 3 of type dbl\n",
       "\\begin{tabular}{lll}\n",
       "\t  7 & 11 & 15\\\\\n",
       "\t  8 & 12 & 16\\\\\n",
       "\t  9 & 13 & 17\\\\\n",
       "\t 10 & 14 & 18\\\\\n",
       "\\end{tabular}\n"
      ],
      "text/markdown": [
       "\n",
       "A matrix: 4 × 3 of type dbl\n",
       "\n",
       "|  7 | 11 | 15 |\n",
       "|  8 | 12 | 16 |\n",
       "|  9 | 13 | 17 |\n",
       "| 10 | 14 | 18 |\n",
       "\n"
      ],
      "text/plain": [
       "     [,1] [,2] [,3]\n",
       "[1,]  7   11   15  \n",
       "[2,]  8   12   16  \n",
       "[3,]  9   13   17  \n",
       "[4,] 10   14   18  "
      ]
     },
     "metadata": {},
     "output_type": "display_data"
    }
   ],
   "source": [
    "apply(A, 1:2, median)"
   ]
  },
  {
   "cell_type": "code",
   "execution_count": 9,
   "metadata": {},
   "outputs": [
    {
     "data": {
      "text/html": [
       "<ol class=list-inline>\n",
       "\t<li>1</li>\n",
       "\t<li>2</li>\n",
       "\t<li>3</li>\n",
       "\t<li>4</li>\n",
       "\t<li>5</li>\n",
       "\t<li>6</li>\n",
       "\t<li>7</li>\n",
       "\t<li>8</li>\n",
       "\t<li>9</li>\n",
       "\t<li>10</li>\n",
       "\t<li>11</li>\n",
       "\t<li>12</li>\n",
       "\t<li>13</li>\n",
       "\t<li>14</li>\n",
       "\t<li>15</li>\n",
       "\t<li>16</li>\n",
       "\t<li>17</li>\n",
       "\t<li>18</li>\n",
       "\t<li>19</li>\n",
       "\t<li>20</li>\n",
       "\t<li>21</li>\n",
       "\t<li>22</li>\n",
       "\t<li>23</li>\n",
       "\t<li>24</li>\n",
       "</ol>\n"
      ],
      "text/latex": [
       "\\begin{enumerate*}\n",
       "\\item 1\n",
       "\\item 2\n",
       "\\item 3\n",
       "\\item 4\n",
       "\\item 5\n",
       "\\item 6\n",
       "\\item 7\n",
       "\\item 8\n",
       "\\item 9\n",
       "\\item 10\n",
       "\\item 11\n",
       "\\item 12\n",
       "\\item 13\n",
       "\\item 14\n",
       "\\item 15\n",
       "\\item 16\n",
       "\\item 17\n",
       "\\item 18\n",
       "\\item 19\n",
       "\\item 20\n",
       "\\item 21\n",
       "\\item 22\n",
       "\\item 23\n",
       "\\item 24\n",
       "\\end{enumerate*}\n"
      ],
      "text/markdown": [
       "1. 1\n",
       "2. 2\n",
       "3. 3\n",
       "4. 4\n",
       "5. 5\n",
       "6. 6\n",
       "7. 7\n",
       "8. 8\n",
       "9. 9\n",
       "10. 10\n",
       "11. 11\n",
       "12. 12\n",
       "13. 13\n",
       "14. 14\n",
       "15. 15\n",
       "16. 16\n",
       "17. 17\n",
       "18. 18\n",
       "19. 19\n",
       "20. 20\n",
       "21. 21\n",
       "22. 22\n",
       "23. 23\n",
       "24. 24\n",
       "\n",
       "\n"
      ],
      "text/plain": [
       ", , 1\n",
       "\n",
       "     [,1] [,2] [,3]\n",
       "[1,]    1    5    9\n",
       "[2,]    2    6   10\n",
       "[3,]    3    7   11\n",
       "[4,]    4    8   12\n",
       "\n",
       ", , 2\n",
       "\n",
       "     [,1] [,2] [,3]\n",
       "[1,]   13   17   21\n",
       "[2,]   14   18   22\n",
       "[3,]   15   19   23\n",
       "[4,]   16   20   24\n"
      ]
     },
     "metadata": {},
     "output_type": "display_data"
    }
   ],
   "source": [
    "A"
   ]
  },
  {
   "cell_type": "code",
   "execution_count": 10,
   "metadata": {},
   "outputs": [
    {
     "data": {
      "text/html": [
       "<ol class=list-inline>\n",
       "\t<li>11</li>\n",
       "\t<li>12</li>\n",
       "\t<li>13</li>\n",
       "\t<li>14</li>\n",
       "</ol>\n"
      ],
      "text/latex": [
       "\\begin{enumerate*}\n",
       "\\item 11\n",
       "\\item 12\n",
       "\\item 13\n",
       "\\item 14\n",
       "\\end{enumerate*}\n"
      ],
      "text/markdown": [
       "1. 11\n",
       "2. 12\n",
       "3. 13\n",
       "4. 14\n",
       "\n",
       "\n"
      ],
      "text/plain": [
       "[1] 11 12 13 14"
      ]
     },
     "metadata": {},
     "output_type": "display_data"
    }
   ],
   "source": [
    "apply(A, 1, median)"
   ]
  },
  {
   "cell_type": "code",
   "execution_count": 11,
   "metadata": {},
   "outputs": [
    {
     "data": {
      "text/html": [
       "<table>\n",
       "<caption>A matrix: 4 × 3 of type dbl</caption>\n",
       "<tbody>\n",
       "\t<tr><td> 7</td><td>11</td><td>15</td></tr>\n",
       "\t<tr><td> 8</td><td>12</td><td>16</td></tr>\n",
       "\t<tr><td> 9</td><td>13</td><td>17</td></tr>\n",
       "\t<tr><td>10</td><td>14</td><td>18</td></tr>\n",
       "</tbody>\n",
       "</table>\n"
      ],
      "text/latex": [
       "A matrix: 4 × 3 of type dbl\n",
       "\\begin{tabular}{lll}\n",
       "\t  7 & 11 & 15\\\\\n",
       "\t  8 & 12 & 16\\\\\n",
       "\t  9 & 13 & 17\\\\\n",
       "\t 10 & 14 & 18\\\\\n",
       "\\end{tabular}\n"
      ],
      "text/markdown": [
       "\n",
       "A matrix: 4 × 3 of type dbl\n",
       "\n",
       "|  7 | 11 | 15 |\n",
       "|  8 | 12 | 16 |\n",
       "|  9 | 13 | 17 |\n",
       "| 10 | 14 | 18 |\n",
       "\n"
      ],
      "text/plain": [
       "     [,1] [,2] [,3]\n",
       "[1,]  7   11   15  \n",
       "[2,]  8   12   16  \n",
       "[3,]  9   13   17  \n",
       "[4,] 10   14   18  "
      ]
     },
     "metadata": {},
     "output_type": "display_data"
    }
   ],
   "source": [
    "apply(A, 1:2, median)"
   ]
  },
  {
   "cell_type": "code",
   "execution_count": 12,
   "metadata": {},
   "outputs": [
    {
     "data": {
      "text/html": [
       "<ol class=list-inline>\n",
       "\t<li>-6</li>\n",
       "\t<li>-6</li>\n",
       "\t<li>-6</li>\n",
       "\t<li>-6</li>\n",
       "\t<li>-6</li>\n",
       "\t<li>-6</li>\n",
       "\t<li>-6</li>\n",
       "\t<li>-6</li>\n",
       "\t<li>-6</li>\n",
       "\t<li>-6</li>\n",
       "\t<li>-6</li>\n",
       "\t<li>-6</li>\n",
       "\t<li>6</li>\n",
       "\t<li>6</li>\n",
       "\t<li>6</li>\n",
       "\t<li>6</li>\n",
       "\t<li>6</li>\n",
       "\t<li>6</li>\n",
       "\t<li>6</li>\n",
       "\t<li>6</li>\n",
       "\t<li>6</li>\n",
       "\t<li>6</li>\n",
       "\t<li>6</li>\n",
       "\t<li>6</li>\n",
       "</ol>\n"
      ],
      "text/latex": [
       "\\begin{enumerate*}\n",
       "\\item -6\n",
       "\\item -6\n",
       "\\item -6\n",
       "\\item -6\n",
       "\\item -6\n",
       "\\item -6\n",
       "\\item -6\n",
       "\\item -6\n",
       "\\item -6\n",
       "\\item -6\n",
       "\\item -6\n",
       "\\item -6\n",
       "\\item 6\n",
       "\\item 6\n",
       "\\item 6\n",
       "\\item 6\n",
       "\\item 6\n",
       "\\item 6\n",
       "\\item 6\n",
       "\\item 6\n",
       "\\item 6\n",
       "\\item 6\n",
       "\\item 6\n",
       "\\item 6\n",
       "\\end{enumerate*}\n"
      ],
      "text/markdown": [
       "1. -6\n",
       "2. -6\n",
       "3. -6\n",
       "4. -6\n",
       "5. -6\n",
       "6. -6\n",
       "7. -6\n",
       "8. -6\n",
       "9. -6\n",
       "10. -6\n",
       "11. -6\n",
       "12. -6\n",
       "13. 6\n",
       "14. 6\n",
       "15. 6\n",
       "16. 6\n",
       "17. 6\n",
       "18. 6\n",
       "19. 6\n",
       "20. 6\n",
       "21. 6\n",
       "22. 6\n",
       "23. 6\n",
       "24. 6\n",
       "\n",
       "\n"
      ],
      "text/plain": [
       ", , 1\n",
       "\n",
       "     [,1] [,2] [,3]\n",
       "[1,]   -6   -6   -6\n",
       "[2,]   -6   -6   -6\n",
       "[3,]   -6   -6   -6\n",
       "[4,]   -6   -6   -6\n",
       "\n",
       ", , 2\n",
       "\n",
       "     [,1] [,2] [,3]\n",
       "[1,]    6    6    6\n",
       "[2,]    6    6    6\n",
       "[3,]    6    6    6\n",
       "[4,]    6    6    6\n"
      ]
     },
     "metadata": {},
     "output_type": "display_data"
    }
   ],
   "source": [
    "sweep(A, 1:2, apply(A, 1:2, median))"
   ]
  },
  {
   "cell_type": "code",
   "execution_count": 13,
   "metadata": {},
   "outputs": [
    {
     "data": {
      "text/html": [
       "<ol class=list-inline>\n",
       "\t<li>11</li>\n",
       "\t<li>12</li>\n",
       "\t<li>13</li>\n",
       "\t<li>14</li>\n",
       "</ol>\n"
      ],
      "text/latex": [
       "\\begin{enumerate*}\n",
       "\\item 11\n",
       "\\item 12\n",
       "\\item 13\n",
       "\\item 14\n",
       "\\end{enumerate*}\n"
      ],
      "text/markdown": [
       "1. 11\n",
       "2. 12\n",
       "3. 13\n",
       "4. 14\n",
       "\n",
       "\n"
      ],
      "text/plain": [
       "[1] 11 12 13 14"
      ]
     },
     "metadata": {},
     "output_type": "display_data"
    }
   ],
   "source": [
    "apply(A, 1, median)"
   ]
  },
  {
   "cell_type": "code",
   "execution_count": 14,
   "metadata": {},
   "outputs": [
    {
     "data": {
      "text/html": [
       "<ol class=list-inline>\n",
       "\t<li>8.5</li>\n",
       "\t<li>12.5</li>\n",
       "\t<li>16.5</li>\n",
       "</ol>\n"
      ],
      "text/latex": [
       "\\begin{enumerate*}\n",
       "\\item 8.5\n",
       "\\item 12.5\n",
       "\\item 16.5\n",
       "\\end{enumerate*}\n"
      ],
      "text/markdown": [
       "1. 8.5\n",
       "2. 12.5\n",
       "3. 16.5\n",
       "\n",
       "\n"
      ],
      "text/plain": [
       "[1]  8.5 12.5 16.5"
      ]
     },
     "metadata": {},
     "output_type": "display_data"
    }
   ],
   "source": [
    "apply(A, 2, median)"
   ]
  },
  {
   "cell_type": "code",
   "execution_count": 15,
   "metadata": {},
   "outputs": [
    {
     "data": {
      "text/html": [
       "<table>\n",
       "<caption>A matrix: 4 × 3 of type dbl</caption>\n",
       "<tbody>\n",
       "\t<tr><td> 7</td><td>11</td><td>15</td></tr>\n",
       "\t<tr><td> 8</td><td>12</td><td>16</td></tr>\n",
       "\t<tr><td> 9</td><td>13</td><td>17</td></tr>\n",
       "\t<tr><td>10</td><td>14</td><td>18</td></tr>\n",
       "</tbody>\n",
       "</table>\n"
      ],
      "text/latex": [
       "A matrix: 4 × 3 of type dbl\n",
       "\\begin{tabular}{lll}\n",
       "\t  7 & 11 & 15\\\\\n",
       "\t  8 & 12 & 16\\\\\n",
       "\t  9 & 13 & 17\\\\\n",
       "\t 10 & 14 & 18\\\\\n",
       "\\end{tabular}\n"
      ],
      "text/markdown": [
       "\n",
       "A matrix: 4 × 3 of type dbl\n",
       "\n",
       "|  7 | 11 | 15 |\n",
       "|  8 | 12 | 16 |\n",
       "|  9 | 13 | 17 |\n",
       "| 10 | 14 | 18 |\n",
       "\n"
      ],
      "text/plain": [
       "     [,1] [,2] [,3]\n",
       "[1,]  7   11   15  \n",
       "[2,]  8   12   16  \n",
       "[3,]  9   13   17  \n",
       "[4,] 10   14   18  "
      ]
     },
     "metadata": {},
     "output_type": "display_data"
    }
   ],
   "source": [
    "apply(A, 1:2, median)"
   ]
  },
  {
   "cell_type": "code",
   "execution_count": 18,
   "metadata": {},
   "outputs": [
    {
     "data": {
      "text/html": [
       "8.5"
      ],
      "text/latex": [
       "8.5"
      ],
      "text/markdown": [
       "8.5"
      ],
      "text/plain": [
       "[1] 8.5"
      ]
     },
     "metadata": {},
     "output_type": "display_data"
    }
   ],
   "source": [
    "median(c(1:4,13:16))"
   ]
  },
  {
   "cell_type": "code",
   "execution_count": 19,
   "metadata": {},
   "outputs": [],
   "source": [
    "library(data.table)"
   ]
  },
  {
   "cell_type": "code",
   "execution_count": 20,
   "metadata": {},
   "outputs": [
    {
     "data": {
      "text/html": [
       "<table>\n",
       "<caption>A data.frame: 5 × 2</caption>\n",
       "<thead>\n",
       "\t<tr><th scope=col>x</th><th scope=col>v</th></tr>\n",
       "\t<tr><th scope=col>&lt;fct&gt;</th><th scope=col>&lt;dbl&gt;</th></tr>\n",
       "</thead>\n",
       "<tbody>\n",
       "\t<tr><td>b</td><td>-0.6183268</td></tr>\n",
       "\t<tr><td>b</td><td>-1.9559370</td></tr>\n",
       "\t<tr><td>b</td><td> 0.4654787</td></tr>\n",
       "\t<tr><td>a</td><td> 0.1919002</td></tr>\n",
       "\t<tr><td>a</td><td>-0.5275181</td></tr>\n",
       "</tbody>\n",
       "</table>\n"
      ],
      "text/latex": [
       "A data.frame: 5 × 2\n",
       "\\begin{tabular}{r|ll}\n",
       " x & v\\\\\n",
       " <fct> & <dbl>\\\\\n",
       "\\hline\n",
       "\t b & -0.6183268\\\\\n",
       "\t b & -1.9559370\\\\\n",
       "\t b &  0.4654787\\\\\n",
       "\t a &  0.1919002\\\\\n",
       "\t a & -0.5275181\\\\\n",
       "\\end{tabular}\n"
      ],
      "text/markdown": [
       "\n",
       "A data.frame: 5 × 2\n",
       "\n",
       "| x &lt;fct&gt; | v &lt;dbl&gt; |\n",
       "|---|---|\n",
       "| b | -0.6183268 |\n",
       "| b | -1.9559370 |\n",
       "| b |  0.4654787 |\n",
       "| a |  0.1919002 |\n",
       "| a | -0.5275181 |\n",
       "\n"
      ],
      "text/plain": [
       "  x v         \n",
       "1 b -0.6183268\n",
       "2 b -1.9559370\n",
       "3 b  0.4654787\n",
       "4 a  0.1919002\n",
       "5 a -0.5275181"
      ]
     },
     "metadata": {},
     "output_type": "display_data"
    }
   ],
   "source": [
    "DF = data.frame(x=c(\"b\",\"b\",\"b\",\"a\",\"a\"),v=rnorm(5))\n",
    "DF"
   ]
  },
  {
   "cell_type": "code",
   "execution_count": 21,
   "metadata": {},
   "outputs": [
    {
     "data": {
      "text/html": [
       "<table>\n",
       "<caption>A data.table: 5 × 2</caption>\n",
       "<thead>\n",
       "\t<tr><th scope=col>x</th><th scope=col>v</th></tr>\n",
       "\t<tr><th scope=col>&lt;chr&gt;</th><th scope=col>&lt;dbl&gt;</th></tr>\n",
       "</thead>\n",
       "<tbody>\n",
       "\t<tr><td>b</td><td> 0.02291866</td></tr>\n",
       "\t<tr><td>b</td><td> 1.34060016</td></tr>\n",
       "\t<tr><td>b</td><td> 0.62260114</td></tr>\n",
       "\t<tr><td>a</td><td>-0.40413861</td></tr>\n",
       "\t<tr><td>a</td><td> 0.52294255</td></tr>\n",
       "</tbody>\n",
       "</table>\n"
      ],
      "text/latex": [
       "A data.table: 5 × 2\n",
       "\\begin{tabular}{r|ll}\n",
       " x & v\\\\\n",
       " <chr> & <dbl>\\\\\n",
       "\\hline\n",
       "\t b &  0.02291866\\\\\n",
       "\t b &  1.34060016\\\\\n",
       "\t b &  0.62260114\\\\\n",
       "\t a & -0.40413861\\\\\n",
       "\t a &  0.52294255\\\\\n",
       "\\end{tabular}\n"
      ],
      "text/markdown": [
       "\n",
       "A data.table: 5 × 2\n",
       "\n",
       "| x &lt;chr&gt; | v &lt;dbl&gt; |\n",
       "|---|---|\n",
       "| b |  0.02291866 |\n",
       "| b |  1.34060016 |\n",
       "| b |  0.62260114 |\n",
       "| a | -0.40413861 |\n",
       "| a |  0.52294255 |\n",
       "\n"
      ],
      "text/plain": [
       "  x v          \n",
       "1 b  0.02291866\n",
       "2 b  1.34060016\n",
       "3 b  0.62260114\n",
       "4 a -0.40413861\n",
       "5 a  0.52294255"
      ]
     },
     "metadata": {},
     "output_type": "display_data"
    }
   ],
   "source": [
    "DT = data.table(x=c(\"b\",\"b\",\"b\",\"a\",\"a\"),v=rnorm(5))\n",
    "DT"
   ]
  },
  {
   "cell_type": "code",
   "execution_count": 22,
   "metadata": {},
   "outputs": [
    {
     "data": {
      "text/html": [
       "<table>\n",
       "<caption>A data.table: 1 × 2</caption>\n",
       "<thead>\n",
       "\t<tr><th scope=col>x</th><th scope=col>v</th></tr>\n",
       "\t<tr><th scope=col>&lt;chr&gt;</th><th scope=col>&lt;dbl&gt;</th></tr>\n",
       "</thead>\n",
       "<tbody>\n",
       "\t<tr><td>b</td><td>1.3406</td></tr>\n",
       "</tbody>\n",
       "</table>\n"
      ],
      "text/latex": [
       "A data.table: 1 × 2\n",
       "\\begin{tabular}{r|ll}\n",
       " x & v\\\\\n",
       " <chr> & <dbl>\\\\\n",
       "\\hline\n",
       "\t b & 1.3406\\\\\n",
       "\\end{tabular}\n"
      ],
      "text/markdown": [
       "\n",
       "A data.table: 1 × 2\n",
       "\n",
       "| x &lt;chr&gt; | v &lt;dbl&gt; |\n",
       "|---|---|\n",
       "| b | 1.3406 |\n",
       "\n"
      ],
      "text/plain": [
       "  x v     \n",
       "1 b 1.3406"
      ]
     },
     "metadata": {},
     "output_type": "display_data"
    }
   ],
   "source": [
    "DT[2,]"
   ]
  },
  {
   "cell_type": "code",
   "execution_count": 23,
   "metadata": {},
   "outputs": [
    {
     "data": {
      "text/html": [
       "<table>\n",
       "<caption>A data.table: 1 × 2</caption>\n",
       "<thead>\n",
       "\t<tr><th scope=col>x</th><th scope=col>v</th></tr>\n",
       "\t<tr><th scope=col>&lt;chr&gt;</th><th scope=col>&lt;dbl&gt;</th></tr>\n",
       "</thead>\n",
       "<tbody>\n",
       "\t<tr><td>b</td><td>0.6226011</td></tr>\n",
       "</tbody>\n",
       "</table>\n"
      ],
      "text/latex": [
       "A data.table: 1 × 2\n",
       "\\begin{tabular}{r|ll}\n",
       " x & v\\\\\n",
       " <chr> & <dbl>\\\\\n",
       "\\hline\n",
       "\t b & 0.6226011\\\\\n",
       "\\end{tabular}\n"
      ],
      "text/markdown": [
       "\n",
       "A data.table: 1 × 2\n",
       "\n",
       "| x &lt;chr&gt; | v &lt;dbl&gt; |\n",
       "|---|---|\n",
       "| b | 0.6226011 |\n",
       "\n"
      ],
      "text/plain": [
       "  x v        \n",
       "1 b 0.6226011"
      ]
     },
     "metadata": {},
     "output_type": "display_data"
    }
   ],
   "source": [
    "DT[3,]"
   ]
  },
  {
   "cell_type": "code",
   "execution_count": 24,
   "metadata": {},
   "outputs": [
    {
     "data": {
      "text/html": [
       "<table>\n",
       "<caption>A data.table: 3 × 2</caption>\n",
       "<thead>\n",
       "\t<tr><th scope=col>x</th><th scope=col>v</th></tr>\n",
       "\t<tr><th scope=col>&lt;chr&gt;</th><th scope=col>&lt;dbl&gt;</th></tr>\n",
       "</thead>\n",
       "<tbody>\n",
       "\t<tr><td>b</td><td>0.02291866</td></tr>\n",
       "\t<tr><td>b</td><td>1.34060016</td></tr>\n",
       "\t<tr><td>b</td><td>0.62260114</td></tr>\n",
       "</tbody>\n",
       "</table>\n"
      ],
      "text/latex": [
       "A data.table: 3 × 2\n",
       "\\begin{tabular}{r|ll}\n",
       " x & v\\\\\n",
       " <chr> & <dbl>\\\\\n",
       "\\hline\n",
       "\t b & 0.02291866\\\\\n",
       "\t b & 1.34060016\\\\\n",
       "\t b & 0.62260114\\\\\n",
       "\\end{tabular}\n"
      ],
      "text/markdown": [
       "\n",
       "A data.table: 3 × 2\n",
       "\n",
       "| x &lt;chr&gt; | v &lt;dbl&gt; |\n",
       "|---|---|\n",
       "| b | 0.02291866 |\n",
       "| b | 1.34060016 |\n",
       "| b | 0.62260114 |\n",
       "\n"
      ],
      "text/plain": [
       "  x v         \n",
       "1 b 0.02291866\n",
       "2 b 1.34060016\n",
       "3 b 0.62260114"
      ]
     },
     "metadata": {},
     "output_type": "display_data"
    }
   ],
   "source": [
    "DT[x==\"b\",]"
   ]
  },
  {
   "cell_type": "code",
   "execution_count": 25,
   "metadata": {},
   "outputs": [
    {
     "data": {
      "text/html": [
       "<table>\n",
       "<caption>A data.table: 2 × 2</caption>\n",
       "<thead>\n",
       "\t<tr><th scope=col>x</th><th scope=col>V1</th></tr>\n",
       "\t<tr><th scope=col>&lt;chr&gt;</th><th scope=col>&lt;dbl&gt;</th></tr>\n",
       "</thead>\n",
       "<tbody>\n",
       "\t<tr><td>b</td><td>1.9861200</td></tr>\n",
       "\t<tr><td>a</td><td>0.1188039</td></tr>\n",
       "</tbody>\n",
       "</table>\n"
      ],
      "text/latex": [
       "A data.table: 2 × 2\n",
       "\\begin{tabular}{r|ll}\n",
       " x & V1\\\\\n",
       " <chr> & <dbl>\\\\\n",
       "\\hline\n",
       "\t b & 1.9861200\\\\\n",
       "\t a & 0.1188039\\\\\n",
       "\\end{tabular}\n"
      ],
      "text/markdown": [
       "\n",
       "A data.table: 2 × 2\n",
       "\n",
       "| x &lt;chr&gt; | V1 &lt;dbl&gt; |\n",
       "|---|---|\n",
       "| b | 1.9861200 |\n",
       "| a | 0.1188039 |\n",
       "\n"
      ],
      "text/plain": [
       "  x V1       \n",
       "1 b 1.9861200\n",
       "2 a 0.1188039"
      ]
     },
     "metadata": {},
     "output_type": "display_data"
    }
   ],
   "source": [
    "DT[,sum(v),by=x]"
   ]
  },
  {
   "cell_type": "code",
   "execution_count": 26,
   "metadata": {},
   "outputs": [
    {
     "data": {
      "text/html": [
       "<table>\n",
       "<caption>A data.table: 5 × 2</caption>\n",
       "<thead>\n",
       "\t<tr><th scope=col>x</th><th scope=col>v</th></tr>\n",
       "\t<tr><th scope=col>&lt;chr&gt;</th><th scope=col>&lt;dbl&gt;</th></tr>\n",
       "</thead>\n",
       "<tbody>\n",
       "\t<tr><td>a</td><td>-0.40413861</td></tr>\n",
       "\t<tr><td>a</td><td> 0.52294255</td></tr>\n",
       "\t<tr><td>b</td><td> 0.02291866</td></tr>\n",
       "\t<tr><td>b</td><td> 1.34060016</td></tr>\n",
       "\t<tr><td>b</td><td> 0.62260114</td></tr>\n",
       "</tbody>\n",
       "</table>\n"
      ],
      "text/latex": [
       "A data.table: 5 × 2\n",
       "\\begin{tabular}{r|ll}\n",
       " x & v\\\\\n",
       " <chr> & <dbl>\\\\\n",
       "\\hline\n",
       "\t a & -0.40413861\\\\\n",
       "\t a &  0.52294255\\\\\n",
       "\t b &  0.02291866\\\\\n",
       "\t b &  1.34060016\\\\\n",
       "\t b &  0.62260114\\\\\n",
       "\\end{tabular}\n"
      ],
      "text/markdown": [
       "\n",
       "A data.table: 5 × 2\n",
       "\n",
       "| x &lt;chr&gt; | v &lt;dbl&gt; |\n",
       "|---|---|\n",
       "| a | -0.40413861 |\n",
       "| a |  0.52294255 |\n",
       "| b |  0.02291866 |\n",
       "| b |  1.34060016 |\n",
       "| b |  0.62260114 |\n",
       "\n"
      ],
      "text/plain": [
       "  x v          \n",
       "1 a -0.40413861\n",
       "2 a  0.52294255\n",
       "3 b  0.02291866\n",
       "4 b  1.34060016\n",
       "5 b  0.62260114"
      ]
     },
     "metadata": {},
     "output_type": "display_data"
    }
   ],
   "source": [
    "setkey(DT,x)\n",
    "DT"
   ]
  },
  {
   "cell_type": "code",
   "execution_count": 27,
   "metadata": {},
   "outputs": [
    {
     "data": {
      "text/html": [
       "<table>\n",
       "<caption>A data.table: 2 × 2</caption>\n",
       "<thead>\n",
       "\t<tr><th scope=col>x</th><th scope=col>V1</th></tr>\n",
       "\t<tr><th scope=col>&lt;chr&gt;</th><th scope=col>&lt;dbl&gt;</th></tr>\n",
       "</thead>\n",
       "<tbody>\n",
       "\t<tr><td>a</td><td>0.1188039</td></tr>\n",
       "\t<tr><td>b</td><td>1.9861200</td></tr>\n",
       "</tbody>\n",
       "</table>\n"
      ],
      "text/latex": [
       "A data.table: 2 × 2\n",
       "\\begin{tabular}{r|ll}\n",
       " x & V1\\\\\n",
       " <chr> & <dbl>\\\\\n",
       "\\hline\n",
       "\t a & 0.1188039\\\\\n",
       "\t b & 1.9861200\\\\\n",
       "\\end{tabular}\n"
      ],
      "text/markdown": [
       "\n",
       "A data.table: 2 × 2\n",
       "\n",
       "| x &lt;chr&gt; | V1 &lt;dbl&gt; |\n",
       "|---|---|\n",
       "| a | 0.1188039 |\n",
       "| b | 1.9861200 |\n",
       "\n"
      ],
      "text/plain": [
       "  x V1       \n",
       "1 a 0.1188039\n",
       "2 b 1.9861200"
      ]
     },
     "metadata": {},
     "output_type": "display_data"
    }
   ],
   "source": [
    "DT[,sum(v),by=x]"
   ]
  },
  {
   "cell_type": "code",
   "execution_count": 29,
   "metadata": {},
   "outputs": [
    {
     "data": {
      "text/html": [
       "<dl class=dl-horizontal>\n",
       "\t<dt>a</dt>\n",
       "\t\t<dd>-2.57426383386629</dd>\n",
       "\t<dt>b</dt>\n",
       "\t\t<dd>0.129860786206443</dd>\n",
       "</dl>\n"
      ],
      "text/latex": [
       "\\begin{description*}\n",
       "\\item[a] -2.57426383386629\n",
       "\\item[b] 0.129860786206443\n",
       "\\end{description*}\n"
      ],
      "text/markdown": [
       "a\n",
       ":   -2.57426383386629b\n",
       ":   0.129860786206443\n",
       "\n"
      ],
      "text/plain": [
       "         a          b \n",
       "-2.5742638  0.1298608 "
      ]
     },
     "metadata": {},
     "output_type": "display_data"
    }
   ],
   "source": [
    "tapply(DF$v,DT$x,sum)"
   ]
  },
  {
   "cell_type": "code",
   "execution_count": 30,
   "metadata": {},
   "outputs": [
    {
     "data": {
      "text/html": [
       "<table>\n",
       "<caption>A data.frame: 9 × 3</caption>\n",
       "<thead>\n",
       "\t<tr><th scope=col>x</th><th scope=col>y</th><th scope=col>v</th></tr>\n",
       "\t<tr><th scope=col>&lt;fct&gt;</th><th scope=col>&lt;dbl&gt;</th><th scope=col>&lt;int&gt;</th></tr>\n",
       "</thead>\n",
       "<tbody>\n",
       "\t<tr><td>b</td><td>1</td><td>1</td></tr>\n",
       "\t<tr><td>b</td><td>3</td><td>2</td></tr>\n",
       "\t<tr><td>b</td><td>6</td><td>3</td></tr>\n",
       "\t<tr><td>a</td><td>1</td><td>4</td></tr>\n",
       "\t<tr><td>a</td><td>3</td><td>5</td></tr>\n",
       "\t<tr><td>a</td><td>6</td><td>6</td></tr>\n",
       "\t<tr><td>c</td><td>1</td><td>7</td></tr>\n",
       "\t<tr><td>c</td><td>3</td><td>8</td></tr>\n",
       "\t<tr><td>c</td><td>6</td><td>9</td></tr>\n",
       "</tbody>\n",
       "</table>\n"
      ],
      "text/latex": [
       "A data.frame: 9 × 3\n",
       "\\begin{tabular}{r|lll}\n",
       " x & y & v\\\\\n",
       " <fct> & <dbl> & <int>\\\\\n",
       "\\hline\n",
       "\t b & 1 & 1\\\\\n",
       "\t b & 3 & 2\\\\\n",
       "\t b & 6 & 3\\\\\n",
       "\t a & 1 & 4\\\\\n",
       "\t a & 3 & 5\\\\\n",
       "\t a & 6 & 6\\\\\n",
       "\t c & 1 & 7\\\\\n",
       "\t c & 3 & 8\\\\\n",
       "\t c & 6 & 9\\\\\n",
       "\\end{tabular}\n"
      ],
      "text/markdown": [
       "\n",
       "A data.frame: 9 × 3\n",
       "\n",
       "| x &lt;fct&gt; | y &lt;dbl&gt; | v &lt;int&gt; |\n",
       "|---|---|---|\n",
       "| b | 1 | 1 |\n",
       "| b | 3 | 2 |\n",
       "| b | 6 | 3 |\n",
       "| a | 1 | 4 |\n",
       "| a | 3 | 5 |\n",
       "| a | 6 | 6 |\n",
       "| c | 1 | 7 |\n",
       "| c | 3 | 8 |\n",
       "| c | 6 | 9 |\n",
       "\n"
      ],
      "text/plain": [
       "  x y v\n",
       "1 b 1 1\n",
       "2 b 3 2\n",
       "3 b 6 3\n",
       "4 a 1 4\n",
       "5 a 3 5\n",
       "6 a 6 6\n",
       "7 c 1 7\n",
       "8 c 3 8\n",
       "9 c 6 9"
      ]
     },
     "metadata": {},
     "output_type": "display_data"
    },
    {
     "data": {
      "text/html": [
       "<table>\n",
       "<caption>A data.table: 9 × 3</caption>\n",
       "<thead>\n",
       "\t<tr><th scope=col>x</th><th scope=col>y</th><th scope=col>v</th></tr>\n",
       "\t<tr><th scope=col>&lt;chr&gt;</th><th scope=col>&lt;dbl&gt;</th><th scope=col>&lt;int&gt;</th></tr>\n",
       "</thead>\n",
       "<tbody>\n",
       "\t<tr><td>b</td><td>1</td><td>1</td></tr>\n",
       "\t<tr><td>b</td><td>3</td><td>2</td></tr>\n",
       "\t<tr><td>b</td><td>6</td><td>3</td></tr>\n",
       "\t<tr><td>a</td><td>1</td><td>4</td></tr>\n",
       "\t<tr><td>a</td><td>3</td><td>5</td></tr>\n",
       "\t<tr><td>a</td><td>6</td><td>6</td></tr>\n",
       "\t<tr><td>c</td><td>1</td><td>7</td></tr>\n",
       "\t<tr><td>c</td><td>3</td><td>8</td></tr>\n",
       "\t<tr><td>c</td><td>6</td><td>9</td></tr>\n",
       "</tbody>\n",
       "</table>\n"
      ],
      "text/latex": [
       "A data.table: 9 × 3\n",
       "\\begin{tabular}{r|lll}\n",
       " x & y & v\\\\\n",
       " <chr> & <dbl> & <int>\\\\\n",
       "\\hline\n",
       "\t b & 1 & 1\\\\\n",
       "\t b & 3 & 2\\\\\n",
       "\t b & 6 & 3\\\\\n",
       "\t a & 1 & 4\\\\\n",
       "\t a & 3 & 5\\\\\n",
       "\t a & 6 & 6\\\\\n",
       "\t c & 1 & 7\\\\\n",
       "\t c & 3 & 8\\\\\n",
       "\t c & 6 & 9\\\\\n",
       "\\end{tabular}\n"
      ],
      "text/markdown": [
       "\n",
       "A data.table: 9 × 3\n",
       "\n",
       "| x &lt;chr&gt; | y &lt;dbl&gt; | v &lt;int&gt; |\n",
       "|---|---|---|\n",
       "| b | 1 | 1 |\n",
       "| b | 3 | 2 |\n",
       "| b | 6 | 3 |\n",
       "| a | 1 | 4 |\n",
       "| a | 3 | 5 |\n",
       "| a | 6 | 6 |\n",
       "| c | 1 | 7 |\n",
       "| c | 3 | 8 |\n",
       "| c | 6 | 9 |\n",
       "\n"
      ],
      "text/plain": [
       "  x y v\n",
       "1 b 1 1\n",
       "2 b 3 2\n",
       "3 b 6 3\n",
       "4 a 1 4\n",
       "5 a 3 5\n",
       "6 a 6 6\n",
       "7 c 1 7\n",
       "8 c 3 8\n",
       "9 c 6 9"
      ]
     },
     "metadata": {},
     "output_type": "display_data"
    }
   ],
   "source": [
    "DF = data.frame(x=rep(c(\"b\",\"a\",\"c\"),each=3), y=c(1,3,6), v=1:9)\n",
    "DT = data.table(x=rep(c(\"b\",\"a\",\"c\"),each=3), y=c(1,3,6), v=1:9)\n",
    "DF\n",
    "DT"
   ]
  },
  {
   "cell_type": "code",
   "execution_count": 31,
   "metadata": {},
   "outputs": [
    {
     "data": {
      "text/html": [
       "TRUE"
      ],
      "text/latex": [
       "TRUE"
      ],
      "text/markdown": [
       "TRUE"
      ],
      "text/plain": [
       "[1] TRUE"
      ]
     },
     "metadata": {},
     "output_type": "display_data"
    }
   ],
   "source": [
    "identical(dim(DT), dim(DF))    "
   ]
  },
  {
   "cell_type": "code",
   "execution_count": 32,
   "metadata": {},
   "outputs": [
    {
     "data": {
      "text/html": [
       "TRUE"
      ],
      "text/latex": [
       "TRUE"
      ],
      "text/markdown": [
       "TRUE"
      ],
      "text/plain": [
       "[1] TRUE"
      ]
     },
     "metadata": {},
     "output_type": "display_data"
    }
   ],
   "source": [
    "identical(DF$a, DT$a)          "
   ]
  },
  {
   "cell_type": "code",
   "execution_count": 33,
   "metadata": {},
   "outputs": [
    {
     "data": {
      "text/html": [
       "TRUE"
      ],
      "text/latex": [
       "TRUE"
      ],
      "text/markdown": [
       "TRUE"
      ],
      "text/plain": [
       "[1] TRUE"
      ]
     },
     "metadata": {},
     "output_type": "display_data"
    }
   ],
   "source": [
    "is.list(DF)                    "
   ]
  },
  {
   "cell_type": "code",
   "execution_count": 34,
   "metadata": {},
   "outputs": [
    {
     "data": {
      "text/html": [
       "TRUE"
      ],
      "text/latex": [
       "TRUE"
      ],
      "text/markdown": [
       "TRUE"
      ],
      "text/plain": [
       "[1] TRUE"
      ]
     },
     "metadata": {},
     "output_type": "display_data"
    }
   ],
   "source": [
    "is.list(DT)                    "
   ]
  },
  {
   "cell_type": "code",
   "execution_count": 35,
   "metadata": {},
   "outputs": [
    {
     "data": {
      "text/html": [
       "TRUE"
      ],
      "text/latex": [
       "TRUE"
      ],
      "text/markdown": [
       "TRUE"
      ],
      "text/plain": [
       "[1] TRUE"
      ]
     },
     "metadata": {},
     "output_type": "display_data"
    }
   ],
   "source": [
    "is.data.frame(DT)              "
   ]
  },
  {
   "cell_type": "code",
   "execution_count": 36,
   "metadata": {},
   "outputs": [
    {
     "name": "stdout",
     "output_type": "stream",
     "text": [
      "   NAME NROW NCOL MB  COLS KEY\n",
      "1:   DT    9    3  0 x,y,v    \n",
      "Total: 0MB\n"
     ]
    }
   ],
   "source": [
    "tables()"
   ]
  },
  {
   "cell_type": "code",
   "execution_count": 37,
   "metadata": {},
   "outputs": [
    {
     "data": {
      "text/html": [
       "<table>\n",
       "<caption>A data.table: 9 × 3</caption>\n",
       "<thead>\n",
       "\t<tr><th scope=col>x</th><th scope=col>y</th><th scope=col>v</th></tr>\n",
       "\t<tr><th scope=col>&lt;chr&gt;</th><th scope=col>&lt;dbl&gt;</th><th scope=col>&lt;int&gt;</th></tr>\n",
       "</thead>\n",
       "<tbody>\n",
       "\t<tr><td>a</td><td>1</td><td>4</td></tr>\n",
       "\t<tr><td>a</td><td>3</td><td>5</td></tr>\n",
       "\t<tr><td>a</td><td>6</td><td>6</td></tr>\n",
       "\t<tr><td>b</td><td>1</td><td>1</td></tr>\n",
       "\t<tr><td>b</td><td>3</td><td>2</td></tr>\n",
       "\t<tr><td>b</td><td>6</td><td>3</td></tr>\n",
       "\t<tr><td>c</td><td>1</td><td>7</td></tr>\n",
       "\t<tr><td>c</td><td>3</td><td>8</td></tr>\n",
       "\t<tr><td>c</td><td>6</td><td>9</td></tr>\n",
       "</tbody>\n",
       "</table>\n"
      ],
      "text/latex": [
       "A data.table: 9 × 3\n",
       "\\begin{tabular}{r|lll}\n",
       " x & y & v\\\\\n",
       " <chr> & <dbl> & <int>\\\\\n",
       "\\hline\n",
       "\t a & 1 & 4\\\\\n",
       "\t a & 3 & 5\\\\\n",
       "\t a & 6 & 6\\\\\n",
       "\t b & 1 & 1\\\\\n",
       "\t b & 3 & 2\\\\\n",
       "\t b & 6 & 3\\\\\n",
       "\t c & 1 & 7\\\\\n",
       "\t c & 3 & 8\\\\\n",
       "\t c & 6 & 9\\\\\n",
       "\\end{tabular}\n"
      ],
      "text/markdown": [
       "\n",
       "A data.table: 9 × 3\n",
       "\n",
       "| x &lt;chr&gt; | y &lt;dbl&gt; | v &lt;int&gt; |\n",
       "|---|---|---|\n",
       "| a | 1 | 4 |\n",
       "| a | 3 | 5 |\n",
       "| a | 6 | 6 |\n",
       "| b | 1 | 1 |\n",
       "| b | 3 | 2 |\n",
       "| b | 6 | 3 |\n",
       "| c | 1 | 7 |\n",
       "| c | 3 | 8 |\n",
       "| c | 6 | 9 |\n",
       "\n"
      ],
      "text/plain": [
       "  x y v\n",
       "1 a 1 4\n",
       "2 a 3 5\n",
       "3 a 6 6\n",
       "4 b 1 1\n",
       "5 b 3 2\n",
       "6 b 6 3\n",
       "7 c 1 7\n",
       "8 c 3 8\n",
       "9 c 6 9"
      ]
     },
     "metadata": {},
     "output_type": "display_data"
    }
   ],
   "source": [
    "DT[order(x)]                   "
   ]
  },
  {
   "cell_type": "code",
   "execution_count": 38,
   "metadata": {},
   "outputs": [
    {
     "data": {
      "text/html": [
       "<table>\n",
       "<caption>A data.table: 9 × 3</caption>\n",
       "<thead>\n",
       "\t<tr><th scope=col>x</th><th scope=col>y</th><th scope=col>v</th></tr>\n",
       "\t<tr><th scope=col>&lt;chr&gt;</th><th scope=col>&lt;dbl&gt;</th><th scope=col>&lt;int&gt;</th></tr>\n",
       "</thead>\n",
       "<tbody>\n",
       "\t<tr><td>a</td><td>1</td><td>4</td></tr>\n",
       "\t<tr><td>a</td><td>3</td><td>5</td></tr>\n",
       "\t<tr><td>a</td><td>6</td><td>6</td></tr>\n",
       "\t<tr><td>b</td><td>1</td><td>1</td></tr>\n",
       "\t<tr><td>b</td><td>3</td><td>2</td></tr>\n",
       "\t<tr><td>b</td><td>6</td><td>3</td></tr>\n",
       "\t<tr><td>c</td><td>1</td><td>7</td></tr>\n",
       "\t<tr><td>c</td><td>3</td><td>8</td></tr>\n",
       "\t<tr><td>c</td><td>6</td><td>9</td></tr>\n",
       "</tbody>\n",
       "</table>\n"
      ],
      "text/latex": [
       "A data.table: 9 × 3\n",
       "\\begin{tabular}{r|lll}\n",
       " x & y & v\\\\\n",
       " <chr> & <dbl> & <int>\\\\\n",
       "\\hline\n",
       "\t a & 1 & 4\\\\\n",
       "\t a & 3 & 5\\\\\n",
       "\t a & 6 & 6\\\\\n",
       "\t b & 1 & 1\\\\\n",
       "\t b & 3 & 2\\\\\n",
       "\t b & 6 & 3\\\\\n",
       "\t c & 1 & 7\\\\\n",
       "\t c & 3 & 8\\\\\n",
       "\t c & 6 & 9\\\\\n",
       "\\end{tabular}\n"
      ],
      "text/markdown": [
       "\n",
       "A data.table: 9 × 3\n",
       "\n",
       "| x &lt;chr&gt; | y &lt;dbl&gt; | v &lt;int&gt; |\n",
       "|---|---|---|\n",
       "| a | 1 | 4 |\n",
       "| a | 3 | 5 |\n",
       "| a | 6 | 6 |\n",
       "| b | 1 | 1 |\n",
       "| b | 3 | 2 |\n",
       "| b | 6 | 3 |\n",
       "| c | 1 | 7 |\n",
       "| c | 3 | 8 |\n",
       "| c | 6 | 9 |\n",
       "\n"
      ],
      "text/plain": [
       "  x y v\n",
       "1 a 1 4\n",
       "2 a 3 5\n",
       "3 a 6 6\n",
       "4 b 1 1\n",
       "5 b 3 2\n",
       "6 b 6 3\n",
       "7 c 1 7\n",
       "8 c 3 8\n",
       "9 c 6 9"
      ]
     },
     "metadata": {},
     "output_type": "display_data"
    }
   ],
   "source": [
    "# same as above. The ',' is optional\n",
    "DT[order(x), ]                 "
   ]
  },
  {
   "cell_type": "code",
   "execution_count": 39,
   "metadata": {},
   "outputs": [
    {
     "data": {
      "text/html": [
       "<table>\n",
       "<caption>A data.table: 6 × 3</caption>\n",
       "<thead>\n",
       "\t<tr><th scope=col>x</th><th scope=col>y</th><th scope=col>v</th></tr>\n",
       "\t<tr><th scope=col>&lt;chr&gt;</th><th scope=col>&lt;dbl&gt;</th><th scope=col>&lt;int&gt;</th></tr>\n",
       "</thead>\n",
       "<tbody>\n",
       "\t<tr><td>b</td><td>3</td><td>2</td></tr>\n",
       "\t<tr><td>b</td><td>6</td><td>3</td></tr>\n",
       "\t<tr><td>a</td><td>3</td><td>5</td></tr>\n",
       "\t<tr><td>a</td><td>6</td><td>6</td></tr>\n",
       "\t<tr><td>c</td><td>3</td><td>8</td></tr>\n",
       "\t<tr><td>c</td><td>6</td><td>9</td></tr>\n",
       "</tbody>\n",
       "</table>\n"
      ],
      "text/latex": [
       "A data.table: 6 × 3\n",
       "\\begin{tabular}{r|lll}\n",
       " x & y & v\\\\\n",
       " <chr> & <dbl> & <int>\\\\\n",
       "\\hline\n",
       "\t b & 3 & 2\\\\\n",
       "\t b & 6 & 3\\\\\n",
       "\t a & 3 & 5\\\\\n",
       "\t a & 6 & 6\\\\\n",
       "\t c & 3 & 8\\\\\n",
       "\t c & 6 & 9\\\\\n",
       "\\end{tabular}\n"
      ],
      "text/markdown": [
       "\n",
       "A data.table: 6 × 3\n",
       "\n",
       "| x &lt;chr&gt; | y &lt;dbl&gt; | v &lt;int&gt; |\n",
       "|---|---|---|\n",
       "| b | 3 | 2 |\n",
       "| b | 6 | 3 |\n",
       "| a | 3 | 5 |\n",
       "| a | 6 | 6 |\n",
       "| c | 3 | 8 |\n",
       "| c | 6 | 9 |\n",
       "\n"
      ],
      "text/plain": [
       "  x y v\n",
       "1 b 3 2\n",
       "2 b 6 3\n",
       "3 a 3 5\n",
       "4 a 6 6\n",
       "5 c 3 8\n",
       "6 c 6 9"
      ]
     },
     "metadata": {},
     "output_type": "display_data"
    }
   ],
   "source": [
    "# all rows where DT$y > 2\n",
    "DT[y>2]       "
   ]
  },
  {
   "cell_type": "code",
   "execution_count": 40,
   "metadata": {},
   "outputs": [
    {
     "data": {
      "text/html": [
       "<table>\n",
       "<caption>A data.table: 3 × 3</caption>\n",
       "<thead>\n",
       "\t<tr><th scope=col>x</th><th scope=col>y</th><th scope=col>v</th></tr>\n",
       "\t<tr><th scope=col>&lt;chr&gt;</th><th scope=col>&lt;dbl&gt;</th><th scope=col>&lt;int&gt;</th></tr>\n",
       "</thead>\n",
       "<tbody>\n",
       "\t<tr><td>a</td><td>6</td><td>6</td></tr>\n",
       "\t<tr><td>c</td><td>3</td><td>8</td></tr>\n",
       "\t<tr><td>c</td><td>6</td><td>9</td></tr>\n",
       "</tbody>\n",
       "</table>\n"
      ],
      "text/latex": [
       "A data.table: 3 × 3\n",
       "\\begin{tabular}{r|lll}\n",
       " x & y & v\\\\\n",
       " <chr> & <dbl> & <int>\\\\\n",
       "\\hline\n",
       "\t a & 6 & 6\\\\\n",
       "\t c & 3 & 8\\\\\n",
       "\t c & 6 & 9\\\\\n",
       "\\end{tabular}\n"
      ],
      "text/markdown": [
       "\n",
       "A data.table: 3 × 3\n",
       "\n",
       "| x &lt;chr&gt; | y &lt;dbl&gt; | v &lt;int&gt; |\n",
       "|---|---|---|\n",
       "| a | 6 | 6 |\n",
       "| c | 3 | 8 |\n",
       "| c | 6 | 9 |\n",
       "\n"
      ],
      "text/plain": [
       "  x y v\n",
       "1 a 6 6\n",
       "2 c 3 8\n",
       "3 c 6 9"
      ]
     },
     "metadata": {},
     "output_type": "display_data"
    }
   ],
   "source": [
    "# compound logical expressions\n",
    "DT[y>2 & v>5]                  "
   ]
  },
  {
   "cell_type": "code",
   "execution_count": 41,
   "metadata": {},
   "outputs": [
    {
     "data": {
      "text/html": [
       "<table>\n",
       "<caption>A data.table: 6 × 3</caption>\n",
       "<thead>\n",
       "\t<tr><th scope=col>x</th><th scope=col>y</th><th scope=col>v</th></tr>\n",
       "\t<tr><th scope=col>&lt;chr&gt;</th><th scope=col>&lt;dbl&gt;</th><th scope=col>&lt;int&gt;</th></tr>\n",
       "</thead>\n",
       "<tbody>\n",
       "\t<tr><td>b</td><td>1</td><td>1</td></tr>\n",
       "\t<tr><td>a</td><td>3</td><td>5</td></tr>\n",
       "\t<tr><td>a</td><td>6</td><td>6</td></tr>\n",
       "\t<tr><td>c</td><td>1</td><td>7</td></tr>\n",
       "\t<tr><td>c</td><td>3</td><td>8</td></tr>\n",
       "\t<tr><td>c</td><td>6</td><td>9</td></tr>\n",
       "</tbody>\n",
       "</table>\n"
      ],
      "text/latex": [
       "A data.table: 6 × 3\n",
       "\\begin{tabular}{r|lll}\n",
       " x & y & v\\\\\n",
       " <chr> & <dbl> & <int>\\\\\n",
       "\\hline\n",
       "\t b & 1 & 1\\\\\n",
       "\t a & 3 & 5\\\\\n",
       "\t a & 6 & 6\\\\\n",
       "\t c & 1 & 7\\\\\n",
       "\t c & 3 & 8\\\\\n",
       "\t c & 6 & 9\\\\\n",
       "\\end{tabular}\n"
      ],
      "text/markdown": [
       "\n",
       "A data.table: 6 × 3\n",
       "\n",
       "| x &lt;chr&gt; | y &lt;dbl&gt; | v &lt;int&gt; |\n",
       "|---|---|---|\n",
       "| b | 1 | 1 |\n",
       "| a | 3 | 5 |\n",
       "| a | 6 | 6 |\n",
       "| c | 1 | 7 |\n",
       "| c | 3 | 8 |\n",
       "| c | 6 | 9 |\n",
       "\n"
      ],
      "text/plain": [
       "  x y v\n",
       "1 b 1 1\n",
       "2 a 3 5\n",
       "3 a 6 6\n",
       "4 c 1 7\n",
       "5 c 3 8\n",
       "6 c 6 9"
      ]
     },
     "metadata": {},
     "output_type": "display_data"
    }
   ],
   "source": [
    "# all rows other than 2:4\n",
    "DT[!2:4]                       "
   ]
  },
  {
   "cell_type": "code",
   "execution_count": 43,
   "metadata": {},
   "outputs": [
    {
     "data": {
      "text/html": [
       "<table>\n",
       "<caption>A data.table: 6 × 3</caption>\n",
       "<thead>\n",
       "\t<tr><th scope=col>x</th><th scope=col>y</th><th scope=col>v</th></tr>\n",
       "\t<tr><th scope=col>&lt;chr&gt;</th><th scope=col>&lt;dbl&gt;</th><th scope=col>&lt;int&gt;</th></tr>\n",
       "</thead>\n",
       "<tbody>\n",
       "\t<tr><td>b</td><td>1</td><td>1</td></tr>\n",
       "\t<tr><td>a</td><td>3</td><td>5</td></tr>\n",
       "\t<tr><td>a</td><td>6</td><td>6</td></tr>\n",
       "\t<tr><td>c</td><td>1</td><td>7</td></tr>\n",
       "\t<tr><td>c</td><td>3</td><td>8</td></tr>\n",
       "\t<tr><td>c</td><td>6</td><td>9</td></tr>\n",
       "</tbody>\n",
       "</table>\n"
      ],
      "text/latex": [
       "A data.table: 6 × 3\n",
       "\\begin{tabular}{r|lll}\n",
       " x & y & v\\\\\n",
       " <chr> & <dbl> & <int>\\\\\n",
       "\\hline\n",
       "\t b & 1 & 1\\\\\n",
       "\t a & 3 & 5\\\\\n",
       "\t a & 6 & 6\\\\\n",
       "\t c & 1 & 7\\\\\n",
       "\t c & 3 & 8\\\\\n",
       "\t c & 6 & 9\\\\\n",
       "\\end{tabular}\n"
      ],
      "text/markdown": [
       "\n",
       "A data.table: 6 × 3\n",
       "\n",
       "| x &lt;chr&gt; | y &lt;dbl&gt; | v &lt;int&gt; |\n",
       "|---|---|---|\n",
       "| b | 1 | 1 |\n",
       "| a | 3 | 5 |\n",
       "| a | 6 | 6 |\n",
       "| c | 1 | 7 |\n",
       "| c | 3 | 8 |\n",
       "| c | 6 | 9 |\n",
       "\n"
      ],
      "text/plain": [
       "  x y v\n",
       "1 b 1 1\n",
       "2 a 3 5\n",
       "3 a 6 6\n",
       "4 c 1 7\n",
       "5 c 3 8\n",
       "6 c 6 9"
      ]
     },
     "metadata": {},
     "output_type": "display_data"
    }
   ],
   "source": [
    "# same\n",
    "DT[-(2:4)] "
   ]
  },
  {
   "cell_type": "code",
   "execution_count": 49,
   "metadata": {},
   "outputs": [
    {
     "name": "stdout",
     "output_type": "stream",
     "text": [
      "'data.frame':\t272 obs. of  2 variables:\n",
      " $ eruptions: num  3.6 1.8 3.33 2.28 4.53 ...\n",
      " $ waiting  : num  79 54 74 62 85 55 88 85 51 85 ...\n"
     ]
    },
    {
     "data": {
      "image/png": "[encoded data removed]",
      "text/plain": [
       "Plot with title \"Histogram of eruptions\""
      ]
     },
     "metadata": {
      "image/png": {
       "height": 420,
       "width": 420
      },
      "text/plain": {
       "height": 420,
       "width": 420
      }
     },
     "output_type": "display_data"
    }
   ],
   "source": [
    "attach(faithful)\n",
    "str(faithful)\n",
    "hist(eruptions, prob=T)\n",
    "lines(density(eruptions),lwd=3,lty=2)"
   ]
  },
  {
   "cell_type": "code",
   "execution_count": 51,
   "metadata": {},
   "outputs": [
    {
     "data": {
      "image/png": "[encoded data removed]",
      "text/plain": [
       "Plot with title \"Fig 3\""
      ]
     },
     "metadata": {
      "image/png": {
       "height": 420,
       "width": 420
      },
      "text/plain": {
       "height": 420,
       "width": 420
      }
     },
     "output_type": "display_data"
    }
   ],
   "source": [
    "par(mfrow=c(2,2))\n",
    "boxplot(eruptions,ylab=\"Eruptions\",main=\"Fig 1\")\n",
    "boxplot(eruptions,ylab=\"Eruptions\",main=\"Fig 1\",col=\"red\")\n",
    "boxplot(eruptions,horizontal=T,xlab=\"Eruptions\",main=\"Fig 1\",col=\"purple\")\n",
    "boxplot(eruptions,las=2,horizontal=T,xlab=\"Eruptions\",main=\"Fig 3\",col=\"green\")\n"
   ]
  },
  {
   "cell_type": "code",
   "execution_count": 53,
   "metadata": {},
   "outputs": [
    {
     "name": "stderr",
     "output_type": "stream",
     "text": [
      "Loading required package: lattice\n",
      "\n"
     ]
    },
    {
     "name": "stdout",
     "output_type": "stream",
     "text": [
      "'data.frame':\t202 obs. of  13 variables:\n",
      " $ rcc   : num  3.96 4.41 4.14 4.11 4.45 4.1 4.31 4.42 4.3 4.51 ...\n",
      " $ wcc   : num  7.5 8.3 5 5.3 6.8 4.4 5.3 5.7 8.9 4.4 ...\n",
      " $ hc    : num  37.5 38.2 36.4 37.3 41.5 37.4 39.6 39.9 41.1 41.6 ...\n",
      " $ hg    : num  12.3 12.7 11.6 12.6 14 12.5 12.8 13.2 13.5 12.7 ...\n",
      " $ ferr  : num  60 68 21 69 29 42 73 44 41 44 ...\n",
      " $ bmi   : num  20.6 20.7 21.9 21.9 19 ...\n",
      " $ ssf   : num  109.1 102.8 104.6 126.4 80.3 ...\n",
      " $ pcBfat: num  19.8 21.3 19.9 23.7 17.6 ...\n",
      " $ lbm   : num  63.3 58.5 55.4 57.2 53.2 ...\n",
      " $ ht    : num  196 190 178 185 185 ...\n",
      " $ wt    : num  78.9 74.4 69.1 74.9 64.6 63.7 75.2 62.3 66.5 62.9 ...\n",
      " $ sex   : Factor w/ 2 levels \"f\",\"m\": 1 1 1 1 1 1 1 1 1 1 ...\n",
      " $ sport : Factor w/ 10 levels \"B_Ball\",\"Field\",..: 1 1 1 1 1 1 1 1 1 1 ...\n"
     ]
    }
   ],
   "source": [
    "library(DAAG)\n",
    "str(ais)\n",
    "attach(ais)"
   ]
  },
  {
   "cell_type": "code",
   "execution_count": 54,
   "metadata": {},
   "outputs": [
    {
     "data": {
      "text/html": [
       "<ol class=list-inline>\n",
       "\t<li>B_Ball</li>\n",
       "\t<li>B_Ball</li>\n",
       "\t<li>B_Ball</li>\n",
       "\t<li>B_Ball</li>\n",
       "\t<li>B_Ball</li>\n",
       "\t<li>B_Ball</li>\n",
       "\t<li>B_Ball</li>\n",
       "\t<li>B_Ball</li>\n",
       "\t<li>B_Ball</li>\n",
       "\t<li>B_Ball</li>\n",
       "\t<li>B_Ball</li>\n",
       "\t<li>B_Ball</li>\n",
       "\t<li>B_Ball</li>\n",
       "\t<li>Row</li>\n",
       "\t<li>Row</li>\n",
       "\t<li>Row</li>\n",
       "\t<li>Row</li>\n",
       "\t<li>Row</li>\n",
       "\t<li>Row</li>\n",
       "\t<li>Row</li>\n",
       "\t<li>Row</li>\n",
       "\t<li>Row</li>\n",
       "\t<li>Row</li>\n",
       "\t<li>Row</li>\n",
       "\t<li>Row</li>\n",
       "\t<li>Row</li>\n",
       "\t<li>Row</li>\n",
       "\t<li>Row</li>\n",
       "\t<li>Row</li>\n",
       "\t<li>Row</li>\n",
       "\t<li>Row</li>\n",
       "\t<li>Row</li>\n",
       "\t<li>Row</li>\n",
       "\t<li>Row</li>\n",
       "\t<li>Row</li>\n",
       "\t<li>Netball</li>\n",
       "\t<li>Netball</li>\n",
       "\t<li>Netball</li>\n",
       "\t<li>Netball</li>\n",
       "\t<li>Netball</li>\n",
       "\t<li>Netball</li>\n",
       "\t<li>Netball</li>\n",
       "\t<li>Netball</li>\n",
       "\t<li>Netball</li>\n",
       "\t<li>Netball</li>\n",
       "\t<li>Netball</li>\n",
       "\t<li>Netball</li>\n",
       "\t<li>Netball</li>\n",
       "\t<li>Netball</li>\n",
       "\t<li>Netball</li>\n",
       "\t<li>Netball</li>\n",
       "\t<li>Netball</li>\n",
       "\t<li>Netball</li>\n",
       "\t<li>Netball</li>\n",
       "\t<li>Netball</li>\n",
       "\t<li>Netball</li>\n",
       "\t<li>Netball</li>\n",
       "\t<li>Netball</li>\n",
       "\t<li>Swim</li>\n",
       "\t<li>Swim</li>\n",
       "\t<li>Swim</li>\n",
       "\t<li>Swim</li>\n",
       "\t<li>Swim</li>\n",
       "\t<li>Swim</li>\n",
       "\t<li>Swim</li>\n",
       "\t<li>Swim</li>\n",
       "\t<li>Swim</li>\n",
       "\t<li>Field</li>\n",
       "\t<li>T_400m</li>\n",
       "\t<li>Field</li>\n",
       "\t<li>Field</li>\n",
       "\t<li>Field</li>\n",
       "\t<li>Field</li>\n",
       "\t<li>Field</li>\n",
       "\t<li>Field</li>\n",
       "\t<li>T_400m</li>\n",
       "\t<li>T_Sprnt</li>\n",
       "\t<li>T_400m</li>\n",
       "\t<li>T_400m</li>\n",
       "\t<li>T_400m</li>\n",
       "\t<li>T_400m</li>\n",
       "\t<li>T_400m</li>\n",
       "\t<li>T_400m</li>\n",
       "\t<li>T_400m</li>\n",
       "\t<li>T_Sprnt</li>\n",
       "\t<li>T_400m</li>\n",
       "\t<li>T_400m</li>\n",
       "\t<li>T_Sprnt</li>\n",
       "\t<li>T_Sprnt</li>\n",
       "\t<li>Tennis</li>\n",
       "\t<li>Tennis</li>\n",
       "\t<li>Tennis</li>\n",
       "\t<li>Tennis</li>\n",
       "\t<li>Tennis</li>\n",
       "\t<li>Tennis</li>\n",
       "\t<li>Tennis</li>\n",
       "\t<li>Gym</li>\n",
       "\t<li>Gym</li>\n",
       "\t<li>Gym</li>\n",
       "\t<li>Gym</li>\n",
       "\t<li>Swim</li>\n",
       "\t<li>Swim</li>\n",
       "\t<li>Swim</li>\n",
       "\t<li>Swim</li>\n",
       "\t<li>Swim</li>\n",
       "\t<li>Swim</li>\n",
       "\t<li>Swim</li>\n",
       "\t<li>Swim</li>\n",
       "\t<li>Swim</li>\n",
       "\t<li>Swim</li>\n",
       "\t<li>Swim</li>\n",
       "\t<li>Swim</li>\n",
       "\t<li>Swim</li>\n",
       "\t<li>Row</li>\n",
       "\t<li>Row</li>\n",
       "\t<li>Row</li>\n",
       "\t<li>Row</li>\n",
       "\t<li>Row</li>\n",
       "\t<li>Row</li>\n",
       "\t<li>Row</li>\n",
       "\t<li>Row</li>\n",
       "\t<li>Row</li>\n",
       "\t<li>Row</li>\n",
       "\t<li>Row</li>\n",
       "\t<li>Row</li>\n",
       "\t<li>Row</li>\n",
       "\t<li>Row</li>\n",
       "\t<li>Row</li>\n",
       "\t<li>B_Ball</li>\n",
       "\t<li>B_Ball</li>\n",
       "\t<li>B_Ball</li>\n",
       "\t<li>B_Ball</li>\n",
       "\t<li>B_Ball</li>\n",
       "\t<li>B_Ball</li>\n",
       "\t<li>B_Ball</li>\n",
       "\t<li>B_Ball</li>\n",
       "\t<li>B_Ball</li>\n",
       "\t<li>B_Ball</li>\n",
       "\t<li>B_Ball</li>\n",
       "\t<li>B_Ball</li>\n",
       "\t<li>T_400m</li>\n",
       "\t<li>T_400m</li>\n",
       "\t<li>T_400m</li>\n",
       "\t<li>T_400m</li>\n",
       "\t<li>Field</li>\n",
       "\t<li>Field</li>\n",
       "\t<li>Field</li>\n",
       "\t<li>T_400m</li>\n",
       "\t<li>T_400m</li>\n",
       "\t<li>T_400m</li>\n",
       "\t<li>T_400m</li>\n",
       "\t<li>T_400m</li>\n",
       "\t<li>T_400m</li>\n",
       "\t<li>T_400m</li>\n",
       "\t<li>T_400m</li>\n",
       "\t<li>T_Sprnt</li>\n",
       "\t<li>T_Sprnt</li>\n",
       "\t<li>T_Sprnt</li>\n",
       "\t<li>Field</li>\n",
       "\t<li>Field</li>\n",
       "\t<li>Field</li>\n",
       "\t<li>Field</li>\n",
       "\t<li>Field</li>\n",
       "\t<li>T_Sprnt</li>\n",
       "\t<li>T_Sprnt</li>\n",
       "\t<li>T_Sprnt</li>\n",
       "\t<li>T_400m</li>\n",
       "\t<li>T_400m</li>\n",
       "\t<li>T_400m</li>\n",
       "\t<li>T_400m</li>\n",
       "\t<li>T_Sprnt</li>\n",
       "\t<li>T_Sprnt</li>\n",
       "\t<li>T_400m</li>\n",
       "\t<li>T_Sprnt</li>\n",
       "\t<li>T_400m</li>\n",
       "\t<li>T_Sprnt</li>\n",
       "\t<li>Field</li>\n",
       "\t<li>Field</li>\n",
       "\t<li>Field</li>\n",
       "\t<li>Field</li>\n",
       "\t<li>T_Sprnt</li>\n",
       "\t<li>W_Polo</li>\n",
       "\t<li>W_Polo</li>\n",
       "\t<li>W_Polo</li>\n",
       "\t<li>W_Polo</li>\n",
       "\t<li>W_Polo</li>\n",
       "\t<li>W_Polo</li>\n",
       "\t<li>W_Polo</li>\n",
       "\t<li>W_Polo</li>\n",
       "\t<li>W_Polo</li>\n",
       "\t<li>W_Polo</li>\n",
       "\t<li>W_Polo</li>\n",
       "\t<li>W_Polo</li>\n",
       "\t<li>W_Polo</li>\n",
       "\t<li>W_Polo</li>\n",
       "\t<li>W_Polo</li>\n",
       "\t<li>W_Polo</li>\n",
       "\t<li>W_Polo</li>\n",
       "\t<li>Tennis</li>\n",
       "\t<li>Tennis</li>\n",
       "\t<li>Tennis</li>\n",
       "\t<li>Tennis</li>\n",
       "</ol>\n",
       "\n",
       "<details>\n",
       "\t<summary style=display:list-item;cursor:pointer>\n",
       "\t\t<strong>Levels</strong>:\n",
       "\t</summary>\n",
       "\t<ol class=list-inline>\n",
       "\t\t<li>'B_Ball'</li>\n",
       "\t\t<li>'Field'</li>\n",
       "\t\t<li>'Gym'</li>\n",
       "\t\t<li>'Netball'</li>\n",
       "\t\t<li>'Row'</li>\n",
       "\t\t<li>'Swim'</li>\n",
       "\t\t<li>'T_400m'</li>\n",
       "\t\t<li>'T_Sprnt'</li>\n",
       "\t\t<li>'Tennis'</li>\n",
       "\t\t<li>'W_Polo'</li>\n",
       "\t</ol>\n",
       "</details>"
      ],
      "text/latex": [
       "\\begin{enumerate*}\n",
       "\\item B\\_Ball\n",
       "\\item B\\_Ball\n",
       "\\item B\\_Ball\n",
       "\\item B\\_Ball\n",
       "\\item B\\_Ball\n",
       "\\item B\\_Ball\n",
       "\\item B\\_Ball\n",
       "\\item B\\_Ball\n",
       "\\item B\\_Ball\n",
       "\\item B\\_Ball\n",
       "\\item B\\_Ball\n",
       "\\item B\\_Ball\n",
       "\\item B\\_Ball\n",
       "\\item Row\n",
       "\\item Row\n",
       "\\item Row\n",
       "\\item Row\n",
       "\\item Row\n",
       "\\item Row\n",
       "\\item Row\n",
       "\\item Row\n",
       "\\item Row\n",
       "\\item Row\n",
       "\\item Row\n",
       "\\item Row\n",
       "\\item Row\n",
       "\\item Row\n",
       "\\item Row\n",
       "\\item Row\n",
       "\\item Row\n",
       "\\item Row\n",
       "\\item Row\n",
       "\\item Row\n",
       "\\item Row\n",
       "\\item Row\n",
       "\\item Netball\n",
       "\\item Netball\n",
       "\\item Netball\n",
       "\\item Netball\n",
       "\\item Netball\n",
       "\\item Netball\n",
       "\\item Netball\n",
       "\\item Netball\n",
       "\\item Netball\n",
       "\\item Netball\n",
       "\\item Netball\n",
       "\\item Netball\n",
       "\\item Netball\n",
       "\\item Netball\n",
       "\\item Netball\n",
       "\\item Netball\n",
       "\\item Netball\n",
       "\\item Netball\n",
       "\\item Netball\n",
       "\\item Netball\n",
       "\\item Netball\n",
       "\\item Netball\n",
       "\\item Netball\n",
       "\\item Swim\n",
       "\\item Swim\n",
       "\\item Swim\n",
       "\\item Swim\n",
       "\\item Swim\n",
       "\\item Swim\n",
       "\\item Swim\n",
       "\\item Swim\n",
       "\\item Swim\n",
       "\\item Field\n",
       "\\item T\\_400m\n",
       "\\item Field\n",
       "\\item Field\n",
       "\\item Field\n",
       "\\item Field\n",
       "\\item Field\n",
       "\\item Field\n",
       "\\item T\\_400m\n",
       "\\item T\\_Sprnt\n",
       "\\item T\\_400m\n",
       "\\item T\\_400m\n",
       "\\item T\\_400m\n",
       "\\item T\\_400m\n",
       "\\item T\\_400m\n",
       "\\item T\\_400m\n",
       "\\item T\\_400m\n",
       "\\item T\\_Sprnt\n",
       "\\item T\\_400m\n",
       "\\item T\\_400m\n",
       "\\item T\\_Sprnt\n",
       "\\item T\\_Sprnt\n",
       "\\item Tennis\n",
       "\\item Tennis\n",
       "\\item Tennis\n",
       "\\item Tennis\n",
       "\\item Tennis\n",
       "\\item Tennis\n",
       "\\item Tennis\n",
       "\\item Gym\n",
       "\\item Gym\n",
       "\\item Gym\n",
       "\\item Gym\n",
       "\\item Swim\n",
       "\\item Swim\n",
       "\\item Swim\n",
       "\\item Swim\n",
       "\\item Swim\n",
       "\\item Swim\n",
       "\\item Swim\n",
       "\\item Swim\n",
       "\\item Swim\n",
       "\\item Swim\n",
       "\\item Swim\n",
       "\\item Swim\n",
       "\\item Swim\n",
       "\\item Row\n",
       "\\item Row\n",
       "\\item Row\n",
       "\\item Row\n",
       "\\item Row\n",
       "\\item Row\n",
       "\\item Row\n",
       "\\item Row\n",
       "\\item Row\n",
       "\\item Row\n",
       "\\item Row\n",
       "\\item Row\n",
       "\\item Row\n",
       "\\item Row\n",
       "\\item Row\n",
       "\\item B\\_Ball\n",
       "\\item B\\_Ball\n",
       "\\item B\\_Ball\n",
       "\\item B\\_Ball\n",
       "\\item B\\_Ball\n",
       "\\item B\\_Ball\n",
       "\\item B\\_Ball\n",
       "\\item B\\_Ball\n",
       "\\item B\\_Ball\n",
       "\\item B\\_Ball\n",
       "\\item B\\_Ball\n",
       "\\item B\\_Ball\n",
       "\\item T\\_400m\n",
       "\\item T\\_400m\n",
       "\\item T\\_400m\n",
       "\\item T\\_400m\n",
       "\\item Field\n",
       "\\item Field\n",
       "\\item Field\n",
       "\\item T\\_400m\n",
       "\\item T\\_400m\n",
       "\\item T\\_400m\n",
       "\\item T\\_400m\n",
       "\\item T\\_400m\n",
       "\\item T\\_400m\n",
       "\\item T\\_400m\n",
       "\\item T\\_400m\n",
       "\\item T\\_Sprnt\n",
       "\\item T\\_Sprnt\n",
       "\\item T\\_Sprnt\n",
       "\\item Field\n",
       "\\item Field\n",
       "\\item Field\n",
       "\\item Field\n",
       "\\item Field\n",
       "\\item T\\_Sprnt\n",
       "\\item T\\_Sprnt\n",
       "\\item T\\_Sprnt\n",
       "\\item T\\_400m\n",
       "\\item T\\_400m\n",
       "\\item T\\_400m\n",
       "\\item T\\_400m\n",
       "\\item T\\_Sprnt\n",
       "\\item T\\_Sprnt\n",
       "\\item T\\_400m\n",
       "\\item T\\_Sprnt\n",
       "\\item T\\_400m\n",
       "\\item T\\_Sprnt\n",
       "\\item Field\n",
       "\\item Field\n",
       "\\item Field\n",
       "\\item Field\n",
       "\\item T\\_Sprnt\n",
       "\\item W\\_Polo\n",
       "\\item W\\_Polo\n",
       "\\item W\\_Polo\n",
       "\\item W\\_Polo\n",
       "\\item W\\_Polo\n",
       "\\item W\\_Polo\n",
       "\\item W\\_Polo\n",
       "\\item W\\_Polo\n",
       "\\item W\\_Polo\n",
       "\\item W\\_Polo\n",
       "\\item W\\_Polo\n",
       "\\item W\\_Polo\n",
       "\\item W\\_Polo\n",
       "\\item W\\_Polo\n",
       "\\item W\\_Polo\n",
       "\\item W\\_Polo\n",
       "\\item W\\_Polo\n",
       "\\item Tennis\n",
       "\\item Tennis\n",
       "\\item Tennis\n",
       "\\item Tennis\n",
       "\\end{enumerate*}\n",
       "\n",
       "\\emph{Levels}: \\begin{enumerate*}\n",
       "\\item 'B\\_Ball'\n",
       "\\item 'Field'\n",
       "\\item 'Gym'\n",
       "\\item 'Netball'\n",
       "\\item 'Row'\n",
       "\\item 'Swim'\n",
       "\\item 'T\\_400m'\n",
       "\\item 'T\\_Sprnt'\n",
       "\\item 'Tennis'\n",
       "\\item 'W\\_Polo'\n",
       "\\end{enumerate*}\n"
      ],
      "text/markdown": [
       "1. B_Ball\n",
       "2. B_Ball\n",
       "3. B_Ball\n",
       "4. B_Ball\n",
       "5. B_Ball\n",
       "6. B_Ball\n",
       "7. B_Ball\n",
       "8. B_Ball\n",
       "9. B_Ball\n",
       "10. B_Ball\n",
       "11. B_Ball\n",
       "12. B_Ball\n",
       "13. B_Ball\n",
       "14. Row\n",
       "15. Row\n",
       "16. Row\n",
       "17. Row\n",
       "18. Row\n",
       "19. Row\n",
       "20. Row\n",
       "21. Row\n",
       "22. Row\n",
       "23. Row\n",
       "24. Row\n",
       "25. Row\n",
       "26. Row\n",
       "27. Row\n",
       "28. Row\n",
       "29. Row\n",
       "30. Row\n",
       "31. Row\n",
       "32. Row\n",
       "33. Row\n",
       "34. Row\n",
       "35. Row\n",
       "36. Netball\n",
       "37. Netball\n",
       "38. Netball\n",
       "39. Netball\n",
       "40. Netball\n",
       "41. Netball\n",
       "42. Netball\n",
       "43. Netball\n",
       "44. Netball\n",
       "45. Netball\n",
       "46. Netball\n",
       "47. Netball\n",
       "48. Netball\n",
       "49. Netball\n",
       "50. Netball\n",
       "51. Netball\n",
       "52. Netball\n",
       "53. Netball\n",
       "54. Netball\n",
       "55. Netball\n",
       "56. Netball\n",
       "57. Netball\n",
       "58. Netball\n",
       "59. Swim\n",
       "60. Swim\n",
       "61. Swim\n",
       "62. Swim\n",
       "63. Swim\n",
       "64. Swim\n",
       "65. Swim\n",
       "66. Swim\n",
       "67. Swim\n",
       "68. Field\n",
       "69. T_400m\n",
       "70. Field\n",
       "71. Field\n",
       "72. Field\n",
       "73. Field\n",
       "74. Field\n",
       "75. Field\n",
       "76. T_400m\n",
       "77. T_Sprnt\n",
       "78. T_400m\n",
       "79. T_400m\n",
       "80. T_400m\n",
       "81. T_400m\n",
       "82. T_400m\n",
       "83. T_400m\n",
       "84. T_400m\n",
       "85. T_Sprnt\n",
       "86. T_400m\n",
       "87. T_400m\n",
       "88. T_Sprnt\n",
       "89. T_Sprnt\n",
       "90. Tennis\n",
       "91. Tennis\n",
       "92. Tennis\n",
       "93. Tennis\n",
       "94. Tennis\n",
       "95. Tennis\n",
       "96. Tennis\n",
       "97. Gym\n",
       "98. Gym\n",
       "99. Gym\n",
       "100. Gym\n",
       "101. Swim\n",
       "102. Swim\n",
       "103. Swim\n",
       "104. Swim\n",
       "105. Swim\n",
       "106. Swim\n",
       "107. Swim\n",
       "108. Swim\n",
       "109. Swim\n",
       "110. Swim\n",
       "111. Swim\n",
       "112. Swim\n",
       "113. Swim\n",
       "114. Row\n",
       "115. Row\n",
       "116. Row\n",
       "117. Row\n",
       "118. Row\n",
       "119. Row\n",
       "120. Row\n",
       "121. Row\n",
       "122. Row\n",
       "123. Row\n",
       "124. Row\n",
       "125. Row\n",
       "126. Row\n",
       "127. Row\n",
       "128. Row\n",
       "129. B_Ball\n",
       "130. B_Ball\n",
       "131. B_Ball\n",
       "132. B_Ball\n",
       "133. B_Ball\n",
       "134. B_Ball\n",
       "135. B_Ball\n",
       "136. B_Ball\n",
       "137. B_Ball\n",
       "138. B_Ball\n",
       "139. B_Ball\n",
       "140. B_Ball\n",
       "141. T_400m\n",
       "142. T_400m\n",
       "143. T_400m\n",
       "144. T_400m\n",
       "145. Field\n",
       "146. Field\n",
       "147. Field\n",
       "148. T_400m\n",
       "149. T_400m\n",
       "150. T_400m\n",
       "151. T_400m\n",
       "152. T_400m\n",
       "153. T_400m\n",
       "154. T_400m\n",
       "155. T_400m\n",
       "156. T_Sprnt\n",
       "157. T_Sprnt\n",
       "158. T_Sprnt\n",
       "159. Field\n",
       "160. Field\n",
       "161. Field\n",
       "162. Field\n",
       "163. Field\n",
       "164. T_Sprnt\n",
       "165. T_Sprnt\n",
       "166. T_Sprnt\n",
       "167. T_400m\n",
       "168. T_400m\n",
       "169. T_400m\n",
       "170. T_400m\n",
       "171. T_Sprnt\n",
       "172. T_Sprnt\n",
       "173. T_400m\n",
       "174. T_Sprnt\n",
       "175. T_400m\n",
       "176. T_Sprnt\n",
       "177. Field\n",
       "178. Field\n",
       "179. Field\n",
       "180. Field\n",
       "181. T_Sprnt\n",
       "182. W_Polo\n",
       "183. W_Polo\n",
       "184. W_Polo\n",
       "185. W_Polo\n",
       "186. W_Polo\n",
       "187. W_Polo\n",
       "188. W_Polo\n",
       "189. W_Polo\n",
       "190. W_Polo\n",
       "191. W_Polo\n",
       "192. W_Polo\n",
       "193. W_Polo\n",
       "194. W_Polo\n",
       "195. W_Polo\n",
       "196. W_Polo\n",
       "197. W_Polo\n",
       "198. W_Polo\n",
       "199. Tennis\n",
       "200. Tennis\n",
       "201. Tennis\n",
       "202. Tennis\n",
       "\n",
       "\n",
       "\n",
       "**Levels**: 1. 'B_Ball'\n",
       "2. 'Field'\n",
       "3. 'Gym'\n",
       "4. 'Netball'\n",
       "5. 'Row'\n",
       "6. 'Swim'\n",
       "7. 'T_400m'\n",
       "8. 'T_Sprnt'\n",
       "9. 'Tennis'\n",
       "10. 'W_Polo'\n",
       "\n",
       "\n"
      ],
      "text/plain": [
       "  [1] B_Ball  B_Ball  B_Ball  B_Ball  B_Ball  B_Ball  B_Ball  B_Ball  B_Ball \n",
       " [10] B_Ball  B_Ball  B_Ball  B_Ball  Row     Row     Row     Row     Row    \n",
       " [19] Row     Row     Row     Row     Row     Row     Row     Row     Row    \n",
       " [28] Row     Row     Row     Row     Row     Row     Row     Row     Netball\n",
       " [37] Netball Netball Netball Netball Netball Netball Netball Netball Netball\n",
       " [46] Netball Netball Netball Netball Netball Netball Netball Netball Netball\n",
       " [55] Netball Netball Netball Netball Swim    Swim    Swim    Swim    Swim   \n",
       " [64] Swim    Swim    Swim    Swim    Field   T_400m  Field   Field   Field  \n",
       " [73] Field   Field   Field   T_400m  T_Sprnt T_400m  T_400m  T_400m  T_400m \n",
       " [82] T_400m  T_400m  T_400m  T_Sprnt T_400m  T_400m  T_Sprnt T_Sprnt Tennis \n",
       " [91] Tennis  Tennis  Tennis  Tennis  Tennis  Tennis  Gym     Gym     Gym    \n",
       "[100] Gym     Swim    Swim    Swim    Swim    Swim    Swim    Swim    Swim   \n",
       "[109] Swim    Swim    Swim    Swim    Swim    Row     Row     Row     Row    \n",
       "[118] Row     Row     Row     Row     Row     Row     Row     Row     Row    \n",
       "[127] Row     Row     B_Ball  B_Ball  B_Ball  B_Ball  B_Ball  B_Ball  B_Ball \n",
       "[136] B_Ball  B_Ball  B_Ball  B_Ball  B_Ball  T_400m  T_400m  T_400m  T_400m \n",
       "[145] Field   Field   Field   T_400m  T_400m  T_400m  T_400m  T_400m  T_400m \n",
       "[154] T_400m  T_400m  T_Sprnt T_Sprnt T_Sprnt Field   Field   Field   Field  \n",
       "[163] Field   T_Sprnt T_Sprnt T_Sprnt T_400m  T_400m  T_400m  T_400m  T_Sprnt\n",
       "[172] T_Sprnt T_400m  T_Sprnt T_400m  T_Sprnt Field   Field   Field   Field  \n",
       "[181] T_Sprnt W_Polo  W_Polo  W_Polo  W_Polo  W_Polo  W_Polo  W_Polo  W_Polo \n",
       "[190] W_Polo  W_Polo  W_Polo  W_Polo  W_Polo  W_Polo  W_Polo  W_Polo  W_Polo \n",
       "[199] Tennis  Tennis  Tennis  Tennis \n",
       "Levels: B_Ball Field Gym Netball Row Swim T_400m T_Sprnt Tennis W_Polo"
      ]
     },
     "metadata": {},
     "output_type": "display_data"
    },
    {
     "data": {
      "image/png": "[encoded data removed]",
      "text/plain": [
       "plot without title"
      ]
     },
     "metadata": {
      "image/png": {
       "height": 420,
       "width": 420
      },
      "text/plain": {
       "height": 420,
       "width": 420
      }
     },
     "output_type": "display_data"
    }
   ],
   "source": [
    "par(mfrow=c(1,1))\n",
    "boxplot(bmi~sport,horizontal=T)\n",
    "sport"
   ]
  },
  {
   "cell_type": "code",
   "execution_count": 63,
   "metadata": {},
   "outputs": [
    {
     "data": {
      "image/png": "[encoded data removed]",
      "text/plain": [
       "plot without title"
      ]
     },
     "metadata": {
      "image/png": {
       "height": 420,
       "width": 420
      },
      "text/plain": {
       "height": 420,
       "width": 420
      }
     },
     "output_type": "display_data"
    }
   ],
   "source": [
    "par(mfrow=c(2,2))\n",
    "boxplot(bmi~sport)\n",
    "plot(bmi)\n",
    "plot(rcc)\n",
    "plot(hg)\n",
    "\n"
   ]
  },
  {
   "cell_type": "code",
   "execution_count": 64,
   "metadata": {},
   "outputs": [
    {
     "data": {
      "text/plain": [
       "\n",
       "Call:\n",
       "lm(formula = hg ~ hc)\n",
       "\n",
       "Coefficients:\n",
       "(Intercept)           hc  \n",
       "    -0.6723       0.3536  \n"
      ]
     },
     "metadata": {},
     "output_type": "display_data"
    },
    {
     "data": {
      "image/png": "[encoded data removed]",
      "text/plain": [
       "plot without title"
      ]
     },
     "metadata": {
      "image/png": {
       "height": 420,
       "width": 420
      },
      "text/plain": {
       "height": 420,
       "width": 420
      }
     },
     "output_type": "display_data"
    }
   ],
   "source": [
    "par(mfrow=c(2,2))\n",
    "plot(hg~hc)\n",
    "abline(hg~hc)\n",
    "lm(hg~hc)\n",
    "legend(50,13,c(\"hc\",\"hg\"), pch=\"*\", lty=c(0,1))\n",
    "legend(50,13,c(\"Observed\",\"fitted\"), pch=\"*\", lty=c(0,1))\n",
    "plot(hg~hc)\n",
    "abline(lm(hg~hc))\n",
    "legend(50,13,c(\"Observed\",\"fitted\"), pch=\"*\", lty=c(0,1))\n",
    "plot(hg~hc,pch=\"*\")\n",
    "abline(lm(hg~hc))\n",
    "legend(50,13,c(\"Observed\",\"fitted\"), pch=\"*\", lty=c(0,1))\n",
    "\n"
   ]
  },
  {
   "cell_type": "code",
   "execution_count": 66,
   "metadata": {},
   "outputs": [
    {
     "data": {
      "image/png": "[encoded data removed]",
      "text/plain": [
       "Plot with title \"Arterial pressure measurement\""
      ]
     },
     "metadata": {
      "image/png": {
       "height": 420,
       "width": 420
      },
      "text/plain": {
       "height": 420,
       "width": 420
      }
     },
     "output_type": "display_data"
    }
   ],
   "source": [
    "par(mfrow=c(2,1))\n",
    "x1=c(124,118,130,127,103,141,114)\n",
    "x2=c(75,80,95,77,68,105,84)\n",
    "plot(x1,x2)\n",
    "plot(x1,x2,xlab=\"systolic\",ylab=\"diastolic\",xlim=c(90,150),ylim=c(60,110))\n",
    "text(x1,x2,c(\"A\",\"C\",\"B\",\"D\",\"E\",\"F\",\"G\"),pos=2)\n",
    "title(main=\"Arterial pressure measurement\")\n",
    "axis(side=1,col=\"gray\",tck=1,lty=\"dotted\")\n",
    "axis(side=2,col=\"gray\",tck=1,lty=\"dotted\")\n",
    "text(x1,x2,c(\"A\",\"C\",\"B\",\"D\",\"E\",\"F\",\"G\"),pos=3,col=\"green\")\n",
    "text(x1,x2,c(\"A\",\"C\",\"B\",\"D\",\"E\",\"F\",\"G\"),pos=4,col=\"red\")\n",
    "axis(side=1,col=\"red\",tck=1,lty=\"dotted\")"
   ]
  },
  {
   "cell_type": "code",
   "execution_count": null,
   "metadata": {},
   "outputs": [],
   "source": []
  }
 ],
 "metadata": {
  "kernelspec": {
   "display_name": "R",
   "language": "R",
   "name": "ir"
  },
  "language_info": {
   "codemirror_mode": "r",
   "file_extension": ".r",
   "mimetype": "text/x-r-source",
   "name": "R",
   "pygments_lexer": "r",
   "version": "3.6.1"
  }
 },
 "nbformat": 4,
 "nbformat_minor": 2
}
